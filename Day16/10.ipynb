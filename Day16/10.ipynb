{
 "cells": [
  {
   "cell_type": "markdown",
   "metadata": {},
   "source": [
    "# Student Alcohol Consumption"
   ]
  },
  {
   "cell_type": "markdown",
   "metadata": {},
   "source": [
    "### Introduction:\n",
    "\n",
    "This time you will download a dataset from the UCI.\n",
    "\n",
    "### Step 1. Import the necessary libraries"
   ]
  },
  {
   "cell_type": "code",
   "execution_count": 1,
   "metadata": {
    "collapsed": false
   },
   "outputs": [
    {
     "name": "stderr",
     "output_type": "stream",
     "text": [
      "25/05/08 15:41:13 WARN Utils: Your hostname, neosoft-Latitude-E7270 resolves to a loopback address: 127.0.1.1; using 10.0.62.133 instead (on interface wlp1s0)\n",
      "25/05/08 15:41:13 WARN Utils: Set SPARK_LOCAL_IP if you need to bind to another address\n",
      "Setting default log level to \"WARN\".\n",
      "To adjust logging level use sc.setLogLevel(newLevel). For SparkR, use setLogLevel(newLevel).\n",
      "25/05/08 15:41:14 WARN NativeCodeLoader: Unable to load native-hadoop library for your platform... using builtin-java classes where applicable\n"
     ]
    }
   ],
   "source": [
    "from pyspark.sql import SparkSession\n",
    "\n",
    "spark = SparkSession.builder.master(\"local\").appName(\"My Application\").getOrCreate()\n",
    "\n",
    "from pyspark.sql.types import *\n",
    "from pyspark.sql.functions import *"
   ]
  },
  {
   "cell_type": "markdown",
   "metadata": {},
   "source": [
    "### Step 2. Import the dataset from this [address](https://raw.githubusercontent.com/guipsamora/pandas_exercises/master/04_Apply/Students_Alcohol_Consumption/student-mat.csv)."
   ]
  },
  {
   "cell_type": "markdown",
   "metadata": {},
   "source": [
    "### Step 3. Assign it to a variable called df."
   ]
  },
  {
   "cell_type": "code",
   "execution_count": 2,
   "metadata": {
    "collapsed": false
   },
   "outputs": [
    {
     "name": "stderr",
     "output_type": "stream",
     "text": [
      "25/05/08 15:41:27 WARN SparkStringUtils: Truncated the string representation of a plan since it was too large. This behavior can be adjusted by setting 'spark.sql.debug.maxToStringFields'.\n"
     ]
    },
    {
     "name": "stdout",
     "output_type": "stream",
     "text": [
      "+------+---+---+-------+-------+-------+----+----+--------+--------+----------+--------+----------+---------+--------+---------+------+----+----------+-------+------+--------+--------+------+--------+-----+----+----+------+--------+---+---+---+\n",
      "|school|sex|age|address|famsize|Pstatus|Medu|Fedu|    Mjob|    Fjob|    reason|guardian|traveltime|studytime|failures|schoolsup|famsup|paid|activities|nursery|higher|internet|romantic|famrel|freetime|goout|Dalc|Walc|health|absences| G1| G2| G3|\n",
      "+------+---+---+-------+-------+-------+----+----+--------+--------+----------+--------+----------+---------+--------+---------+------+----+----------+-------+------+--------+--------+------+--------+-----+----+----+------+--------+---+---+---+\n",
      "|    GP|  F| 18|      U|    GT3|      A|   4|   4| at_home| teacher|    course|  mother|         2|        2|       0|      yes|    no|  no|        no|    yes|   yes|      no|      no|     4|       3|    4|   1|   1|     3|       6|  5|  6|  6|\n",
      "|    GP|  F| 17|      U|    GT3|      T|   1|   1| at_home|   other|    course|  father|         1|        2|       0|       no|   yes|  no|        no|     no|   yes|     yes|      no|     5|       3|    3|   1|   1|     3|       4|  5|  5|  6|\n",
      "|    GP|  F| 15|      U|    LE3|      T|   1|   1| at_home|   other|     other|  mother|         1|        2|       3|      yes|    no| yes|        no|    yes|   yes|     yes|      no|     4|       3|    2|   2|   3|     3|      10|  7|  8| 10|\n",
      "|    GP|  F| 15|      U|    GT3|      T|   4|   2|  health|services|      home|  mother|         1|        3|       0|       no|   yes| yes|       yes|    yes|   yes|     yes|     yes|     3|       2|    2|   1|   1|     5|       2| 15| 14| 15|\n",
      "|    GP|  F| 16|      U|    GT3|      T|   3|   3|   other|   other|      home|  father|         1|        2|       0|       no|   yes| yes|        no|    yes|   yes|      no|      no|     4|       3|    2|   1|   2|     5|       4|  6| 10| 10|\n",
      "|    GP|  M| 16|      U|    LE3|      T|   4|   3|services|   other|reputation|  mother|         1|        2|       0|       no|   yes| yes|       yes|    yes|   yes|     yes|      no|     5|       4|    2|   1|   2|     5|      10| 15| 15| 15|\n",
      "|    GP|  M| 16|      U|    LE3|      T|   2|   2|   other|   other|      home|  mother|         1|        2|       0|       no|    no|  no|        no|    yes|   yes|     yes|      no|     4|       4|    4|   1|   1|     3|       0| 12| 12| 11|\n",
      "|    GP|  F| 17|      U|    GT3|      A|   4|   4|   other| teacher|      home|  mother|         2|        2|       0|      yes|   yes|  no|        no|    yes|   yes|      no|      no|     4|       1|    4|   1|   1|     1|       6|  6|  5|  6|\n",
      "|    GP|  M| 15|      U|    LE3|      A|   3|   2|services|   other|      home|  mother|         1|        2|       0|       no|   yes| yes|        no|    yes|   yes|     yes|      no|     4|       2|    2|   1|   1|     1|       0| 16| 18| 19|\n",
      "|    GP|  M| 15|      U|    GT3|      T|   3|   4|   other|   other|      home|  mother|         1|        2|       0|       no|   yes| yes|       yes|    yes|   yes|     yes|      no|     5|       5|    1|   1|   1|     5|       0| 14| 15| 15|\n",
      "|    GP|  F| 15|      U|    GT3|      T|   4|   4| teacher|  health|reputation|  mother|         1|        2|       0|       no|   yes| yes|        no|    yes|   yes|     yes|      no|     3|       3|    3|   1|   2|     2|       0| 10|  8|  9|\n",
      "|    GP|  F| 15|      U|    GT3|      T|   2|   1|services|   other|reputation|  father|         3|        3|       0|       no|   yes|  no|       yes|    yes|   yes|     yes|      no|     5|       2|    2|   1|   1|     4|       4| 10| 12| 12|\n",
      "|    GP|  M| 15|      U|    LE3|      T|   4|   4|  health|services|    course|  father|         1|        1|       0|       no|   yes| yes|       yes|    yes|   yes|     yes|      no|     4|       3|    3|   1|   3|     5|       2| 14| 14| 14|\n",
      "|    GP|  M| 15|      U|    GT3|      T|   4|   3| teacher|   other|    course|  mother|         2|        2|       0|       no|   yes| yes|        no|    yes|   yes|     yes|      no|     5|       4|    3|   1|   2|     3|       2| 10| 10| 11|\n",
      "|    GP|  M| 15|      U|    GT3|      A|   2|   2|   other|   other|      home|   other|         1|        3|       0|       no|   yes|  no|        no|    yes|   yes|     yes|     yes|     4|       5|    2|   1|   1|     3|       0| 14| 16| 16|\n",
      "|    GP|  F| 16|      U|    GT3|      T|   4|   4|  health|   other|      home|  mother|         1|        1|       0|       no|   yes|  no|        no|    yes|   yes|     yes|      no|     4|       4|    4|   1|   2|     2|       4| 14| 14| 14|\n",
      "|    GP|  F| 16|      U|    GT3|      T|   4|   4|services|services|reputation|  mother|         1|        3|       0|       no|   yes| yes|       yes|    yes|   yes|     yes|      no|     3|       2|    3|   1|   2|     2|       6| 13| 14| 14|\n",
      "|    GP|  F| 16|      U|    GT3|      T|   3|   3|   other|   other|reputation|  mother|         3|        2|       0|      yes|   yes|  no|       yes|    yes|   yes|      no|      no|     5|       3|    2|   1|   1|     4|       4|  8| 10| 10|\n",
      "|    GP|  M| 17|      U|    GT3|      T|   3|   2|services|services|    course|  mother|         1|        1|       3|       no|   yes|  no|       yes|    yes|   yes|     yes|      no|     5|       5|    5|   2|   4|     5|      16|  6|  5|  5|\n",
      "|    GP|  M| 16|      U|    LE3|      T|   4|   3|  health|   other|      home|  father|         1|        1|       0|       no|    no| yes|       yes|    yes|   yes|     yes|      no|     3|       1|    3|   1|   3|     5|       4|  8| 10| 10|\n",
      "+------+---+---+-------+-------+-------+----+----+--------+--------+----------+--------+----------+---------+--------+---------+------+----+----------+-------+------+--------+--------+------+--------+-----+----+----+------+--------+---+---+---+\n",
      "only showing top 20 rows\n",
      "\n"
     ]
    }
   ],
   "source": [
    "df = spark.read.format(\"csv\")\\\n",
    "    .option(\"header\", \"true\")\\\n",
    "        .option(\"inferSchema\", \"true\")\\\n",
    "            .load(\"student-mat.csv\")\n",
    "\n",
    "df.show()"
   ]
  },
  {
   "cell_type": "markdown",
   "metadata": {},
   "source": [
    "### Step 4. For the purpose of this exercise slice the dataframe from 'school' until the 'guardian' column"
   ]
  },
  {
   "cell_type": "code",
   "execution_count": 3,
   "metadata": {
    "collapsed": false
   },
   "outputs": [
    {
     "name": "stdout",
     "output_type": "stream",
     "text": [
      "+------+---+---+-------+-------+-------+----+----+--------+--------+----------+--------+\n",
      "|school|sex|age|address|famsize|Pstatus|Medu|Fedu|    Mjob|    Fjob|    reason|guardian|\n",
      "+------+---+---+-------+-------+-------+----+----+--------+--------+----------+--------+\n",
      "|    GP|  F| 18|      U|    GT3|      A|   4|   4| at_home| teacher|    course|  mother|\n",
      "|    GP|  F| 17|      U|    GT3|      T|   1|   1| at_home|   other|    course|  father|\n",
      "|    GP|  F| 15|      U|    LE3|      T|   1|   1| at_home|   other|     other|  mother|\n",
      "|    GP|  F| 15|      U|    GT3|      T|   4|   2|  health|services|      home|  mother|\n",
      "|    GP|  F| 16|      U|    GT3|      T|   3|   3|   other|   other|      home|  father|\n",
      "|    GP|  M| 16|      U|    LE3|      T|   4|   3|services|   other|reputation|  mother|\n",
      "|    GP|  M| 16|      U|    LE3|      T|   2|   2|   other|   other|      home|  mother|\n",
      "|    GP|  F| 17|      U|    GT3|      A|   4|   4|   other| teacher|      home|  mother|\n",
      "|    GP|  M| 15|      U|    LE3|      A|   3|   2|services|   other|      home|  mother|\n",
      "|    GP|  M| 15|      U|    GT3|      T|   3|   4|   other|   other|      home|  mother|\n",
      "|    GP|  F| 15|      U|    GT3|      T|   4|   4| teacher|  health|reputation|  mother|\n",
      "|    GP|  F| 15|      U|    GT3|      T|   2|   1|services|   other|reputation|  father|\n",
      "|    GP|  M| 15|      U|    LE3|      T|   4|   4|  health|services|    course|  father|\n",
      "|    GP|  M| 15|      U|    GT3|      T|   4|   3| teacher|   other|    course|  mother|\n",
      "|    GP|  M| 15|      U|    GT3|      A|   2|   2|   other|   other|      home|   other|\n",
      "|    GP|  F| 16|      U|    GT3|      T|   4|   4|  health|   other|      home|  mother|\n",
      "|    GP|  F| 16|      U|    GT3|      T|   4|   4|services|services|reputation|  mother|\n",
      "|    GP|  F| 16|      U|    GT3|      T|   3|   3|   other|   other|reputation|  mother|\n",
      "|    GP|  M| 17|      U|    GT3|      T|   3|   2|services|services|    course|  mother|\n",
      "|    GP|  M| 16|      U|    LE3|      T|   4|   3|  health|   other|      home|  father|\n",
      "+------+---+---+-------+-------+-------+----+----+--------+--------+----------+--------+\n",
      "only showing top 20 rows\n",
      "\n"
     ]
    }
   ],
   "source": [
    "columns = df.columns\n",
    "start_index = columns.index(\"school\")\n",
    "end_index = columns.index(\"guardian\")+1\n",
    "selected_columns = columns[start_index:end_index]\n",
    "df.select(selected_columns).show()\n"
   ]
  },
  {
   "cell_type": "markdown",
   "metadata": {},
   "source": [
    "### Step 5. Create a lambda function that will capitalize strings."
   ]
  },
  {
   "cell_type": "code",
   "execution_count": 4,
   "metadata": {
    "collapsed": false
   },
   "outputs": [
    {
     "name": "stderr",
     "output_type": "stream",
     "text": [
      "[Stage 4:>                                                          (0 + 1) / 1]\r"
     ]
    },
    {
     "name": "stdout",
     "output_type": "stream",
     "text": [
      "+------+-------+--------+\n",
      "|school|address|guardian|\n",
      "+------+-------+--------+\n",
      "|    Gp|      U|  Mother|\n",
      "|    Gp|      U|  Father|\n",
      "|    Gp|      U|  Mother|\n",
      "|    Gp|      U|  Mother|\n",
      "|    Gp|      U|  Father|\n",
      "|    Gp|      U|  Mother|\n",
      "|    Gp|      U|  Mother|\n",
      "|    Gp|      U|  Mother|\n",
      "|    Gp|      U|  Mother|\n",
      "|    Gp|      U|  Mother|\n",
      "|    Gp|      U|  Mother|\n",
      "|    Gp|      U|  Father|\n",
      "|    Gp|      U|  Father|\n",
      "|    Gp|      U|  Mother|\n",
      "|    Gp|      U|   Other|\n",
      "|    Gp|      U|  Mother|\n",
      "|    Gp|      U|  Mother|\n",
      "|    Gp|      U|  Mother|\n",
      "|    Gp|      U|  Mother|\n",
      "|    Gp|      U|  Father|\n",
      "+------+-------+--------+\n",
      "only showing top 20 rows\n",
      "\n"
     ]
    },
    {
     "name": "stderr",
     "output_type": "stream",
     "text": [
      "                                                                                \r"
     ]
    }
   ],
   "source": [
    "capitalize = udf(lambda x: x.capitalize())\n",
    "df.select(\n",
    "    capitalize(\"school\").alias(\"school\"),\n",
    "    capitalize(\"address\").alias(\"address\"),\n",
    "    capitalize(\"guardian\").alias(\"guardian\")\n",
    ").show()"
   ]
  },
  {
   "cell_type": "markdown",
   "metadata": {},
   "source": [
    "### Step 6. Capitalize both Mjob and Fjob"
   ]
  },
  {
   "cell_type": "code",
   "execution_count": 5,
   "metadata": {
    "collapsed": false
   },
   "outputs": [
    {
     "name": "stdout",
     "output_type": "stream",
     "text": [
      "+--------------+--------------+\n",
      "|<lambda>(Mjob)|<lambda>(Fjob)|\n",
      "+--------------+--------------+\n",
      "|       At_home|       Teacher|\n",
      "|       At_home|         Other|\n",
      "|       At_home|         Other|\n",
      "|        Health|      Services|\n",
      "|         Other|         Other|\n",
      "|      Services|         Other|\n",
      "|         Other|         Other|\n",
      "|         Other|       Teacher|\n",
      "|      Services|         Other|\n",
      "|         Other|         Other|\n",
      "|       Teacher|        Health|\n",
      "|      Services|         Other|\n",
      "|        Health|      Services|\n",
      "|       Teacher|         Other|\n",
      "|         Other|         Other|\n",
      "|        Health|         Other|\n",
      "|      Services|      Services|\n",
      "|         Other|         Other|\n",
      "|      Services|      Services|\n",
      "|        Health|         Other|\n",
      "+--------------+--------------+\n",
      "only showing top 20 rows\n",
      "\n"
     ]
    }
   ],
   "source": [
    "df.select(capitalize(\"Mjob\"),capitalize(\"Fjob\")).show()"
   ]
  },
  {
   "cell_type": "markdown",
   "metadata": {},
   "source": [
    "### Step 7. Print the last elements of the data set."
   ]
  },
  {
   "cell_type": "code",
   "execution_count": 6,
   "metadata": {
    "collapsed": false
   },
   "outputs": [
    {
     "data": {
      "text/plain": [
       "9"
      ]
     },
     "execution_count": 6,
     "metadata": {},
     "output_type": "execute_result"
    }
   ],
   "source": [
    "c = df.select(df.columns[-1])\n",
    "c.collect()[-1][0]"
   ]
  },
  {
   "cell_type": "markdown",
   "metadata": {},
   "source": [
    "### Step 8. Did you notice the original dataframe is still lowercase? Why is that? Fix it and capitalize Mjob and Fjob."
   ]
  },
  {
   "cell_type": "code",
   "execution_count": 7,
   "metadata": {
    "collapsed": false
   },
   "outputs": [
    {
     "name": "stdout",
     "output_type": "stream",
     "text": [
      "+------+---+---+-------+-------+-------+----+----+----------+--------+----------+---------+--------+---------+------+----+----------+-------+------+--------+--------+------+--------+-----+----+----+------+--------+---+---+---+--------+--------+\n",
      "|school|sex|age|address|famsize|Pstatus|Medu|Fedu|    reason|guardian|traveltime|studytime|failures|schoolsup|famsup|paid|activities|nursery|higher|internet|romantic|famrel|freetime|goout|Dalc|Walc|health|absences| G1| G2| G3|new_Mjob|new_Fjob|\n",
      "+------+---+---+-------+-------+-------+----+----+----------+--------+----------+---------+--------+---------+------+----+----------+-------+------+--------+--------+------+--------+-----+----+----+------+--------+---+---+---+--------+--------+\n",
      "|    GP|  F| 18|      U|    GT3|      A|   4|   4|    course|  mother|         2|        2|       0|      yes|    no|  no|        no|    yes|   yes|      no|      no|     4|       3|    4|   1|   1|     3|       6|  5|  6|  6| At_home| Teacher|\n",
      "|    GP|  F| 17|      U|    GT3|      T|   1|   1|    course|  father|         1|        2|       0|       no|   yes|  no|        no|     no|   yes|     yes|      no|     5|       3|    3|   1|   1|     3|       4|  5|  5|  6| At_home|   Other|\n",
      "|    GP|  F| 15|      U|    LE3|      T|   1|   1|     other|  mother|         1|        2|       3|      yes|    no| yes|        no|    yes|   yes|     yes|      no|     4|       3|    2|   2|   3|     3|      10|  7|  8| 10| At_home|   Other|\n",
      "|    GP|  F| 15|      U|    GT3|      T|   4|   2|      home|  mother|         1|        3|       0|       no|   yes| yes|       yes|    yes|   yes|     yes|     yes|     3|       2|    2|   1|   1|     5|       2| 15| 14| 15|  Health|Services|\n",
      "|    GP|  F| 16|      U|    GT3|      T|   3|   3|      home|  father|         1|        2|       0|       no|   yes| yes|        no|    yes|   yes|      no|      no|     4|       3|    2|   1|   2|     5|       4|  6| 10| 10|   Other|   Other|\n",
      "|    GP|  M| 16|      U|    LE3|      T|   4|   3|reputation|  mother|         1|        2|       0|       no|   yes| yes|       yes|    yes|   yes|     yes|      no|     5|       4|    2|   1|   2|     5|      10| 15| 15| 15|Services|   Other|\n",
      "|    GP|  M| 16|      U|    LE3|      T|   2|   2|      home|  mother|         1|        2|       0|       no|    no|  no|        no|    yes|   yes|     yes|      no|     4|       4|    4|   1|   1|     3|       0| 12| 12| 11|   Other|   Other|\n",
      "|    GP|  F| 17|      U|    GT3|      A|   4|   4|      home|  mother|         2|        2|       0|      yes|   yes|  no|        no|    yes|   yes|      no|      no|     4|       1|    4|   1|   1|     1|       6|  6|  5|  6|   Other| Teacher|\n",
      "|    GP|  M| 15|      U|    LE3|      A|   3|   2|      home|  mother|         1|        2|       0|       no|   yes| yes|        no|    yes|   yes|     yes|      no|     4|       2|    2|   1|   1|     1|       0| 16| 18| 19|Services|   Other|\n",
      "|    GP|  M| 15|      U|    GT3|      T|   3|   4|      home|  mother|         1|        2|       0|       no|   yes| yes|       yes|    yes|   yes|     yes|      no|     5|       5|    1|   1|   1|     5|       0| 14| 15| 15|   Other|   Other|\n",
      "|    GP|  F| 15|      U|    GT3|      T|   4|   4|reputation|  mother|         1|        2|       0|       no|   yes| yes|        no|    yes|   yes|     yes|      no|     3|       3|    3|   1|   2|     2|       0| 10|  8|  9| Teacher|  Health|\n",
      "|    GP|  F| 15|      U|    GT3|      T|   2|   1|reputation|  father|         3|        3|       0|       no|   yes|  no|       yes|    yes|   yes|     yes|      no|     5|       2|    2|   1|   1|     4|       4| 10| 12| 12|Services|   Other|\n",
      "|    GP|  M| 15|      U|    LE3|      T|   4|   4|    course|  father|         1|        1|       0|       no|   yes| yes|       yes|    yes|   yes|     yes|      no|     4|       3|    3|   1|   3|     5|       2| 14| 14| 14|  Health|Services|\n",
      "|    GP|  M| 15|      U|    GT3|      T|   4|   3|    course|  mother|         2|        2|       0|       no|   yes| yes|        no|    yes|   yes|     yes|      no|     5|       4|    3|   1|   2|     3|       2| 10| 10| 11| Teacher|   Other|\n",
      "|    GP|  M| 15|      U|    GT3|      A|   2|   2|      home|   other|         1|        3|       0|       no|   yes|  no|        no|    yes|   yes|     yes|     yes|     4|       5|    2|   1|   1|     3|       0| 14| 16| 16|   Other|   Other|\n",
      "|    GP|  F| 16|      U|    GT3|      T|   4|   4|      home|  mother|         1|        1|       0|       no|   yes|  no|        no|    yes|   yes|     yes|      no|     4|       4|    4|   1|   2|     2|       4| 14| 14| 14|  Health|   Other|\n",
      "|    GP|  F| 16|      U|    GT3|      T|   4|   4|reputation|  mother|         1|        3|       0|       no|   yes| yes|       yes|    yes|   yes|     yes|      no|     3|       2|    3|   1|   2|     2|       6| 13| 14| 14|Services|Services|\n",
      "|    GP|  F| 16|      U|    GT3|      T|   3|   3|reputation|  mother|         3|        2|       0|      yes|   yes|  no|       yes|    yes|   yes|      no|      no|     5|       3|    2|   1|   1|     4|       4|  8| 10| 10|   Other|   Other|\n",
      "|    GP|  M| 17|      U|    GT3|      T|   3|   2|    course|  mother|         1|        1|       3|       no|   yes|  no|       yes|    yes|   yes|     yes|      no|     5|       5|    5|   2|   4|     5|      16|  6|  5|  5|Services|Services|\n",
      "|    GP|  M| 16|      U|    LE3|      T|   4|   3|      home|  father|         1|        1|       0|       no|    no| yes|       yes|    yes|   yes|     yes|      no|     3|       1|    3|   1|   3|     5|       4|  8| 10| 10|  Health|   Other|\n",
      "+------+---+---+-------+-------+-------+----+----+----------+--------+----------+---------+--------+---------+------+----+----------+-------+------+--------+--------+------+--------+-----+----+----+------+--------+---+---+---+--------+--------+\n",
      "only showing top 20 rows\n",
      "\n"
     ]
    }
   ],
   "source": [
    "cap_df = df.select(\"*\",capitalize(\"Mjob\").alias(\"new_Mjob\"), capitalize(\"Fjob\").alias(\"new_Fjob\")).drop(\"Mjob\", \"Fjob\")\n",
    "\n",
    "cap_df.show()"
   ]
  },
  {
   "cell_type": "markdown",
   "metadata": {},
   "source": [
    "### Step 9. Create a function called majority that returns a boolean value to a new column called legal_drinker (Consider majority as older than 17 years old)"
   ]
  },
  {
   "cell_type": "code",
   "execution_count": 9,
   "metadata": {
    "collapsed": false
   },
   "outputs": [
    {
     "name": "stderr",
     "output_type": "stream",
     "text": [
      "                                                                                \r"
     ]
    },
    {
     "name": "stdout",
     "output_type": "stream",
     "text": [
      "+------+---+---+-------+-------+-------+----+----+--------+--------+----------+--------+----------+---------+--------+---------+------+----+----------+-------+------+--------+--------+------+--------+-----+----+----+------+--------+---+---+---+-------------+\n",
      "|school|sex|age|address|famsize|Pstatus|Medu|Fedu|    Mjob|    Fjob|    reason|guardian|traveltime|studytime|failures|schoolsup|famsup|paid|activities|nursery|higher|internet|romantic|famrel|freetime|goout|Dalc|Walc|health|absences| G1| G2| G3|legal_drinker|\n",
      "+------+---+---+-------+-------+-------+----+----+--------+--------+----------+--------+----------+---------+--------+---------+------+----+----------+-------+------+--------+--------+------+--------+-----+----+----+------+--------+---+---+---+-------------+\n",
      "|    GP|  F| 18|      U|    GT3|      A|   4|   4| at_home| teacher|    course|  mother|         2|        2|       0|      yes|    no|  no|        no|    yes|   yes|      no|      no|     4|       3|    4|   1|   1|     3|       6|  5|  6|  6|         true|\n",
      "|    GP|  F| 17|      U|    GT3|      T|   1|   1| at_home|   other|    course|  father|         1|        2|       0|       no|   yes|  no|        no|     no|   yes|     yes|      no|     5|       3|    3|   1|   1|     3|       4|  5|  5|  6|        false|\n",
      "|    GP|  F| 15|      U|    LE3|      T|   1|   1| at_home|   other|     other|  mother|         1|        2|       3|      yes|    no| yes|        no|    yes|   yes|     yes|      no|     4|       3|    2|   2|   3|     3|      10|  7|  8| 10|        false|\n",
      "|    GP|  F| 15|      U|    GT3|      T|   4|   2|  health|services|      home|  mother|         1|        3|       0|       no|   yes| yes|       yes|    yes|   yes|     yes|     yes|     3|       2|    2|   1|   1|     5|       2| 15| 14| 15|        false|\n",
      "|    GP|  F| 16|      U|    GT3|      T|   3|   3|   other|   other|      home|  father|         1|        2|       0|       no|   yes| yes|        no|    yes|   yes|      no|      no|     4|       3|    2|   1|   2|     5|       4|  6| 10| 10|        false|\n",
      "|    GP|  M| 16|      U|    LE3|      T|   4|   3|services|   other|reputation|  mother|         1|        2|       0|       no|   yes| yes|       yes|    yes|   yes|     yes|      no|     5|       4|    2|   1|   2|     5|      10| 15| 15| 15|        false|\n",
      "|    GP|  M| 16|      U|    LE3|      T|   2|   2|   other|   other|      home|  mother|         1|        2|       0|       no|    no|  no|        no|    yes|   yes|     yes|      no|     4|       4|    4|   1|   1|     3|       0| 12| 12| 11|        false|\n",
      "|    GP|  F| 17|      U|    GT3|      A|   4|   4|   other| teacher|      home|  mother|         2|        2|       0|      yes|   yes|  no|        no|    yes|   yes|      no|      no|     4|       1|    4|   1|   1|     1|       6|  6|  5|  6|        false|\n",
      "|    GP|  M| 15|      U|    LE3|      A|   3|   2|services|   other|      home|  mother|         1|        2|       0|       no|   yes| yes|        no|    yes|   yes|     yes|      no|     4|       2|    2|   1|   1|     1|       0| 16| 18| 19|        false|\n",
      "|    GP|  M| 15|      U|    GT3|      T|   3|   4|   other|   other|      home|  mother|         1|        2|       0|       no|   yes| yes|       yes|    yes|   yes|     yes|      no|     5|       5|    1|   1|   1|     5|       0| 14| 15| 15|        false|\n",
      "|    GP|  F| 15|      U|    GT3|      T|   4|   4| teacher|  health|reputation|  mother|         1|        2|       0|       no|   yes| yes|        no|    yes|   yes|     yes|      no|     3|       3|    3|   1|   2|     2|       0| 10|  8|  9|        false|\n",
      "|    GP|  F| 15|      U|    GT3|      T|   2|   1|services|   other|reputation|  father|         3|        3|       0|       no|   yes|  no|       yes|    yes|   yes|     yes|      no|     5|       2|    2|   1|   1|     4|       4| 10| 12| 12|        false|\n",
      "|    GP|  M| 15|      U|    LE3|      T|   4|   4|  health|services|    course|  father|         1|        1|       0|       no|   yes| yes|       yes|    yes|   yes|     yes|      no|     4|       3|    3|   1|   3|     5|       2| 14| 14| 14|        false|\n",
      "|    GP|  M| 15|      U|    GT3|      T|   4|   3| teacher|   other|    course|  mother|         2|        2|       0|       no|   yes| yes|        no|    yes|   yes|     yes|      no|     5|       4|    3|   1|   2|     3|       2| 10| 10| 11|        false|\n",
      "|    GP|  M| 15|      U|    GT3|      A|   2|   2|   other|   other|      home|   other|         1|        3|       0|       no|   yes|  no|        no|    yes|   yes|     yes|     yes|     4|       5|    2|   1|   1|     3|       0| 14| 16| 16|        false|\n",
      "|    GP|  F| 16|      U|    GT3|      T|   4|   4|  health|   other|      home|  mother|         1|        1|       0|       no|   yes|  no|        no|    yes|   yes|     yes|      no|     4|       4|    4|   1|   2|     2|       4| 14| 14| 14|        false|\n",
      "|    GP|  F| 16|      U|    GT3|      T|   4|   4|services|services|reputation|  mother|         1|        3|       0|       no|   yes| yes|       yes|    yes|   yes|     yes|      no|     3|       2|    3|   1|   2|     2|       6| 13| 14| 14|        false|\n",
      "|    GP|  F| 16|      U|    GT3|      T|   3|   3|   other|   other|reputation|  mother|         3|        2|       0|      yes|   yes|  no|       yes|    yes|   yes|      no|      no|     5|       3|    2|   1|   1|     4|       4|  8| 10| 10|        false|\n",
      "|    GP|  M| 17|      U|    GT3|      T|   3|   2|services|services|    course|  mother|         1|        1|       3|       no|   yes|  no|       yes|    yes|   yes|     yes|      no|     5|       5|    5|   2|   4|     5|      16|  6|  5|  5|        false|\n",
      "|    GP|  M| 16|      U|    LE3|      T|   4|   3|  health|   other|      home|  father|         1|        1|       0|       no|    no| yes|       yes|    yes|   yes|     yes|      no|     3|       1|    3|   1|   3|     5|       4|  8| 10| 10|        false|\n",
      "+------+---+---+-------+-------+-------+----+----+--------+--------+----------+--------+----------+---------+--------+---------+------+----+----------+-------+------+--------+--------+------+--------+-----+----+----+------+--------+---+---+---+-------------+\n",
      "only showing top 20 rows\n",
      "\n"
     ]
    }
   ],
   "source": [
    "majority = udf(lambda x:True if x >= 18 else False)\n",
    "\n",
    "df = df.withColumn(\"legal_drinker\", majority(df[\"age\"]))\n",
    "df.show()"
   ]
  },
  {
   "cell_type": "markdown",
   "metadata": {},
   "source": [
    "### Step 10. Multiply every number of the dataset by 10. \n",
    "##### I know this makes no sense, don't forget it is just an exercise"
   ]
  },
  {
   "cell_type": "code",
   "execution_count": 14,
   "metadata": {
    "collapsed": false
   },
   "outputs": [
    {
     "name": "stdout",
     "output_type": "stream",
     "text": [
      "+------+----+---+-------+-------+-------+----+----+----+----+------+--------+----------+---------+--------+---------+------+----+----------+-------+------+--------+--------+------+--------+-----+----+----+------+--------+---+---+---+-------------+\n",
      "|school| sex|age|address|famsize|Pstatus|Medu|Fedu|Mjob|Fjob|reason|guardian|traveltime|studytime|failures|schoolsup|famsup|paid|activities|nursery|higher|internet|romantic|famrel|freetime|goout|Dalc|Walc|health|absences| G1| G2| G3|legal_drinker|\n",
      "+------+----+---+-------+-------+-------+----+----+----+----+------+--------+----------+---------+--------+---------+------+----+----------+-------+------+--------+--------+------+--------+-----+----+----+------+--------+---+---+---+-------------+\n",
      "|  NULL|NULL|180|   NULL|   NULL|   NULL|  40|  40|NULL|NULL|  NULL|    NULL|        20|       20|       0|     NULL|  NULL|NULL|      NULL|   NULL|  NULL|    NULL|    NULL|    40|      30|   40|  10|  10|    30|      60| 50| 60| 60|         NULL|\n",
      "|  NULL|NULL|170|   NULL|   NULL|   NULL|  10|  10|NULL|NULL|  NULL|    NULL|        10|       20|       0|     NULL|  NULL|NULL|      NULL|   NULL|  NULL|    NULL|    NULL|    50|      30|   30|  10|  10|    30|      40| 50| 50| 60|         NULL|\n",
      "|  NULL|NULL|150|   NULL|   NULL|   NULL|  10|  10|NULL|NULL|  NULL|    NULL|        10|       20|      30|     NULL|  NULL|NULL|      NULL|   NULL|  NULL|    NULL|    NULL|    40|      30|   20|  20|  30|    30|     100| 70| 80|100|         NULL|\n",
      "|  NULL|NULL|150|   NULL|   NULL|   NULL|  40|  20|NULL|NULL|  NULL|    NULL|        10|       30|       0|     NULL|  NULL|NULL|      NULL|   NULL|  NULL|    NULL|    NULL|    30|      20|   20|  10|  10|    50|      20|150|140|150|         NULL|\n",
      "|  NULL|NULL|160|   NULL|   NULL|   NULL|  30|  30|NULL|NULL|  NULL|    NULL|        10|       20|       0|     NULL|  NULL|NULL|      NULL|   NULL|  NULL|    NULL|    NULL|    40|      30|   20|  10|  20|    50|      40| 60|100|100|         NULL|\n",
      "|  NULL|NULL|160|   NULL|   NULL|   NULL|  40|  30|NULL|NULL|  NULL|    NULL|        10|       20|       0|     NULL|  NULL|NULL|      NULL|   NULL|  NULL|    NULL|    NULL|    50|      40|   20|  10|  20|    50|     100|150|150|150|         NULL|\n",
      "|  NULL|NULL|160|   NULL|   NULL|   NULL|  20|  20|NULL|NULL|  NULL|    NULL|        10|       20|       0|     NULL|  NULL|NULL|      NULL|   NULL|  NULL|    NULL|    NULL|    40|      40|   40|  10|  10|    30|       0|120|120|110|         NULL|\n",
      "|  NULL|NULL|170|   NULL|   NULL|   NULL|  40|  40|NULL|NULL|  NULL|    NULL|        20|       20|       0|     NULL|  NULL|NULL|      NULL|   NULL|  NULL|    NULL|    NULL|    40|      10|   40|  10|  10|    10|      60| 60| 50| 60|         NULL|\n",
      "|  NULL|NULL|150|   NULL|   NULL|   NULL|  30|  20|NULL|NULL|  NULL|    NULL|        10|       20|       0|     NULL|  NULL|NULL|      NULL|   NULL|  NULL|    NULL|    NULL|    40|      20|   20|  10|  10|    10|       0|160|180|190|         NULL|\n",
      "|  NULL|NULL|150|   NULL|   NULL|   NULL|  30|  40|NULL|NULL|  NULL|    NULL|        10|       20|       0|     NULL|  NULL|NULL|      NULL|   NULL|  NULL|    NULL|    NULL|    50|      50|   10|  10|  10|    50|       0|140|150|150|         NULL|\n",
      "|  NULL|NULL|150|   NULL|   NULL|   NULL|  40|  40|NULL|NULL|  NULL|    NULL|        10|       20|       0|     NULL|  NULL|NULL|      NULL|   NULL|  NULL|    NULL|    NULL|    30|      30|   30|  10|  20|    20|       0|100| 80| 90|         NULL|\n",
      "|  NULL|NULL|150|   NULL|   NULL|   NULL|  20|  10|NULL|NULL|  NULL|    NULL|        30|       30|       0|     NULL|  NULL|NULL|      NULL|   NULL|  NULL|    NULL|    NULL|    50|      20|   20|  10|  10|    40|      40|100|120|120|         NULL|\n",
      "|  NULL|NULL|150|   NULL|   NULL|   NULL|  40|  40|NULL|NULL|  NULL|    NULL|        10|       10|       0|     NULL|  NULL|NULL|      NULL|   NULL|  NULL|    NULL|    NULL|    40|      30|   30|  10|  30|    50|      20|140|140|140|         NULL|\n",
      "|  NULL|NULL|150|   NULL|   NULL|   NULL|  40|  30|NULL|NULL|  NULL|    NULL|        20|       20|       0|     NULL|  NULL|NULL|      NULL|   NULL|  NULL|    NULL|    NULL|    50|      40|   30|  10|  20|    30|      20|100|100|110|         NULL|\n",
      "|  NULL|NULL|150|   NULL|   NULL|   NULL|  20|  20|NULL|NULL|  NULL|    NULL|        10|       30|       0|     NULL|  NULL|NULL|      NULL|   NULL|  NULL|    NULL|    NULL|    40|      50|   20|  10|  10|    30|       0|140|160|160|         NULL|\n",
      "|  NULL|NULL|160|   NULL|   NULL|   NULL|  40|  40|NULL|NULL|  NULL|    NULL|        10|       10|       0|     NULL|  NULL|NULL|      NULL|   NULL|  NULL|    NULL|    NULL|    40|      40|   40|  10|  20|    20|      40|140|140|140|         NULL|\n",
      "|  NULL|NULL|160|   NULL|   NULL|   NULL|  40|  40|NULL|NULL|  NULL|    NULL|        10|       30|       0|     NULL|  NULL|NULL|      NULL|   NULL|  NULL|    NULL|    NULL|    30|      20|   30|  10|  20|    20|      60|130|140|140|         NULL|\n",
      "|  NULL|NULL|160|   NULL|   NULL|   NULL|  30|  30|NULL|NULL|  NULL|    NULL|        30|       20|       0|     NULL|  NULL|NULL|      NULL|   NULL|  NULL|    NULL|    NULL|    50|      30|   20|  10|  10|    40|      40| 80|100|100|         NULL|\n",
      "|  NULL|NULL|170|   NULL|   NULL|   NULL|  30|  20|NULL|NULL|  NULL|    NULL|        10|       10|      30|     NULL|  NULL|NULL|      NULL|   NULL|  NULL|    NULL|    NULL|    50|      50|   50|  20|  40|    50|     160| 60| 50| 50|         NULL|\n",
      "|  NULL|NULL|160|   NULL|   NULL|   NULL|  40|  30|NULL|NULL|  NULL|    NULL|        10|       10|       0|     NULL|  NULL|NULL|      NULL|   NULL|  NULL|    NULL|    NULL|    30|      10|   30|  10|  30|    50|      40| 80|100|100|         NULL|\n",
      "+------+----+---+-------+-------+-------+----+----+----+----+------+--------+----------+---------+--------+---------+------+----+----------+-------+------+--------+--------+------+--------+-----+----+----+------+--------+---+---+---+-------------+\n",
      "only showing top 20 rows\n",
      "\n"
     ]
    }
   ],
   "source": [
    "df.select([ \n",
    "    (col(c) * 10).alias(c) for c in df.columns \n",
    "]).show()\n"
   ]
  },
  {
   "cell_type": "code",
   "execution_count": null,
   "metadata": {
    "collapsed": false
   },
   "outputs": [],
   "source": []
  }
 ],
 "metadata": {
  "anaconda-cloud": {},
  "kernelspec": {
   "display_name": "Python 3",
   "language": "python",
   "name": "python3"
  },
  "language_info": {
   "codemirror_mode": {
    "name": "ipython",
    "version": 3
   },
   "file_extension": ".py",
   "mimetype": "text/x-python",
   "name": "python",
   "nbconvert_exporter": "python",
   "pygments_lexer": "ipython3",
   "version": "3.8.10"
  }
 },
 "nbformat": 4,
 "nbformat_minor": 0
}
