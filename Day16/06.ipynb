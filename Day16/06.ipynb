{
 "cells": [
  {
   "cell_type": "markdown",
   "metadata": {},
   "source": [
    "# Fictional Army - Filtering and Sorting"
   ]
  },
  {
   "cell_type": "markdown",
   "metadata": {},
   "source": [
    "### Introduction:\n",
    "\n",
    "This exercise was inspired by this [page](http://chrisalbon.com/python/)\n",
    "\n",
    "Special thanks to: https://github.com/chrisalbon for sharing the dataset and materials.\n",
    "\n",
    "### Step 1. Import the necessary libraries"
   ]
  },
  {
   "cell_type": "code",
   "execution_count": 1,
   "metadata": {},
   "outputs": [
    {
     "name": "stderr",
     "output_type": "stream",
     "text": [
      "25/05/08 11:05:19 WARN Utils: Your hostname, neosoft-Latitude-E7270 resolves to a loopback address: 127.0.1.1; using 10.0.62.133 instead (on interface wlp1s0)\n",
      "25/05/08 11:05:19 WARN Utils: Set SPARK_LOCAL_IP if you need to bind to another address\n",
      "Setting default log level to \"WARN\".\n",
      "To adjust logging level use sc.setLogLevel(newLevel). For SparkR, use setLogLevel(newLevel).\n",
      "25/05/08 11:05:21 WARN NativeCodeLoader: Unable to load native-hadoop library for your platform... using builtin-java classes where applicable\n"
     ]
    }
   ],
   "source": [
    "from pyspark.sql import SparkSession\n",
    "\n",
    "spark = SparkSession.builder.master(\"local\").appName(\"My Application\").getOrCreate()\n",
    "\n",
    "from pyspark.sql.types import *\n",
    "from pyspark.sql.functions import *"
   ]
  },
  {
   "cell_type": "markdown",
   "metadata": {},
   "source": [
    "### Step 2. This is the data given as a dictionary"
   ]
  },
  {
   "cell_type": "code",
   "execution_count": 4,
   "metadata": {
    "collapsed": true
   },
   "outputs": [],
   "source": [
    "# Create an example dataframe about a fictional army\n",
    "raw_data = {'regiment': ['Nighthawks', 'Nighthawks', 'Nighthawks', 'Nighthawks', 'Dragoons', 'Dragoons', 'Dragoons', 'Dragoons', 'Scouts', 'Scouts', 'Scouts', 'Scouts'],\n",
    "            'company': ['1st', '1st', '2nd', '2nd', '1st', '1st', '2nd', '2nd','1st', '1st', '2nd', '2nd'],\n",
    "            'deaths': [523, 52, 25, 616, 43, 234, 523, 62, 62, 73, 37, 35],\n",
    "            'battles': [5, 42, 2, 2, 4, 7, 8, 3, 4, 7, 8, 9],\n",
    "            'size': [1045, 957, 1099, 1400, 1592, 1006, 987, 849, 973, 1005, 1099, 1523],\n",
    "            'veterans': [1, 5, 62, 26, 73, 37, 949, 48, 48, 435, 63, 345],\n",
    "            'readiness': [1, 2, 3, 3, 2, 1, 2, 3, 2, 1, 2, 3],\n",
    "            'armored': [1, 0, 1, 1, 0, 1, 0, 1, 0, 0, 1, 1],\n",
    "            'deserters': [4, 24, 31, 2, 3, 4, 24, 31, 2, 3, 2, 3],\n",
    "            'origin': ['Arizona', 'California', 'Texas', 'Florida', 'Maine', 'Iowa', 'Alaska', 'Washington', 'Oregon', 'Wyoming', 'Louisana', 'Georgia']}"
   ]
  },
  {
   "cell_type": "markdown",
   "metadata": {},
   "source": [
    "### Step 3. Create a dataframe and assign it to a variable called army. \n",
    "\n",
    "#### Don't forget to include the columns names in the order presented in the dictionary ('regiment', 'company', 'deaths'...) so that the column index order is consistent with the solutions. If omitted, pandas will order the columns alphabetically."
   ]
  },
  {
   "cell_type": "code",
   "execution_count": 3,
   "metadata": {},
   "outputs": [
    {
     "name": "stderr",
     "output_type": "stream",
     "text": [
      "                                                                                \r"
     ]
    },
    {
     "name": "stdout",
     "output_type": "stream",
     "text": [
      "+----------+-------+------+-------+----+--------+---------+-------+---------+----------+\n",
      "|regiment  |company|deaths|battles|size|veterans|readiness|armored|deserters|origin    |\n",
      "+----------+-------+------+-------+----+--------+---------+-------+---------+----------+\n",
      "|Nighthawks|1st    |523   |5      |1045|1       |1        |1      |4        |Arizona   |\n",
      "|Nighthawks|1st    |52    |42     |957 |5       |2        |0      |24       |California|\n",
      "|Nighthawks|2nd    |25    |2      |1099|62      |3        |1      |31       |Texas     |\n",
      "|Nighthawks|2nd    |616   |2      |1400|26      |3        |1      |2        |Florida   |\n",
      "|Dragoons  |1st    |43    |4      |1592|73      |2        |0      |3        |Maine     |\n",
      "|Dragoons  |1st    |234   |7      |1006|37      |1        |1      |4        |Iowa      |\n",
      "|Dragoons  |2nd    |523   |8      |987 |949     |2        |0      |24       |Alaska    |\n",
      "|Dragoons  |2nd    |62    |3      |849 |48      |3        |1      |31       |Washington|\n",
      "|Scouts    |1st    |62    |4      |973 |48      |2        |0      |2        |Oregon    |\n",
      "|Scouts    |1st    |73    |7      |1005|435     |1        |0      |3        |Wyoming   |\n",
      "|Scouts    |2nd    |37    |8      |1099|63      |2        |1      |2        |Louisana  |\n",
      "|Scouts    |2nd    |35    |9      |1523|345     |3        |1      |3        |Georgia   |\n",
      "+----------+-------+------+-------+----+--------+---------+-------+---------+----------+\n",
      "\n"
     ]
    }
   ],
   "source": [
    "schema = StructType([\n",
    "    StructField(\"regiment\", StringType(), True),\n",
    "    StructField(\"company\", StringType(), True),\n",
    "    StructField(\"deaths\", IntegerType(), True),\n",
    "    StructField(\"battles\", IntegerType(), True),\n",
    "    StructField(\"size\", IntegerType(), True),\n",
    "    StructField(\"veterans\", IntegerType(), True),\n",
    "    StructField(\"readiness\", IntegerType(), True),\n",
    "    StructField(\"armored\", IntegerType(), True),\n",
    "    StructField(\"deserters\", IntegerType(), True),\n",
    "    StructField(\"origin\", StringType(), True)\n",
    "])\n",
    "\n",
    "data = [\n",
    "    ('Nighthawks', '1st', 523, 5, 1045, 1, 1, 1, 4, 'Arizona'),\n",
    "    ('Nighthawks', '1st', 52, 42, 957, 5, 2, 0, 24, 'California'),\n",
    "    ('Nighthawks', '2nd', 25, 2, 1099, 62, 3, 1, 31, 'Texas'),\n",
    "    ('Nighthawks', '2nd', 616, 2, 1400, 26, 3, 1, 2, 'Florida'),\n",
    "    ('Dragoons', '1st', 43, 4, 1592, 73, 2, 0, 3, 'Maine'),\n",
    "    ('Dragoons', '1st', 234, 7, 1006, 37, 1, 1, 4, 'Iowa'),\n",
    "    ('Dragoons', '2nd', 523, 8, 987, 949, 2, 0, 24, 'Alaska'),\n",
    "    ('Dragoons', '2nd', 62, 3, 849, 48, 3, 1, 31, 'Washington'),\n",
    "    ('Scouts', '1st', 62, 4, 973, 48, 2, 0, 2, 'Oregon'),\n",
    "    ('Scouts', '1st', 73, 7, 1005, 435, 1, 0, 3, 'Wyoming'),\n",
    "    ('Scouts', '2nd', 37, 8, 1099, 63, 2, 1, 2, 'Louisana'),\n",
    "    ('Scouts', '2nd', 35, 9, 1523, 345, 3, 1, 3, 'Georgia')\n",
    "]\n",
    "\n",
    "army_df = spark.createDataFrame(data, schema=schema)\n",
    "\n",
    "army_df.show(truncate=False)\n"
   ]
  },
  {
   "cell_type": "markdown",
   "metadata": {},
   "source": [
    "### Step 4. Set the 'origin' colum as the index of the dataframe"
   ]
  },
  {
   "cell_type": "code",
   "execution_count": 6,
   "metadata": {},
   "outputs": [
    {
     "name": "stdout",
     "output_type": "stream",
     "text": [
      "+----------+----------+-------+------+-------+----+--------+---------+-------+---------+----------+\n",
      "|    origin|  regiment|company|deaths|battles|size|veterans|readiness|armored|deserters|    origin|\n",
      "+----------+----------+-------+------+-------+----+--------+---------+-------+---------+----------+\n",
      "|   Arizona|Nighthawks|    1st|   523|      5|1045|       1|        1|      1|        4|   Arizona|\n",
      "|California|Nighthawks|    1st|    52|     42| 957|       5|        2|      0|       24|California|\n",
      "|     Texas|Nighthawks|    2nd|    25|      2|1099|      62|        3|      1|       31|     Texas|\n",
      "|   Florida|Nighthawks|    2nd|   616|      2|1400|      26|        3|      1|        2|   Florida|\n",
      "|     Maine|  Dragoons|    1st|    43|      4|1592|      73|        2|      0|        3|     Maine|\n",
      "|      Iowa|  Dragoons|    1st|   234|      7|1006|      37|        1|      1|        4|      Iowa|\n",
      "|    Alaska|  Dragoons|    2nd|   523|      8| 987|     949|        2|      0|       24|    Alaska|\n",
      "|Washington|  Dragoons|    2nd|    62|      3| 849|      48|        3|      1|       31|Washington|\n",
      "|    Oregon|    Scouts|    1st|    62|      4| 973|      48|        2|      0|        2|    Oregon|\n",
      "|   Wyoming|    Scouts|    1st|    73|      7|1005|     435|        1|      0|        3|   Wyoming|\n",
      "|  Louisana|    Scouts|    2nd|    37|      8|1099|      63|        2|      1|        2|  Louisana|\n",
      "|   Georgia|    Scouts|    2nd|    35|      9|1523|     345|        3|      1|        3|   Georgia|\n",
      "+----------+----------+-------+------+-------+----+--------+---------+-------+---------+----------+\n",
      "\n"
     ]
    }
   ],
   "source": [
    "army_df.select(\"origin\", \"*\").show()"
   ]
  },
  {
   "cell_type": "markdown",
   "metadata": {},
   "source": [
    "### Step 5. Print only the column veterans"
   ]
  },
  {
   "cell_type": "code",
   "execution_count": 7,
   "metadata": {},
   "outputs": [
    {
     "name": "stdout",
     "output_type": "stream",
     "text": [
      "+--------+\n",
      "|veterans|\n",
      "+--------+\n",
      "|       1|\n",
      "|       5|\n",
      "|      62|\n",
      "|      26|\n",
      "|      73|\n",
      "|      37|\n",
      "|     949|\n",
      "|      48|\n",
      "|      48|\n",
      "|     435|\n",
      "|      63|\n",
      "|     345|\n",
      "+--------+\n",
      "\n"
     ]
    }
   ],
   "source": [
    "army_df.select(\"veterans\").show()"
   ]
  },
  {
   "cell_type": "markdown",
   "metadata": {},
   "source": [
    "### Step 6. Print the columns 'veterans' and 'deaths'"
   ]
  },
  {
   "cell_type": "code",
   "execution_count": 8,
   "metadata": {},
   "outputs": [
    {
     "name": "stdout",
     "output_type": "stream",
     "text": [
      "+--------+------+\n",
      "|Veterans|deaths|\n",
      "+--------+------+\n",
      "|       1|   523|\n",
      "|       5|    52|\n",
      "|      62|    25|\n",
      "|      26|   616|\n",
      "|      73|    43|\n",
      "|      37|   234|\n",
      "|     949|   523|\n",
      "|      48|    62|\n",
      "|      48|    62|\n",
      "|     435|    73|\n",
      "|      63|    37|\n",
      "|     345|    35|\n",
      "+--------+------+\n",
      "\n"
     ]
    }
   ],
   "source": [
    "army_df.select(\"Veterans\",\"deaths\").show()"
   ]
  },
  {
   "cell_type": "markdown",
   "metadata": {},
   "source": [
    "### Step 7. Print the name of all the columns."
   ]
  },
  {
   "cell_type": "code",
   "execution_count": 9,
   "metadata": {},
   "outputs": [
    {
     "data": {
      "text/plain": [
       "['regiment',\n",
       " 'company',\n",
       " 'deaths',\n",
       " 'battles',\n",
       " 'size',\n",
       " 'veterans',\n",
       " 'readiness',\n",
       " 'armored',\n",
       " 'deserters',\n",
       " 'origin']"
      ]
     },
     "execution_count": 9,
     "metadata": {},
     "output_type": "execute_result"
    }
   ],
   "source": [
    "army_df.columns"
   ]
  },
  {
   "cell_type": "markdown",
   "metadata": {},
   "source": [
    "### Step 8. Select the 'deaths', 'size' and 'deserters' columns from Maine and Alaska"
   ]
  },
  {
   "cell_type": "code",
   "execution_count": 11,
   "metadata": {},
   "outputs": [
    {
     "name": "stdout",
     "output_type": "stream",
     "text": [
      "+------+----+---------+\n",
      "|Deaths|Size|Deserters|\n",
      "+------+----+---------+\n",
      "|    43|1592|        3|\n",
      "|   523| 987|       24|\n",
      "+------+----+---------+\n",
      "\n"
     ]
    }
   ],
   "source": [
    "army_df.filter(col(\"origin\").isin(\"Alaska\", \"Maine\"))\\\n",
    "    .select(col(\"Deaths\"), col(\"Size\"), col(\"Deserters\")).show()"
   ]
  },
  {
   "cell_type": "markdown",
   "metadata": {},
   "source": [
    "### Step 9. Select the rows 3 to 7 and the columns 3 to 6"
   ]
  },
  {
   "cell_type": "code",
   "execution_count": 13,
   "metadata": {},
   "outputs": [
    {
     "name": "stdout",
     "output_type": "stream",
     "text": [
      "+------+-------+----+--------+\n",
      "|deaths|battles|size|veterans|\n",
      "+------+-------+----+--------+\n",
      "|    25|      2|1099|      62|\n",
      "|   616|      2|1400|      26|\n",
      "|    43|      4|1592|      73|\n",
      "|   234|      7|1006|      37|\n",
      "|   523|      8| 987|     949|\n",
      "+------+-------+----+--------+\n",
      "\n"
     ]
    }
   ],
   "source": [
    "indexed_df = army_df.rdd.zipWithIndex() \\\n",
    "    .filter(lambda row: 2 <= row[1] <= 6) \\\n",
    "    .map(lambda row: row[0]) \\\n",
    "    .toDF(army_df.columns)\n",
    "\n",
    "indexed_df.select(army_df.columns[2:6]).show()\n",
    "\n"
   ]
  },
  {
   "cell_type": "markdown",
   "metadata": {},
   "source": [
    "### Step 10. Select every row after the fourth row and all columns"
   ]
  },
  {
   "cell_type": "code",
   "execution_count": 14,
   "metadata": {},
   "outputs": [
    {
     "name": "stderr",
     "output_type": "stream",
     "text": [
      "25/05/08 11:22:20 WARN WindowExec: No Partition Defined for Window operation! Moving all data to a single partition, this can cause serious performance degradation.\n",
      "25/05/08 11:22:20 WARN WindowExec: No Partition Defined for Window operation! Moving all data to a single partition, this can cause serious performance degradation.\n",
      "25/05/08 11:22:20 WARN WindowExec: No Partition Defined for Window operation! Moving all data to a single partition, this can cause serious performance degradation.\n",
      "25/05/08 11:22:20 WARN WindowExec: No Partition Defined for Window operation! Moving all data to a single partition, this can cause serious performance degradation.\n",
      "25/05/08 11:22:20 WARN WindowExec: No Partition Defined for Window operation! Moving all data to a single partition, this can cause serious performance degradation.\n"
     ]
    },
    {
     "name": "stdout",
     "output_type": "stream",
     "text": [
      "+--------+-------+------+-------+----+--------+---------+-------+---------+----------+\n",
      "|regiment|company|deaths|battles|size|veterans|readiness|armored|deserters|    origin|\n",
      "+--------+-------+------+-------+----+--------+---------+-------+---------+----------+\n",
      "|Dragoons|    1st|    43|      4|1592|      73|        2|      0|        3|     Maine|\n",
      "|Dragoons|    1st|   234|      7|1006|      37|        1|      1|        4|      Iowa|\n",
      "|Dragoons|    2nd|   523|      8| 987|     949|        2|      0|       24|    Alaska|\n",
      "|Dragoons|    2nd|    62|      3| 849|      48|        3|      1|       31|Washington|\n",
      "|  Scouts|    1st|    62|      4| 973|      48|        2|      0|        2|    Oregon|\n",
      "|  Scouts|    1st|    73|      7|1005|     435|        1|      0|        3|   Wyoming|\n",
      "|  Scouts|    2nd|    37|      8|1099|      63|        2|      1|        2|  Louisana|\n",
      "|  Scouts|    2nd|    35|      9|1523|     345|        3|      1|        3|   Georgia|\n",
      "+--------+-------+------+-------+----+--------+---------+-------+---------+----------+\n",
      "\n"
     ]
    },
    {
     "name": "stderr",
     "output_type": "stream",
     "text": [
      "                                                                                \r"
     ]
    }
   ],
   "source": [
    "from pyspark.sql.window import Window\n",
    "\n",
    "window = Window.orderBy(lit(1))\n",
    "army_indexed = army_df.withColumn(\"row_num\", row_number().over(window))\n",
    "army_fourth = army_indexed.filter(col(\"row_num\") > 4).drop(\"row_num\")\n",
    "\n",
    "army_fourth.show()\n"
   ]
  },
  {
   "cell_type": "markdown",
   "metadata": {},
   "source": [
    "### Step 11. Select every row up to the 4th row and all columns"
   ]
  },
  {
   "cell_type": "code",
   "execution_count": 15,
   "metadata": {},
   "outputs": [
    {
     "name": "stderr",
     "output_type": "stream",
     "text": [
      "25/05/08 11:25:34 WARN WindowExec: No Partition Defined for Window operation! Moving all data to a single partition, this can cause serious performance degradation.\n",
      "25/05/08 11:25:34 WARN WindowExec: No Partition Defined for Window operation! Moving all data to a single partition, this can cause serious performance degradation.\n",
      "25/05/08 11:25:34 WARN WindowExec: No Partition Defined for Window operation! Moving all data to a single partition, this can cause serious performance degradation.\n",
      "[Stage 13:>                                                         (0 + 1) / 1]\r"
     ]
    },
    {
     "name": "stdout",
     "output_type": "stream",
     "text": [
      "+----------+-------+------+-------+----+--------+---------+-------+---------+----------+\n",
      "|  regiment|company|deaths|battles|size|veterans|readiness|armored|deserters|    origin|\n",
      "+----------+-------+------+-------+----+--------+---------+-------+---------+----------+\n",
      "|Nighthawks|    1st|   523|      5|1045|       1|        1|      1|        4|   Arizona|\n",
      "|Nighthawks|    1st|    52|     42| 957|       5|        2|      0|       24|California|\n",
      "|Nighthawks|    2nd|    25|      2|1099|      62|        3|      1|       31|     Texas|\n",
      "|Nighthawks|    2nd|   616|      2|1400|      26|        3|      1|        2|   Florida|\n",
      "+----------+-------+------+-------+----+--------+---------+-------+---------+----------+\n",
      "\n"
     ]
    },
    {
     "name": "stderr",
     "output_type": "stream",
     "text": [
      "                                                                                \r"
     ]
    }
   ],
   "source": [
    "army_first_4 = army_indexed.filter(col(\"row_num\") <= 4).drop(\"row_num\")\n",
    "\n",
    "army_first_4.show()\n"
   ]
  },
  {
   "cell_type": "code",
   "execution_count": null,
   "metadata": {},
   "outputs": [],
   "source": []
  },
  {
   "cell_type": "markdown",
   "metadata": {},
   "source": [
    "### Step 12. Select the 3rd column up to the 7th column"
   ]
  },
  {
   "cell_type": "code",
   "execution_count": 20,
   "metadata": {},
   "outputs": [
    {
     "name": "stdout",
     "output_type": "stream",
     "text": [
      "+------+-------+----+--------+---------+\n",
      "|deaths|battles|size|veterans|readiness|\n",
      "+------+-------+----+--------+---------+\n",
      "|   523|      5|1045|       1|        1|\n",
      "|    52|     42| 957|       5|        2|\n",
      "|    25|      2|1099|      62|        3|\n",
      "|   616|      2|1400|      26|        3|\n",
      "|    43|      4|1592|      73|        2|\n",
      "|   234|      7|1006|      37|        1|\n",
      "|   523|      8| 987|     949|        2|\n",
      "|    62|      3| 849|      48|        3|\n",
      "|    62|      4| 973|      48|        2|\n",
      "|    73|      7|1005|     435|        1|\n",
      "|    37|      8|1099|      63|        2|\n",
      "|    35|      9|1523|     345|        3|\n",
      "+------+-------+----+--------+---------+\n",
      "\n"
     ]
    }
   ],
   "source": [
    "army_df.select(army_df.columns[2:7]).show()"
   ]
  },
  {
   "cell_type": "markdown",
   "metadata": {},
   "source": [
    "### Step 13. Select rows where df.deaths is greater than 50"
   ]
  },
  {
   "cell_type": "code",
   "execution_count": 21,
   "metadata": {},
   "outputs": [
    {
     "name": "stdout",
     "output_type": "stream",
     "text": [
      "+----------+-------+------+-------+----+--------+---------+-------+---------+----------+\n",
      "|  regiment|company|deaths|battles|size|veterans|readiness|armored|deserters|    origin|\n",
      "+----------+-------+------+-------+----+--------+---------+-------+---------+----------+\n",
      "|Nighthawks|    1st|   523|      5|1045|       1|        1|      1|        4|   Arizona|\n",
      "|Nighthawks|    1st|    52|     42| 957|       5|        2|      0|       24|California|\n",
      "|Nighthawks|    2nd|   616|      2|1400|      26|        3|      1|        2|   Florida|\n",
      "|  Dragoons|    1st|   234|      7|1006|      37|        1|      1|        4|      Iowa|\n",
      "|  Dragoons|    2nd|   523|      8| 987|     949|        2|      0|       24|    Alaska|\n",
      "|  Dragoons|    2nd|    62|      3| 849|      48|        3|      1|       31|Washington|\n",
      "|    Scouts|    1st|    62|      4| 973|      48|        2|      0|        2|    Oregon|\n",
      "|    Scouts|    1st|    73|      7|1005|     435|        1|      0|        3|   Wyoming|\n",
      "+----------+-------+------+-------+----+--------+---------+-------+---------+----------+\n",
      "\n"
     ]
    }
   ],
   "source": [
    "army_df.filter(col(\"deaths\") > 50).show()"
   ]
  },
  {
   "cell_type": "markdown",
   "metadata": {},
   "source": [
    "### Step 14. Select rows where df.deaths is greater than 500 or less than 50"
   ]
  },
  {
   "cell_type": "code",
   "execution_count": 23,
   "metadata": {},
   "outputs": [
    {
     "name": "stdout",
     "output_type": "stream",
     "text": [
      "+----------+-------+------+-------+----+--------+---------+-------+---------+--------+\n",
      "|  regiment|company|deaths|battles|size|veterans|readiness|armored|deserters|  origin|\n",
      "+----------+-------+------+-------+----+--------+---------+-------+---------+--------+\n",
      "|Nighthawks|    1st|   523|      5|1045|       1|        1|      1|        4| Arizona|\n",
      "|Nighthawks|    2nd|    25|      2|1099|      62|        3|      1|       31|   Texas|\n",
      "|Nighthawks|    2nd|   616|      2|1400|      26|        3|      1|        2| Florida|\n",
      "|  Dragoons|    1st|    43|      4|1592|      73|        2|      0|        3|   Maine|\n",
      "|  Dragoons|    2nd|   523|      8| 987|     949|        2|      0|       24|  Alaska|\n",
      "|    Scouts|    2nd|    37|      8|1099|      63|        2|      1|        2|Louisana|\n",
      "|    Scouts|    2nd|    35|      9|1523|     345|        3|      1|        3| Georgia|\n",
      "+----------+-------+------+-------+----+--------+---------+-------+---------+--------+\n",
      "\n"
     ]
    }
   ],
   "source": [
    "army_df.filter((col(\"deaths\") > 500) | (col(\"deaths\") < 50)).show()"
   ]
  },
  {
   "cell_type": "markdown",
   "metadata": {},
   "source": [
    "### Step 15. Select all the regiments not named \"Dragoons\""
   ]
  },
  {
   "cell_type": "code",
   "execution_count": 24,
   "metadata": {},
   "outputs": [
    {
     "name": "stdout",
     "output_type": "stream",
     "text": [
      "+----------+-------+------+-------+----+--------+---------+-------+---------+----------+\n",
      "|  regiment|company|deaths|battles|size|veterans|readiness|armored|deserters|    origin|\n",
      "+----------+-------+------+-------+----+--------+---------+-------+---------+----------+\n",
      "|Nighthawks|    1st|   523|      5|1045|       1|        1|      1|        4|   Arizona|\n",
      "|Nighthawks|    1st|    52|     42| 957|       5|        2|      0|       24|California|\n",
      "|Nighthawks|    2nd|    25|      2|1099|      62|        3|      1|       31|     Texas|\n",
      "|Nighthawks|    2nd|   616|      2|1400|      26|        3|      1|        2|   Florida|\n",
      "|    Scouts|    1st|    62|      4| 973|      48|        2|      0|        2|    Oregon|\n",
      "|    Scouts|    1st|    73|      7|1005|     435|        1|      0|        3|   Wyoming|\n",
      "|    Scouts|    2nd|    37|      8|1099|      63|        2|      1|        2|  Louisana|\n",
      "|    Scouts|    2nd|    35|      9|1523|     345|        3|      1|        3|   Georgia|\n",
      "+----------+-------+------+-------+----+--------+---------+-------+---------+----------+\n",
      "\n"
     ]
    }
   ],
   "source": [
    "army_df.filter(col(\"regiment\") != \"Dragoons\").show()"
   ]
  },
  {
   "cell_type": "markdown",
   "metadata": {},
   "source": [
    "### Step 16. Select the rows called Texas and Arizona"
   ]
  },
  {
   "cell_type": "code",
   "execution_count": 26,
   "metadata": {},
   "outputs": [
    {
     "name": "stdout",
     "output_type": "stream",
     "text": [
      "+----------+-------+------+-------+----+--------+---------+-------+---------+-------+\n",
      "|  regiment|company|deaths|battles|size|veterans|readiness|armored|deserters| origin|\n",
      "+----------+-------+------+-------+----+--------+---------+-------+---------+-------+\n",
      "|Nighthawks|    1st|   523|      5|1045|       1|        1|      1|        4|Arizona|\n",
      "|Nighthawks|    2nd|    25|      2|1099|      62|        3|      1|       31|  Texas|\n",
      "+----------+-------+------+-------+----+--------+---------+-------+---------+-------+\n",
      "\n"
     ]
    }
   ],
   "source": [
    "army_df.filter(col(\"origin\").isin(\"Texas\", \"Arizona\")).show()"
   ]
  },
  {
   "cell_type": "markdown",
   "metadata": {},
   "source": [
    "### Step 17. Select the third cell in the row named Arizona"
   ]
  },
  {
   "cell_type": "code",
   "execution_count": null,
   "metadata": {},
   "outputs": [
    {
     "name": "stdout",
     "output_type": "stream",
     "text": [
      "+------+\n",
      "|deaths|\n",
      "+------+\n",
      "|   523|\n",
      "+------+\n",
      "\n"
     ]
    }
   ],
   "source": [
    "army_df.filter(col(\"origin\") == \"Arizona\").select(army_df.columns[2]).show()"
   ]
  },
  {
   "cell_type": "markdown",
   "metadata": {},
   "source": [
    "### Step 18. Select the third cell down in the column named deaths"
   ]
  },
  {
   "cell_type": "code",
   "execution_count": 36,
   "metadata": {},
   "outputs": [
    {
     "data": {
      "text/plain": [
       "25"
      ]
     },
     "execution_count": 36,
     "metadata": {},
     "output_type": "execute_result"
    }
   ],
   "source": [
    "army_df.select(\"deaths\").collect()[2][0]\n"
   ]
  },
  {
   "cell_type": "code",
   "execution_count": null,
   "metadata": {},
   "outputs": [],
   "source": []
  }
 ],
 "metadata": {
  "kernelspec": {
   "display_name": "Python 3",
   "language": "python",
   "name": "python3"
  },
  "language_info": {
   "codemirror_mode": {
    "name": "ipython",
    "version": 3
   },
   "file_extension": ".py",
   "mimetype": "text/x-python",
   "name": "python",
   "nbconvert_exporter": "python",
   "pygments_lexer": "ipython3",
   "version": "3.8.10"
  }
 },
 "nbformat": 4,
 "nbformat_minor": 1
}
