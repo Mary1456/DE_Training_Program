{
 "cells": [
  {
   "cell_type": "markdown",
   "metadata": {},
   "source": [
    "# Regiment"
   ]
  },
  {
   "cell_type": "markdown",
   "metadata": {},
   "source": [
    "### Introduction:\n",
    "\n",
    "Special thanks to: http://chrisalbon.com/ for sharing the dataset and materials.\n",
    "\n",
    "### Step 1. Import the necessary libraries"
   ]
  },
  {
   "cell_type": "code",
   "execution_count": 1,
   "metadata": {
    "collapsed": false
   },
   "outputs": [
    {
     "name": "stderr",
     "output_type": "stream",
     "text": [
      "25/05/08 12:49:31 WARN Utils: Your hostname, neosoft-Latitude-E7270 resolves to a loopback address: 127.0.1.1; using 10.0.62.133 instead (on interface wlp1s0)\n",
      "25/05/08 12:49:31 WARN Utils: Set SPARK_LOCAL_IP if you need to bind to another address\n",
      "Setting default log level to \"WARN\".\n",
      "To adjust logging level use sc.setLogLevel(newLevel). For SparkR, use setLogLevel(newLevel).\n",
      "25/05/08 12:49:33 WARN NativeCodeLoader: Unable to load native-hadoop library for your platform... using builtin-java classes where applicable\n",
      "25/05/08 12:49:34 WARN Utils: Service 'SparkUI' could not bind on port 4040. Attempting port 4041.\n"
     ]
    }
   ],
   "source": [
    "from pyspark.sql import SparkSession\n",
    "\n",
    "spark = SparkSession.builder.master(\"local\").appName(\"My Application\").getOrCreate()\n",
    "\n",
    "from pyspark.sql.types import *\n",
    "from pyspark.sql.functions import *"
   ]
  },
  {
   "cell_type": "markdown",
   "metadata": {},
   "source": [
    "### Step 2. Create the DataFrame with the following values:"
   ]
  },
  {
   "cell_type": "code",
   "execution_count": null,
   "metadata": {
    "collapsed": true
   },
   "outputs": [],
   "source": [
    "raw_data = {'regiment': ['Nighthawks', 'Nighthawks', 'Nighthawks', 'Nighthawks', 'Dragoons', 'Dragoons', 'Dragoons', 'Dragoons', 'Scouts', 'Scouts', 'Scouts', 'Scouts'], \n",
    "        'company': ['1st', '1st', '2nd', '2nd', '1st', '1st', '2nd', '2nd','1st', '1st', '2nd', '2nd'], \n",
    "        'name': ['Miller', 'Jacobson', 'Ali', 'Milner', 'Cooze', 'Jacon', 'Ryaner', 'Sone', 'Sloan', 'Piger', 'Riani', 'Ali'], \n",
    "        'preTestScore': [4, 24, 31, 2, 3, 4, 24, 31, 2, 3, 2, 3],\n",
    "        'postTestScore': [25, 94, 57, 62, 70, 25, 94, 57, 62, 70, 62, 70]}"
   ]
  },
  {
   "cell_type": "markdown",
   "metadata": {},
   "source": [
    "### Step 3. Assign it to a variable called regiment.\n",
    "#### Don't forget to name each column"
   ]
  },
  {
   "cell_type": "code",
   "execution_count": 2,
   "metadata": {
    "collapsed": false
   },
   "outputs": [
    {
     "name": "stderr",
     "output_type": "stream",
     "text": [
      "                                                                                \r"
     ]
    },
    {
     "name": "stdout",
     "output_type": "stream",
     "text": [
      "+----------+-------+--------+------------+-------------+\n",
      "|regiment  |company|name    |preTestScore|postTestScore|\n",
      "+----------+-------+--------+------------+-------------+\n",
      "|Nighthawks|1st    |Miller  |4           |25           |\n",
      "|Nighthawks|1st    |Jacobson|24          |25           |\n",
      "|Nighthawks|2nd    |Ali     |31          |57           |\n",
      "|Nighthawks|2nd    |Milner  |2           |62           |\n",
      "|Dragoons  |1st    |Cooze   |3           |70           |\n",
      "|Dragoons  |1st    |Jacon   |4           |25           |\n",
      "|Dragoons  |2nd    |Ryaner  |24          |94           |\n",
      "|Dragoons  |2nd    |Sone    |31          |57           |\n",
      "|Scouts    |1st    |Sloan   |2           |62           |\n",
      "|Scouts    |1st    |Piger   |3           |70           |\n",
      "|Scouts    |2nd    |Riani   |2           |62           |\n",
      "|Scouts    |2nd    |Ali     |3           |70           |\n",
      "+----------+-------+--------+------------+-------------+\n",
      "\n"
     ]
    }
   ],
   "source": [
    "schema = StructType([\n",
    "    StructField(\"regiment\", StringType(), True),\n",
    "    StructField(\"company\", StringType(), True),\n",
    "    StructField(\"name\", StringType(), True),\n",
    "    StructField(\"preTestScore\", IntegerType(), True),\n",
    "    StructField(\"postTestScore\", IntegerType(), True)\n",
    "])\n",
    "\n",
    "data = [\n",
    "    ('Nighthawks', '1st', 'Miller', 4, 25),\n",
    "    ('Nighthawks', '1st', 'Jacobson', 24, 25),\n",
    "    ('Nighthawks', '2nd', 'Ali', 31, 57),\n",
    "    ('Nighthawks', '2nd', 'Milner', 2, 62),\n",
    "    ('Dragoons', '1st', 'Cooze', 3, 70),\n",
    "    ('Dragoons', '1st', 'Jacon', 4, 25),\n",
    "    ('Dragoons', '2nd', 'Ryaner', 24, 94),\n",
    "    ('Dragoons', '2nd', 'Sone', 31, 57),\n",
    "    ('Scouts', '1st', 'Sloan', 2, 62),\n",
    "    ('Scouts', '1st', 'Piger', 3, 70),\n",
    "    ('Scouts', '2nd', 'Riani', 2, 62),\n",
    "    ('Scouts', '2nd', 'Ali', 3, 70),\n",
    "]\n",
    "\n",
    "regiment = spark.createDataFrame(data, schema=schema)\n",
    "\n",
    "regiment.show(truncate=False)\n"
   ]
  },
  {
   "cell_type": "markdown",
   "metadata": {},
   "source": [
    "### Step 4. What is the mean preTestScore from the regiment Nighthawks?  "
   ]
  },
  {
   "cell_type": "code",
   "execution_count": 5,
   "metadata": {
    "collapsed": false
   },
   "outputs": [
    {
     "name": "stdout",
     "output_type": "stream",
     "text": [
      "+----------+-----------------+\n",
      "|  regiment|avg(pretestscore)|\n",
      "+----------+-----------------+\n",
      "|Nighthawks|            15.25|\n",
      "+----------+-----------------+\n",
      "\n"
     ]
    }
   ],
   "source": [
    "regiment.filter(col(\"regiment\")==\"Nighthawks\").groupBy(\"regiment\").agg(mean(\"pretestscore\")).show()"
   ]
  },
  {
   "cell_type": "markdown",
   "metadata": {},
   "source": [
    "### Step 5. Present general statistics by company"
   ]
  },
  {
   "cell_type": "code",
   "execution_count": 7,
   "metadata": {
    "collapsed": false
   },
   "outputs": [
    {
     "name": "stderr",
     "output_type": "stream",
     "text": [
      "25/05/08 13:09:10 WARN SparkStringUtils: Truncated the string representation of a plan since it was too large. This behavior can be adjusted by setting 'spark.sql.debug.maxToStringFields'.\n",
      "[Stage 10:>                                                         (0 + 1) / 1]\r"
     ]
    },
    {
     "name": "stdout",
     "output_type": "stream",
     "text": [
      "+-------+--------+-------+----+------------------+------------------+\n",
      "|summary|regiment|company|name|      preTestScore|     postTestScore|\n",
      "+-------+--------+-------+----+------------------+------------------+\n",
      "|  count|      12|     12|  12|                12|                12|\n",
      "|   mean|    NULL|   NULL|NULL|11.083333333333334|56.583333333333336|\n",
      "| stddev|    NULL|   NULL|NULL|12.324833270739004|21.364619577632777|\n",
      "|    min|Dragoons|    1st| Ali|                 2|                25|\n",
      "|    max|  Scouts|    2nd|Sone|                31|                94|\n",
      "+-------+--------+-------+----+------------------+------------------+\n",
      "\n"
     ]
    },
    {
     "name": "stderr",
     "output_type": "stream",
     "text": [
      "                                                                                \r"
     ]
    }
   ],
   "source": [
    "regiment.describe().show()"
   ]
  },
  {
   "cell_type": "markdown",
   "metadata": {},
   "source": [
    "### Step 6. What is the mean of each company's preTestScore?"
   ]
  },
  {
   "cell_type": "code",
   "execution_count": 8,
   "metadata": {
    "collapsed": false
   },
   "outputs": [
    {
     "name": "stdout",
     "output_type": "stream",
     "text": [
      "+-------+-----------------+\n",
      "|company|avg(pretestscore)|\n",
      "+-------+-----------------+\n",
      "|    2nd|             15.5|\n",
      "|    1st|6.666666666666667|\n",
      "+-------+-----------------+\n",
      "\n"
     ]
    }
   ],
   "source": [
    "regiment.groupBy(\"company\").agg(mean(\"pretestscore\")).show()"
   ]
  },
  {
   "cell_type": "markdown",
   "metadata": {},
   "source": [
    "### Step 7. Present the mean preTestScores grouped by regiment and company"
   ]
  },
  {
   "cell_type": "code",
   "execution_count": 9,
   "metadata": {
    "collapsed": false
   },
   "outputs": [
    {
     "name": "stdout",
     "output_type": "stream",
     "text": [
      "+----------+-------+-----------------+\n",
      "|  regiment|company|avg(pretestscore)|\n",
      "+----------+-------+-----------------+\n",
      "|Nighthawks|    1st|             14.0|\n",
      "|  Dragoons|    1st|              3.5|\n",
      "|Nighthawks|    2nd|             16.5|\n",
      "|  Dragoons|    2nd|             27.5|\n",
      "|    Scouts|    2nd|              2.5|\n",
      "|    Scouts|    1st|              2.5|\n",
      "+----------+-------+-----------------+\n",
      "\n"
     ]
    }
   ],
   "source": [
    "regiment.groupBy(\"regiment\",\"company\").agg(mean(\"pretestscore\")).show()"
   ]
  },
  {
   "cell_type": "markdown",
   "metadata": {},
   "source": [
    "### Step 8. Present the mean preTestScores grouped by regiment and company without heirarchical indexing"
   ]
  },
  {
   "cell_type": "code",
   "execution_count": 10,
   "metadata": {
    "collapsed": false
   },
   "outputs": [
    {
     "name": "stdout",
     "output_type": "stream",
     "text": [
      "+----------+-------+-----------------+\n",
      "|  regiment|company|avg(pretestscore)|\n",
      "+----------+-------+-----------------+\n",
      "|  Dragoons|    1st|              3.5|\n",
      "|  Dragoons|    2nd|             27.5|\n",
      "|Nighthawks|    1st|             14.0|\n",
      "|Nighthawks|    2nd|             16.5|\n",
      "|    Scouts|    2nd|              2.5|\n",
      "|    Scouts|    1st|              2.5|\n",
      "+----------+-------+-----------------+\n",
      "\n"
     ]
    }
   ],
   "source": [
    "regiment.groupBy(\"regiment\",\"company\").agg(mean(\"pretestscore\")).orderBy(\"regiment\").show()"
   ]
  },
  {
   "cell_type": "markdown",
   "metadata": {},
   "source": [
    "### Step 9. Group the entire dataframe by regiment and company"
   ]
  },
  {
   "cell_type": "code",
   "execution_count": 16,
   "metadata": {
    "collapsed": false
   },
   "outputs": [
    {
     "name": "stdout",
     "output_type": "stream",
     "text": [
      "+----------+-------+--------------------+\n",
      "|  regiment|company|average_preTestScore|\n",
      "+----------+-------+--------------------+\n",
      "|  Dragoons|    1st|                 3.5|\n",
      "|  Dragoons|    2nd|                27.5|\n",
      "|Nighthawks|    1st|                14.0|\n",
      "|Nighthawks|    2nd|                16.5|\n",
      "|    Scouts|    2nd|                 2.5|\n",
      "|    Scouts|    1st|                 2.5|\n",
      "+----------+-------+--------------------+\n",
      "\n"
     ]
    }
   ],
   "source": [
    "regiment.groupBy(\"regiment\", \"company\") \\\n",
    "    .agg(avg(\"preTestScore\").alias(\"average_preTestScore\")) \\\n",
    "    .orderBy(\"regiment\")\\\n",
    "    .show()\n"
   ]
  },
  {
   "cell_type": "markdown",
   "metadata": {},
   "source": [
    "### Step 10. What is the number of observations in each regiment and company"
   ]
  },
  {
   "cell_type": "code",
   "execution_count": 17,
   "metadata": {
    "collapsed": false
   },
   "outputs": [
    {
     "name": "stdout",
     "output_type": "stream",
     "text": [
      "+---------------+--------------+\n",
      "|count(regiment)|count(company)|\n",
      "+---------------+--------------+\n",
      "|             12|            12|\n",
      "+---------------+--------------+\n",
      "\n"
     ]
    }
   ],
   "source": [
    "regiment.agg(count(\"regiment\"), count(\"company\")).show()"
   ]
  },
  {
   "cell_type": "markdown",
   "metadata": {},
   "source": [
    "### Step 11. Iterate over a group and print the name and the whole data from the regiment"
   ]
  },
  {
   "cell_type": "code",
   "execution_count": 19,
   "metadata": {
    "collapsed": false
   },
   "outputs": [
    {
     "name": "stdout",
     "output_type": "stream",
     "text": [
      "Regiment: Dragoons\n",
      "+--------+-------+------+------------+-------------+\n",
      "|regiment|company|name  |preTestScore|postTestScore|\n",
      "+--------+-------+------+------------+-------------+\n",
      "|Dragoons|1st    |Cooze |3           |70           |\n",
      "|Dragoons|1st    |Jacon |4           |25           |\n",
      "|Dragoons|2nd    |Ryaner|24          |94           |\n",
      "|Dragoons|2nd    |Sone  |31          |57           |\n",
      "+--------+-------+------+------------+-------------+\n",
      "\n",
      "Regiment: Nighthawks\n",
      "+----------+-------+--------+------------+-------------+\n",
      "|regiment  |company|name    |preTestScore|postTestScore|\n",
      "+----------+-------+--------+------------+-------------+\n",
      "|Nighthawks|1st    |Miller  |4           |25           |\n",
      "|Nighthawks|1st    |Jacobson|24          |25           |\n",
      "|Nighthawks|2nd    |Ali     |31          |57           |\n",
      "|Nighthawks|2nd    |Milner  |2           |62           |\n",
      "+----------+-------+--------+------------+-------------+\n",
      "\n",
      "Regiment: Scouts\n",
      "+--------+-------+-----+------------+-------------+\n",
      "|regiment|company|name |preTestScore|postTestScore|\n",
      "+--------+-------+-----+------------+-------------+\n",
      "|Scouts  |1st    |Sloan|2           |62           |\n",
      "|Scouts  |1st    |Piger|3           |70           |\n",
      "|Scouts  |2nd    |Riani|2           |62           |\n",
      "|Scouts  |2nd    |Ali  |3           |70           |\n",
      "+--------+-------+-----+------------+-------------+\n",
      "\n"
     ]
    }
   ],
   "source": [
    "grouped_data = regiment.groupBy(\"regiment\").agg(*[first(c).alias(c) for c in regiment.columns if c != \"regiment\"])\n",
    "\n",
    "for row in grouped_data.collect():\n",
    "    regiment_name = row['regiment']\n",
    "    print(f\"Regiment: {regiment_name}\")\n",
    "    regiment_data = regiment.filter(regiment.regiment == regiment_name)\n",
    "    regiment_data.show(truncate=False)\n"
   ]
  },
  {
   "cell_type": "code",
   "execution_count": null,
   "metadata": {},
   "outputs": [],
   "source": []
  }
 ],
 "metadata": {
  "kernelspec": {
   "display_name": "Python 3",
   "language": "python",
   "name": "python3"
  },
  "language_info": {
   "codemirror_mode": {
    "name": "ipython",
    "version": 3
   },
   "file_extension": ".py",
   "mimetype": "text/x-python",
   "name": "python",
   "nbconvert_exporter": "python",
   "pygments_lexer": "ipython3",
   "version": "3.8.10"
  }
 },
 "nbformat": 4,
 "nbformat_minor": 0
}
