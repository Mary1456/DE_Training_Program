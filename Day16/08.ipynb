{
 "cells": [
  {
   "cell_type": "markdown",
   "metadata": {},
   "source": [
    "# Occupation"
   ]
  },
  {
   "cell_type": "markdown",
   "metadata": {},
   "source": [
    "### Introduction:\n",
    "\n",
    "Special thanks to: https://github.com/justmarkham for sharing the dataset and materials.\n",
    "\n",
    "### Step 1. Import the necessary libraries"
   ]
  },
  {
   "cell_type": "code",
   "execution_count": 33,
   "metadata": {
    "collapsed": false
   },
   "outputs": [],
   "source": [
    "from pyspark.sql import SparkSession\n",
    "\n",
    "spark = SparkSession.builder.master(\"local\").appName(\"My Application\").getOrCreate()\n",
    "\n",
    "from pyspark.sql.types import *\n",
    "from pyspark.sql.functions import *"
   ]
  },
  {
   "cell_type": "markdown",
   "metadata": {},
   "source": [
    "### Step 2. Import the dataset from this [address](https://raw.githubusercontent.com/justmarkham/DAT8/master/data/u.user). "
   ]
  },
  {
   "cell_type": "markdown",
   "metadata": {},
   "source": [
    "### Step 3. Assign it to a variable called users."
   ]
  },
  {
   "cell_type": "code",
   "execution_count": 6,
   "metadata": {
    "collapsed": false
   },
   "outputs": [
    {
     "name": "stdout",
     "output_type": "stream",
     "text": [
      "+-------+---+------+-------------+--------+\n",
      "|user_id|age|gender|   occupation|zip_code|\n",
      "+-------+---+------+-------------+--------+\n",
      "|      1| 24|     M|   technician|   85711|\n",
      "|      2| 53|     F|        other|   94043|\n",
      "|      3| 23|     M|       writer|   32067|\n",
      "|      4| 24|     M|   technician|   43537|\n",
      "|      5| 33|     F|        other|   15213|\n",
      "|      6| 42|     M|    executive|   98101|\n",
      "|      7| 57|     M|administrator|   91344|\n",
      "|      8| 36|     M|administrator|   05201|\n",
      "|      9| 29|     M|      student|   01002|\n",
      "|     10| 53|     M|       lawyer|   90703|\n",
      "|     11| 39|     F|        other|   30329|\n",
      "|     12| 28|     F|        other|   06405|\n",
      "|     13| 47|     M|     educator|   29206|\n",
      "|     14| 45|     M|    scientist|   55106|\n",
      "|     15| 49|     F|     educator|   97301|\n",
      "|     16| 21|     M|entertainment|   10309|\n",
      "|     17| 30|     M|   programmer|   06355|\n",
      "|     18| 35|     F|        other|   37212|\n",
      "|     19| 40|     M|    librarian|   02138|\n",
      "|     20| 42|     F|    homemaker|   95660|\n",
      "+-------+---+------+-------------+--------+\n",
      "only showing top 20 rows\n",
      "\n"
     ]
    }
   ],
   "source": [
    "users = spark.read.format(\"csv\")\\\n",
    "    .option(\"header\", \"true\")\\\n",
    "        .option(\"inferSchema\", \"true\")\\\n",
    "        .option(\"sep\", \"|\")\\\n",
    "            .load(\"occupation.csv\")\n",
    "\n",
    "users.show()"
   ]
  },
  {
   "cell_type": "markdown",
   "metadata": {},
   "source": [
    "### Step 4. Discover what is the mean age per occupation"
   ]
  },
  {
   "cell_type": "code",
   "execution_count": 7,
   "metadata": {
    "collapsed": false
   },
   "outputs": [
    {
     "name": "stderr",
     "output_type": "stream",
     "text": [
      "[Stage 6:>                                                          (0 + 1) / 1]\r"
     ]
    },
    {
     "name": "stdout",
     "output_type": "stream",
     "text": [
      "+-------------+------------------+\n",
      "|   occupation|          avg(age)|\n",
      "+-------------+------------------+\n",
      "|    librarian|              40.0|\n",
      "|      retired| 63.07142857142857|\n",
      "|       lawyer|             36.75|\n",
      "|         none|26.555555555555557|\n",
      "|       writer| 36.31111111111111|\n",
      "|   programmer|33.121212121212125|\n",
      "|    marketing| 37.61538461538461|\n",
      "|        other|34.523809523809526|\n",
      "|    executive|          38.71875|\n",
      "|    scientist| 35.54838709677419|\n",
      "|      student|22.081632653061224|\n",
      "|     salesman|35.666666666666664|\n",
      "|       artist|31.392857142857142|\n",
      "|   technician|33.148148148148145|\n",
      "|administrator| 38.74683544303797|\n",
      "|     engineer| 36.38805970149254|\n",
      "|   healthcare|           41.5625|\n",
      "|     educator| 42.01052631578948|\n",
      "|entertainment| 29.22222222222222|\n",
      "|    homemaker| 32.57142857142857|\n",
      "+-------------+------------------+\n",
      "only showing top 20 rows\n",
      "\n"
     ]
    },
    {
     "name": "stderr",
     "output_type": "stream",
     "text": [
      "                                                                                \r"
     ]
    }
   ],
   "source": [
    "users.groupBy(\"occupation\").agg(mean(\"age\")).show()"
   ]
  },
  {
   "cell_type": "markdown",
   "metadata": {},
   "source": [
    "### Step 5. Discover the Male ratio per occupation and sort it from the most to the least"
   ]
  },
  {
   "cell_type": "code",
   "execution_count": 11,
   "metadata": {
    "collapsed": false
   },
   "outputs": [
    {
     "name": "stderr",
     "output_type": "stream",
     "text": [
      "                                                                                \r"
     ]
    },
    {
     "name": "stdout",
     "output_type": "stream",
     "text": [
      "+-------------+----------+\n",
      "|   occupation|male_ratio|\n",
      "+-------------+----------+\n",
      "|       doctor|       1.0|\n",
      "|     engineer|      0.97|\n",
      "|   technician|      0.96|\n",
      "|      retired|      0.93|\n",
      "|   programmer|      0.91|\n",
      "|    executive|      0.91|\n",
      "|    scientist|       0.9|\n",
      "|entertainment|      0.89|\n",
      "|       lawyer|      0.83|\n",
      "|     salesman|      0.75|\n",
      "|     educator|      0.73|\n",
      "|      student|      0.69|\n",
      "|        other|      0.66|\n",
      "|    marketing|      0.62|\n",
      "|       writer|      0.58|\n",
      "|         none|      0.56|\n",
      "|       artist|      0.54|\n",
      "|administrator|      0.54|\n",
      "|    librarian|      0.43|\n",
      "|   healthcare|      0.31|\n",
      "+-------------+----------+\n",
      "only showing top 20 rows\n",
      "\n"
     ]
    }
   ],
   "source": [
    "total_counts = users.groupBy(\"occupation\").agg(count(\"*\").alias(\"total\"))\n",
    "\n",
    "male_counts = users.filter(col(\"gender\") == \"M\") \\\n",
    "                   .groupBy(\"occupation\").agg(count(\"*\").alias(\"male_count\"))\n",
    "\n",
    "male_ratio = male_counts.join(total_counts, on=\"occupation\") \\\n",
    "                        .withColumn(\"male_ratio\", round(col(\"male_count\") / col(\"total\"), 2)) \\\n",
    "                        .orderBy(col(\"male_ratio\").desc())\n",
    "\n",
    "male_ratio.select(\"occupation\", \"male_ratio\").show()\n"
   ]
  },
  {
   "cell_type": "markdown",
   "metadata": {},
   "source": [
    "### Step 6. For each occupation, calculate the minimum and maximum ages"
   ]
  },
  {
   "cell_type": "code",
   "execution_count": 15,
   "metadata": {
    "collapsed": false
   },
   "outputs": [
    {
     "name": "stdout",
     "output_type": "stream",
     "text": [
      "+-------------+-------------------+-------------------+\n",
      "|   occupation|min(age AS min_age)|max(age AS max_age)|\n",
      "+-------------+-------------------+-------------------+\n",
      "|administrator|                 21|                 70|\n",
      "|       artist|                 19|                 48|\n",
      "|       doctor|                 28|                 64|\n",
      "|     educator|                 23|                 63|\n",
      "|     engineer|                 22|                 70|\n",
      "|entertainment|                 15|                 50|\n",
      "|    executive|                 22|                 69|\n",
      "|   healthcare|                 22|                 62|\n",
      "|    homemaker|                 20|                 50|\n",
      "|       lawyer|                 21|                 53|\n",
      "|    librarian|                 23|                 69|\n",
      "|    marketing|                 24|                 55|\n",
      "|         none|                 11|                 55|\n",
      "|        other|                 13|                 64|\n",
      "|   programmer|                 20|                 63|\n",
      "|      retired|                 51|                 73|\n",
      "|     salesman|                 18|                 66|\n",
      "|    scientist|                 23|                 55|\n",
      "|      student|                  7|                 42|\n",
      "|   technician|                 21|                 55|\n",
      "+-------------+-------------------+-------------------+\n",
      "only showing top 20 rows\n",
      "\n"
     ]
    }
   ],
   "source": [
    "users.groupBy(\"occupation\")\\\n",
    "    .agg(min(col(\"age\").alias(\"min_age\")), max(col(\"age\").alias(\"max_age\")))\\\n",
    "        .orderBy((\"occupation\"))\\\n",
    "    .show()"
   ]
  },
  {
   "cell_type": "markdown",
   "metadata": {},
   "source": [
    "### Step 7. For each combination of occupation and gender, calculate the mean age"
   ]
  },
  {
   "cell_type": "code",
   "execution_count": 20,
   "metadata": {
    "collapsed": false
   },
   "outputs": [
    {
     "name": "stdout",
     "output_type": "stream",
     "text": [
      "+-------------+------+------------------+\n",
      "|   occupation|gender|          avg(age)|\n",
      "+-------------+------+------------------+\n",
      "|administrator|     M| 37.16279069767442|\n",
      "|administrator|     F|40.638888888888886|\n",
      "|       artist|     F|30.307692307692307|\n",
      "|       artist|     M|32.333333333333336|\n",
      "|       doctor|     M| 43.57142857142857|\n",
      "|     educator|     F| 39.11538461538461|\n",
      "|     educator|     M| 43.10144927536232|\n",
      "|     engineer|     F|              29.5|\n",
      "|     engineer|     M|              36.6|\n",
      "|entertainment|     F|              31.0|\n",
      "|entertainment|     M|              29.0|\n",
      "|    executive|     M|38.172413793103445|\n",
      "|    executive|     F|              44.0|\n",
      "|   healthcare|     F| 39.81818181818182|\n",
      "|   healthcare|     M|              45.4|\n",
      "|    homemaker|     F|34.166666666666664|\n",
      "|    homemaker|     M|              23.0|\n",
      "|       lawyer|     F|              39.5|\n",
      "|       lawyer|     M|              36.2|\n",
      "|    librarian|     M|              40.0|\n",
      "+-------------+------+------------------+\n",
      "only showing top 20 rows\n",
      "\n"
     ]
    }
   ],
   "source": [
    "users.groupBy(\"occupation\", \"gender\")\\\n",
    "    .agg(mean(\"age\")).orderBy(\"occupation\").show()"
   ]
  },
  {
   "cell_type": "markdown",
   "metadata": {},
   "source": [
    "### Step 8.  For each occupation present the percentage of women and men"
   ]
  },
  {
   "cell_type": "code",
   "execution_count": null,
   "metadata": {},
   "outputs": [
    {
     "name": "stdout",
     "output_type": "stream",
     "text": [
      "+-------------+------+-----+-----+----------+\n",
      "|occupation   |gender|count|total|percentage|\n",
      "+-------------+------+-----+-----+----------+\n",
      "|administrator|F     |36   |79   |45.57     |\n",
      "|administrator|M     |43   |79   |54.43     |\n",
      "|artist       |F     |13   |28   |46.43     |\n",
      "|artist       |M     |15   |28   |53.57     |\n",
      "|doctor       |M     |7    |7    |100.0     |\n",
      "|educator     |F     |26   |95   |27.37     |\n",
      "|educator     |M     |69   |95   |72.63     |\n",
      "|engineer     |F     |2    |67   |2.99      |\n",
      "|engineer     |M     |65   |67   |97.01     |\n",
      "|entertainment|F     |2    |18   |11.11     |\n",
      "|entertainment|M     |16   |18   |88.89     |\n",
      "|executive    |F     |3    |32   |9.38      |\n",
      "|executive    |M     |29   |32   |90.63     |\n",
      "|healthcare   |F     |11   |16   |68.75     |\n",
      "|healthcare   |M     |5    |16   |31.25     |\n",
      "|homemaker    |F     |6    |7    |85.71     |\n",
      "|homemaker    |M     |1    |7    |14.29     |\n",
      "|lawyer       |F     |2    |12   |16.67     |\n",
      "|lawyer       |M     |10   |12   |83.33     |\n",
      "|librarian    |F     |29   |51   |56.86     |\n",
      "+-------------+------+-----+-----+----------+\n",
      "only showing top 20 rows\n",
      "\n"
     ]
    }
   ],
   "source": [
    "from pyspark.sql.functions import count, col, round  \n",
    "gender_counts = users.groupBy(\"occupation\", \"gender\") \\\n",
    "                     .agg(count(\"*\").alias(\"count\"))\n",
    "\n",
    "total_counts = users.groupBy(\"occupation\") \\\n",
    "                    .agg(count(\"*\").alias(\"total\"))\n",
    "\n",
    "gender_ratio = gender_counts.join(total_counts, on=\"occupation\")\n",
    "\n",
    "gender_ratio = gender_ratio.withColumn(\n",
    "    \"percentage\", round((col(\"count\") / col(\"total\")) * 100, 2)\n",
    ")\n",
    "\n",
    "gender_ratio.orderBy(\"occupation\", \"gender\").show(truncate=False)\n"
   ]
  },
  {
   "cell_type": "code",
   "execution_count": null,
   "metadata": {},
   "outputs": [],
   "source": []
  }
 ],
 "metadata": {
  "kernelspec": {
   "display_name": "Python 3",
   "language": "python",
   "name": "python3"
  },
  "language_info": {
   "codemirror_mode": {
    "name": "ipython",
    "version": 3
   },
   "file_extension": ".py",
   "mimetype": "text/x-python",
   "name": "python",
   "nbconvert_exporter": "python",
   "pygments_lexer": "ipython3",
   "version": "3.8.10"
  }
 },
 "nbformat": 4,
 "nbformat_minor": 0
}
