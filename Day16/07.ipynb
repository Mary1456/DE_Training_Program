{
 "cells": [
  {
   "cell_type": "markdown",
   "metadata": {},
   "source": [
    "# Ex - GroupBy"
   ]
  },
  {
   "cell_type": "markdown",
   "metadata": {},
   "source": [
    "### Introduction:\n",
    "\n",
    "GroupBy can be summarized as Split-Apply-Combine.\n",
    "\n",
    "Special thanks to: https://github.com/justmarkham for sharing the dataset and materials.\n",
    "\n",
    "Check out this [Diagram](http://i.imgur.com/yjNkiwL.png)  \n",
    "### Step 1. Import the necessary libraries"
   ]
  },
  {
   "cell_type": "code",
   "execution_count": 1,
   "metadata": {},
   "outputs": [
    {
     "name": "stderr",
     "output_type": "stream",
     "text": [
      "25/05/08 11:57:42 WARN Utils: Your hostname, neosoft-Latitude-E7270 resolves to a loopback address: 127.0.1.1; using 10.0.62.133 instead (on interface wlp1s0)\n",
      "25/05/08 11:57:42 WARN Utils: Set SPARK_LOCAL_IP if you need to bind to another address\n",
      "Setting default log level to \"WARN\".\n",
      "To adjust logging level use sc.setLogLevel(newLevel). For SparkR, use setLogLevel(newLevel).\n",
      "25/05/08 11:57:43 WARN NativeCodeLoader: Unable to load native-hadoop library for your platform... using builtin-java classes where applicable\n",
      "25/05/08 11:57:44 WARN Utils: Service 'SparkUI' could not bind on port 4040. Attempting port 4041.\n",
      "25/05/08 11:57:44 WARN Utils: Service 'SparkUI' could not bind on port 4041. Attempting port 4042.\n"
     ]
    }
   ],
   "source": [
    "from pyspark.sql import SparkSession\n",
    "\n",
    "spark = SparkSession.builder.master(\"local\").appName(\"My Application\").getOrCreate()\n",
    "\n",
    "from pyspark.sql.types import *\n",
    "from pyspark.sql.functions import *"
   ]
  },
  {
   "cell_type": "markdown",
   "metadata": {},
   "source": [
    "### Step 2. Import the dataset from this [address](https://raw.githubusercontent.com/justmarkham/DAT8/master/data/drinks.csv). "
   ]
  },
  {
   "cell_type": "markdown",
   "metadata": {},
   "source": [
    "### Step 3. Assign it to a variable called drinks."
   ]
  },
  {
   "cell_type": "code",
   "execution_count": 3,
   "metadata": {},
   "outputs": [
    {
     "name": "stderr",
     "output_type": "stream",
     "text": [
      "                                                                                \r"
     ]
    },
    {
     "name": "stdout",
     "output_type": "stream",
     "text": [
      "+-----------------+-------------+---------------+-------------+----------------------------+---------+\n",
      "|          country|beer_servings|spirit_servings|wine_servings|total_litres_of_pure_alcohol|continent|\n",
      "+-----------------+-------------+---------------+-------------+----------------------------+---------+\n",
      "|      Afghanistan|            0|              0|            0|                         0.0|       AS|\n",
      "|          Albania|           89|            132|           54|                         4.9|       EU|\n",
      "|          Algeria|           25|              0|           14|                         0.7|       AF|\n",
      "|          Andorra|          245|            138|          312|                        12.4|       EU|\n",
      "|           Angola|          217|             57|           45|                         5.9|       AF|\n",
      "|Antigua & Barbuda|          102|            128|           45|                         4.9|       NA|\n",
      "|        Argentina|          193|             25|          221|                         8.3|       SA|\n",
      "|          Armenia|           21|            179|           11|                         3.8|       EU|\n",
      "|        Australia|          261|             72|          212|                        10.4|       OC|\n",
      "|          Austria|          279|             75|          191|                         9.7|       EU|\n",
      "|       Azerbaijan|           21|             46|            5|                         1.3|       EU|\n",
      "|          Bahamas|          122|            176|           51|                         6.3|       NA|\n",
      "|          Bahrain|           42|             63|            7|                         2.0|       AS|\n",
      "|       Bangladesh|            0|              0|            0|                         0.0|       AS|\n",
      "|         Barbados|          143|            173|           36|                         6.3|       NA|\n",
      "|          Belarus|          142|            373|           42|                        14.4|       EU|\n",
      "|          Belgium|          295|             84|          212|                        10.5|       EU|\n",
      "|           Belize|          263|            114|            8|                         6.8|       NA|\n",
      "|            Benin|           34|              4|           13|                         1.1|       AF|\n",
      "|           Bhutan|           23|              0|            0|                         0.4|       AS|\n",
      "+-----------------+-------------+---------------+-------------+----------------------------+---------+\n",
      "only showing top 20 rows\n",
      "\n"
     ]
    }
   ],
   "source": [
    "drinks = spark.read.format(\"csv\")\\\n",
    "    .option(\"header\", \"true\")\\\n",
    "        .option(\"inferSchema\", \"true\")\\\n",
    "            .load(\"drinks.csv\")\n",
    "\n",
    "drinks.show()"
   ]
  },
  {
   "cell_type": "markdown",
   "metadata": {},
   "source": [
    "### Step 4. Which continent drinks more beer on average?"
   ]
  },
  {
   "cell_type": "code",
   "execution_count": 4,
   "metadata": {},
   "outputs": [
    {
     "name": "stderr",
     "output_type": "stream",
     "text": [
      "[Stage 3:>                                                          (0 + 1) / 1]\r"
     ]
    },
    {
     "name": "stdout",
     "output_type": "stream",
     "text": [
      "+---------+------------------+\n",
      "|continent| avg_beer_servings|\n",
      "+---------+------------------+\n",
      "|       EU|193.77777777777777|\n",
      "|       SA|175.08333333333334|\n",
      "|       NA|145.43478260869566|\n",
      "|       OC|           89.6875|\n",
      "|       AF|61.471698113207545|\n",
      "|       AS| 37.04545454545455|\n",
      "+---------+------------------+\n",
      "\n"
     ]
    },
    {
     "name": "stderr",
     "output_type": "stream",
     "text": [
      "                                                                                \r"
     ]
    }
   ],
   "source": [
    "drinks.groupBy(\"continent\").agg(avg(\"beer_servings\").alias(\"avg_beer_servings\"))\\\n",
    "    .orderBy(\"avg_beer_servings\", ascending=False)\\\n",
    "    .show()"
   ]
  },
  {
   "cell_type": "markdown",
   "metadata": {},
   "source": [
    "### Step 5. For each continent print the statistics for wine consumption."
   ]
  },
  {
   "cell_type": "code",
   "execution_count": 6,
   "metadata": {},
   "outputs": [
    {
     "name": "stdout",
     "output_type": "stream",
     "text": [
      "+---------+------------------+-----------------+-----------------+--------------------+\n",
      "|continent| avg_wine_servings|min_wine_servings|max_wine_servings|stddev_wine_servings|\n",
      "+---------+------------------+-----------------+-----------------+--------------------+\n",
      "|       NA| 24.52173913043478|                1|              100|  28.266378301658847|\n",
      "|       SA|62.416666666666664|                1|              221|   88.62018888937148|\n",
      "|       AS| 9.068181818181818|                0|              123|  21.667033931944484|\n",
      "|       OC|            35.625|                0|              212|   64.55578982554547|\n",
      "|       EU|142.22222222222223|                0|              370|   97.42173756146497|\n",
      "|       AF|16.264150943396228|                0|              233|   38.84641897335842|\n",
      "+---------+------------------+-----------------+-----------------+--------------------+\n",
      "\n"
     ]
    }
   ],
   "source": [
    "drinks.groupBy(\"continent\").agg(\n",
    "    avg(\"wine_servings\").alias(\"avg_wine_servings\"),\n",
    "    min(\"wine_servings\").alias(\"min_wine_servings\"),\n",
    "    max(\"wine_servings\").alias(\"max_wine_servings\"),\n",
    "    stddev(\"wine_servings\").alias(\"stddev_wine_servings\")\n",
    ").show()"
   ]
  },
  {
   "cell_type": "code",
   "execution_count": 5,
   "metadata": {},
   "outputs": [
    {
     "name": "stdout",
     "output_type": "stream",
     "text": [
      "+-------+------------------+\n",
      "|summary|     beer_servings|\n",
      "+-------+------------------+\n",
      "|  count|               193|\n",
      "|   mean|106.16062176165804|\n",
      "| stddev| 101.1431025393134|\n",
      "|    min|                 0|\n",
      "|    max|               376|\n",
      "+-------+------------------+\n",
      "\n"
     ]
    }
   ],
   "source": [
    "drinks.describe(\"beer_servings\")\\\n",
    "    .show()"
   ]
  },
  {
   "cell_type": "markdown",
   "metadata": {},
   "source": [
    "### Step 6. Print the mean alcohol consumption per continent for every column"
   ]
  },
  {
   "cell_type": "code",
   "execution_count": 7,
   "metadata": {},
   "outputs": [
    {
     "name": "stdout",
     "output_type": "stream",
     "text": [
      "+---------+-------------------+\n",
      "|continent|alcohol_consumption|\n",
      "+---------+-------------------+\n",
      "|       NA|  5.995652173913044|\n",
      "|       SA|  6.308333333333334|\n",
      "|       AS| 2.1704545454545454|\n",
      "|       OC| 3.3812500000000005|\n",
      "|       EU|  8.617777777777777|\n",
      "|       AF|   3.00754716981132|\n",
      "+---------+-------------------+\n",
      "\n"
     ]
    }
   ],
   "source": [
    "drinks.groupBy(\"continent\").agg(avg(\"total_litres_of_pure_alcohol\").alias(\"alcohol_consumption\")).show()"
   ]
  },
  {
   "cell_type": "markdown",
   "metadata": {},
   "source": [
    "### Step 7. Print the median alcohol consumption per continent for every column"
   ]
  },
  {
   "cell_type": "code",
   "execution_count": 8,
   "metadata": {},
   "outputs": [
    {
     "name": "stdout",
     "output_type": "stream",
     "text": [
      "+---------+-------------------+\n",
      "|continent|alcohol_consumption|\n",
      "+---------+-------------------+\n",
      "|       NA|                6.3|\n",
      "|       SA|               6.85|\n",
      "|       AS|                1.2|\n",
      "|       OC|               1.75|\n",
      "|       EU|               10.0|\n",
      "|       AF|                2.3|\n",
      "+---------+-------------------+\n",
      "\n"
     ]
    }
   ],
   "source": [
    "drinks.groupBy(\"continent\").agg(median(\"total_litres_of_pure_alcohol\").alias(\"alcohol_consumption\")).show()"
   ]
  },
  {
   "cell_type": "markdown",
   "metadata": {},
   "source": [
    "### Step 8. Print the mean, min and max values for spirit consumption.\n",
    "#### This time output a DataFrame"
   ]
  },
  {
   "cell_type": "code",
   "execution_count": 10,
   "metadata": {},
   "outputs": [
    {
     "name": "stdout",
     "output_type": "stream",
     "text": [
      "+---------+------------------------+-----------------------+-----------------------+\n",
      "|continent|mean_alcohol_consumption|max_alcohol_consumption|min_alcohol_consumption|\n",
      "+---------+------------------------+-----------------------+-----------------------+\n",
      "|       NA|       5.995652173913044|                   11.9|                    2.2|\n",
      "|       SA|       6.308333333333334|                    8.3|                    3.8|\n",
      "|       AS|      2.1704545454545454|                   11.5|                    0.0|\n",
      "|       OC|      3.3812500000000005|                   10.4|                    0.0|\n",
      "|       EU|       8.617777777777777|                   14.4|                    0.0|\n",
      "|       AF|        3.00754716981132|                    9.1|                    0.0|\n",
      "+---------+------------------------+-----------------------+-----------------------+\n",
      "\n"
     ]
    }
   ],
   "source": [
    "drinks.groupBy(\"continent\")\\\n",
    ".agg(mean(\"total_litres_of_pure_alcohol\").alias(\"mean_alcohol_consumption\"),\\\n",
    "     max(\"total_litres_of_pure_alcohol\").alias(\"max_alcohol_consumption\"),\\\n",
    "     min(\"total_litres_of_pure_alcohol\").alias(\"min_alcohol_consumption\")).show()"
   ]
  },
  {
   "cell_type": "code",
   "execution_count": null,
   "metadata": {},
   "outputs": [],
   "source": []
  }
 ],
 "metadata": {
  "kernelspec": {
   "display_name": "Python 3",
   "language": "python",
   "name": "python3"
  },
  "language_info": {
   "codemirror_mode": {
    "name": "ipython",
    "version": 3
   },
   "file_extension": ".py",
   "mimetype": "text/x-python",
   "name": "python",
   "nbconvert_exporter": "python",
   "pygments_lexer": "ipython3",
   "version": "3.8.10"
  }
 },
 "nbformat": 4,
 "nbformat_minor": 0
}
