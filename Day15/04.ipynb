{
 "cells": [
  {
   "cell_type": "markdown",
   "metadata": {},
   "source": [
    "# Ex1 - Filtering and Sorting Data"
   ]
  },
  {
   "cell_type": "markdown",
   "metadata": {},
   "source": [
    "This time we are going to pull data directly from the internet.\n",
    "Special thanks to: https://github.com/justmarkham for sharing the dataset and materials.\n",
    "\n",
    "### Step 1. Import the necessary libraries"
   ]
  },
  {
   "cell_type": "code",
   "execution_count": 1,
   "metadata": {},
   "outputs": [
    {
     "name": "stderr",
     "output_type": "stream",
     "text": [
      "25/05/08 10:30:26 WARN Utils: Your hostname, neosoft-Latitude-E7270 resolves to a loopback address: 127.0.1.1; using 10.0.62.133 instead (on interface wlp1s0)\n",
      "25/05/08 10:30:26 WARN Utils: Set SPARK_LOCAL_IP if you need to bind to another address\n",
      "Setting default log level to \"WARN\".\n",
      "To adjust logging level use sc.setLogLevel(newLevel). For SparkR, use setLogLevel(newLevel).\n",
      "25/05/08 10:30:27 WARN NativeCodeLoader: Unable to load native-hadoop library for your platform... using builtin-java classes where applicable\n"
     ]
    }
   ],
   "source": [
    "from pyspark.sql import SparkSession\n",
    "\n",
    "spark = SparkSession.builder.master(\"local\").appName(\"My Application\").getOrCreate()"
   ]
  },
  {
   "cell_type": "code",
   "execution_count": 2,
   "metadata": {
    "collapsed": false
   },
   "outputs": [],
   "source": [
    "from pyspark.sql.types import *\n",
    "from pyspark.sql.functions import *"
   ]
  },
  {
   "cell_type": "markdown",
   "metadata": {},
   "source": [
    "### Step 2. Import the dataset from this [address](https://raw.githubusercontent.com/justmarkham/DAT8/master/data/chipotle.tsv). "
   ]
  },
  {
   "cell_type": "markdown",
   "metadata": {},
   "source": [
    "### Step 3. Assign it to a variable called chipo."
   ]
  },
  {
   "cell_type": "code",
   "execution_count": 4,
   "metadata": {
    "collapsed": false
   },
   "outputs": [
    {
     "name": "stderr",
     "output_type": "stream",
     "text": [
      "                                                                                \r"
     ]
    },
    {
     "name": "stdout",
     "output_type": "stream",
     "text": [
      "+--------+--------+--------------------+--------------------+----------+\n",
      "|order_id|quantity|           item_name|  choice_description|item_price|\n",
      "+--------+--------+--------------------+--------------------+----------+\n",
      "|       1|       1|Chips and Fresh T...|                NULL|    $2.39 |\n",
      "|       1|       1|                Izze|        [Clementine]|    $3.39 |\n",
      "|       1|       1|    Nantucket Nectar|             [Apple]|    $3.39 |\n",
      "|       1|       1|Chips and Tomatil...|                NULL|    $2.39 |\n",
      "|       2|       2|        Chicken Bowl|[Tomatillo-Red Ch...|   $16.98 |\n",
      "|       3|       1|        Chicken Bowl|[Fresh Tomato Sal...|   $10.98 |\n",
      "|       3|       1|       Side of Chips|                NULL|    $1.69 |\n",
      "|       4|       1|       Steak Burrito|[Tomatillo Red Ch...|   $11.75 |\n",
      "|       4|       1|    Steak Soft Tacos|[Tomatillo Green ...|    $9.25 |\n",
      "|       5|       1|       Steak Burrito|[Fresh Tomato Sal...|    $9.25 |\n",
      "|       5|       1| Chips and Guacamole|                NULL|    $4.45 |\n",
      "|       6|       1|Chicken Crispy Tacos|[Roasted Chili Co...|    $8.75 |\n",
      "|       6|       1|  Chicken Soft Tacos|[Roasted Chili Co...|    $8.75 |\n",
      "|       7|       1|        Chicken Bowl|[Fresh Tomato Sal...|   $11.25 |\n",
      "|       7|       1| Chips and Guacamole|                NULL|    $4.45 |\n",
      "|       8|       1|Chips and Tomatil...|                NULL|    $2.39 |\n",
      "|       8|       1|     Chicken Burrito|[Tomatillo-Green ...|    $8.49 |\n",
      "|       9|       1|     Chicken Burrito|[Fresh Tomato Sal...|    $8.49 |\n",
      "|       9|       2|         Canned Soda|            [Sprite]|    $2.18 |\n",
      "|      10|       1|        Chicken Bowl|[Tomatillo Red Ch...|    $8.75 |\n",
      "+--------+--------+--------------------+--------------------+----------+\n",
      "only showing top 20 rows\n",
      "\n"
     ]
    }
   ],
   "source": [
    "from pyspark.sql.functions import *\n",
    "from pyspark.sql.types import *\n",
    "\n",
    "import pandas as pd\n",
    "\n",
    "chipo = spark.read.format(\"csv\").option(\"header\", \"true\").option(\"sep\", \"\\t\").load(\"04_chipole.tsv\")\n",
    "\n",
    "chipo.show()\n"
   ]
  },
  {
   "cell_type": "markdown",
   "metadata": {},
   "source": [
    "### Step 4. How many products cost more than $10.00?"
   ]
  },
  {
   "cell_type": "code",
   "execution_count": 6,
   "metadata": {
    "collapsed": false
   },
   "outputs": [
    {
     "name": "stdout",
     "output_type": "stream",
     "text": [
      "+--------+--------+------------------+--------------------+----------+----------------+\n",
      "|order_id|quantity|         item_name|  choice_description|item_price|item_price_clean|\n",
      "+--------+--------+------------------+--------------------+----------+----------------+\n",
      "|       2|       2|      Chicken Bowl|[Tomatillo-Red Ch...|   $16.98 |           16.98|\n",
      "|       3|       1|      Chicken Bowl|[Fresh Tomato Sal...|   $10.98 |           10.98|\n",
      "|       4|       1|     Steak Burrito|[Tomatillo Red Ch...|   $11.75 |           11.75|\n",
      "|       7|       1|      Chicken Bowl|[Fresh Tomato Sal...|   $11.25 |           11.25|\n",
      "|      12|       1|   Chicken Burrito|[[Tomatillo-Green...|   $10.98 |           10.98|\n",
      "|      19|       1|     Barbacoa Bowl|[Roasted Chili Co...|   $11.75 |           11.75|\n",
      "|      20|       1|      Chicken Bowl|[Roasted Chili Co...|   $11.25 |           11.25|\n",
      "|      20|       1|     Steak Burrito|[Fresh Tomato Sal...|   $11.75 |           11.75|\n",
      "|      21|       1|   Chicken Burrito|[Tomatillo-Red Ch...|   $10.98 |           10.98|\n",
      "|      24|       1|   Chicken Burrito|[Roasted Chili Co...|   $10.98 |           10.98|\n",
      "|      26|       1|    Veggie Burrito|[Tomatillo Red Ch...|   $11.25 |           11.25|\n",
      "|      27|       1|     Barbacoa Bowl|[Roasted Chili Co...|   $11.75 |           11.75|\n",
      "|      28|       1|       Veggie Bowl|[Fresh Tomato Sal...|   $11.25 |           11.25|\n",
      "|      30|       1|   Chicken Burrito|[Tomatillo-Red Ch...|   $10.98 |           10.98|\n",
      "|      35|       1|Chicken Soft Tacos|[Roasted Chili Co...|   $11.25 |           11.25|\n",
      "|      40|       1|        Steak Bowl|[Fresh Tomato Sal...|   $11.75 |           11.75|\n",
      "|      40|       1|        Steak Bowl|[Fresh Tomato Sal...|   $11.75 |           11.75|\n",
      "|      41|       1|  Carnitas Burrito|[Roasted Chili Co...|   $11.75 |           11.75|\n",
      "|      43|       1|     Carnitas Bowl|[Fresh Tomato Sal...|   $11.75 |           11.75|\n",
      "|      54|       1|      Chicken Bowl|[Fresh Tomato Sal...|   $11.25 |           11.25|\n",
      "+--------+--------+------------------+--------------------+----------+----------------+\n",
      "only showing top 20 rows\n",
      "\n"
     ]
    }
   ],
   "source": [
    "chipo_clean = chipo.withColumn(\"item_price_clean\", regexp_replace(\"item_price\", \"[$]\", \"\").cast(\"float\"))\n",
    "\n",
    "chipo_clean.filter(col(\"item_price_clean\") > 10.00).show()\n"
   ]
  },
  {
   "cell_type": "markdown",
   "metadata": {},
   "source": [
    "### Step 5. What is the price of each item? \n",
    "###### print a data frame with only two columns item_name and item_price"
   ]
  },
  {
   "cell_type": "code",
   "execution_count": 7,
   "metadata": {
    "collapsed": false
   },
   "outputs": [
    {
     "name": "stdout",
     "output_type": "stream",
     "text": [
      "+--------------------+----------+\n",
      "|           item_name|item_price|\n",
      "+--------------------+----------+\n",
      "|Chips and Fresh T...|    $2.39 |\n",
      "|                Izze|    $3.39 |\n",
      "|    Nantucket Nectar|    $3.39 |\n",
      "|Chips and Tomatil...|    $2.39 |\n",
      "|        Chicken Bowl|   $16.98 |\n",
      "|        Chicken Bowl|   $10.98 |\n",
      "|       Side of Chips|    $1.69 |\n",
      "|       Steak Burrito|   $11.75 |\n",
      "|    Steak Soft Tacos|    $9.25 |\n",
      "|       Steak Burrito|    $9.25 |\n",
      "| Chips and Guacamole|    $4.45 |\n",
      "|Chicken Crispy Tacos|    $8.75 |\n",
      "|  Chicken Soft Tacos|    $8.75 |\n",
      "|        Chicken Bowl|   $11.25 |\n",
      "| Chips and Guacamole|    $4.45 |\n",
      "|Chips and Tomatil...|    $2.39 |\n",
      "|     Chicken Burrito|    $8.49 |\n",
      "|     Chicken Burrito|    $8.49 |\n",
      "|         Canned Soda|    $2.18 |\n",
      "|        Chicken Bowl|    $8.75 |\n",
      "+--------------------+----------+\n",
      "only showing top 20 rows\n",
      "\n"
     ]
    }
   ],
   "source": [
    "chipo_clean.select(\"item_name\", \"item_price\").show()"
   ]
  },
  {
   "cell_type": "markdown",
   "metadata": {},
   "source": [
    "### Step 6. Sort by the name of the item"
   ]
  },
  {
   "cell_type": "code",
   "execution_count": 8,
   "metadata": {
    "collapsed": false
   },
   "outputs": [
    {
     "name": "stdout",
     "output_type": "stream",
     "text": [
      "+--------+--------+-----------------+------------------+----------+----------------+\n",
      "|order_id|quantity|        item_name|choice_description|item_price|item_price_clean|\n",
      "+--------+--------+-----------------+------------------+----------+----------------+\n",
      "|     511|       1|6 Pack Soft Drink|            [Coke]|    $6.49 |            6.49|\n",
      "|    1253|       1|6 Pack Soft Drink|        [Lemonade]|    $6.49 |            6.49|\n",
      "|     520|       1|6 Pack Soft Drink|          [Sprite]|    $6.49 |            6.49|\n",
      "|     148|       1|6 Pack Soft Drink|       [Diet Coke]|    $6.49 |            6.49|\n",
      "|     566|       1|6 Pack Soft Drink|       [Diet Coke]|    $6.49 |            6.49|\n",
      "|     168|       1|6 Pack Soft Drink|       [Diet Coke]|    $6.49 |            6.49|\n",
      "|     708|       1|6 Pack Soft Drink|            [Coke]|    $6.49 |            6.49|\n",
      "|     230|       1|6 Pack Soft Drink|       [Diet Coke]|    $6.49 |            6.49|\n",
      "|     709|       1|6 Pack Soft Drink|       [Diet Coke]|    $6.49 |            6.49|\n",
      "|     298|       1|6 Pack Soft Drink|          [Nestea]|    $6.49 |            6.49|\n",
      "|     749|       1|6 Pack Soft Drink|            [Coke]|    $6.49 |            6.49|\n",
      "|     363|       1|6 Pack Soft Drink|            [Coke]|    $6.49 |            6.49|\n",
      "|     754|       1|6 Pack Soft Drink|       [Diet Coke]|    $6.49 |            6.49|\n",
      "|     432|       1|6 Pack Soft Drink|            [Coke]|    $6.49 |            6.49|\n",
      "|     774|       1|6 Pack Soft Drink|       [Diet Coke]|    $6.49 |            6.49|\n",
      "|     481|       1|6 Pack Soft Drink|            [Coke]|    $6.49 |            6.49|\n",
      "|     776|       1|6 Pack Soft Drink|            [Coke]|    $6.49 |            6.49|\n",
      "|     849|       1|6 Pack Soft Drink|            [Coke]|    $6.49 |            6.49|\n",
      "|    1248|       1|6 Pack Soft Drink|       [Diet Coke]|    $6.49 |            6.49|\n",
      "|     899|       1|6 Pack Soft Drink|            [Coke]|    $6.49 |            6.49|\n",
      "+--------+--------+-----------------+------------------+----------+----------------+\n",
      "only showing top 20 rows\n",
      "\n"
     ]
    },
    {
     "name": "stderr",
     "output_type": "stream",
     "text": [
      "                                                                                \r"
     ]
    }
   ],
   "source": [
    "chipo_clean.orderBy(\"item_name\").show()"
   ]
  },
  {
   "cell_type": "markdown",
   "metadata": {},
   "source": [
    "### Step 7. What was the quantity of the most expensive item ordered?"
   ]
  },
  {
   "cell_type": "code",
   "execution_count": 11,
   "metadata": {
    "collapsed": false
   },
   "outputs": [
    {
     "name": "stdout",
     "output_type": "stream",
     "text": [
      "+--------------------+--------+\n",
      "|           item_name|quantity|\n",
      "+--------------------+--------+\n",
      "|Chips and Fresh T...|      15|\n",
      "+--------------------+--------+\n",
      "only showing top 1 row\n",
      "\n"
     ]
    }
   ],
   "source": [
    "chipo_clean.select(\"item_name\", \"quantity\").orderBy(desc(\"item_price_clean\")).show(1)"
   ]
  },
  {
   "cell_type": "markdown",
   "metadata": {},
   "source": [
    "### Step 8. How many times was a Veggie Salad Bowl ordered?"
   ]
  },
  {
   "cell_type": "code",
   "execution_count": 14,
   "metadata": {
    "collapsed": false
   },
   "outputs": [
    {
     "name": "stdout",
     "output_type": "stream",
     "text": [
      "+--------------+\n",
      "|total_quantity|\n",
      "+--------------+\n",
      "|          18.0|\n",
      "+--------------+\n",
      "\n"
     ]
    }
   ],
   "source": [
    "from pyspark.sql.functions import sum, col\n",
    "\n",
    "chipo_clean.filter(col(\"item_name\") == \"Veggie Salad Bowl\") \\\n",
    "           .agg(sum(\"quantity\").alias(\"total_quantity\")) \\\n",
    "           .show()\n"
   ]
  },
  {
   "cell_type": "markdown",
   "metadata": {},
   "source": [
    "### Step 9. How many times did someone order more than one Canned Soda?"
   ]
  },
  {
   "cell_type": "code",
   "execution_count": 18,
   "metadata": {
    "collapsed": false
   },
   "outputs": [
    {
     "name": "stdout",
     "output_type": "stream",
     "text": [
      "+--------+--------+-----------+------------------+----------+----------------+\n",
      "|order_id|quantity|  item_name|choice_description|item_price|item_price_clean|\n",
      "+--------+--------+-----------+------------------+----------+----------------+\n",
      "|       9|       2|Canned Soda|          [Sprite]|    $2.18 |            2.18|\n",
      "|      23|       2|Canned Soda|    [Mountain Dew]|    $2.18 |            2.18|\n",
      "|      73|       2|Canned Soda|       [Diet Coke]|    $2.18 |            2.18|\n",
      "|      76|       2|Canned Soda| [Diet Dr. Pepper]|    $2.18 |            2.18|\n",
      "|     150|       2|Canned Soda|       [Diet Coke]|    $2.18 |            2.18|\n",
      "|     151|       2|Canned Soda|       [Coca Cola]|    $2.18 |            2.18|\n",
      "|     287|       2|Canned Soda|       [Coca Cola]|    $2.18 |            2.18|\n",
      "|     288|       2|Canned Soda|       [Coca Cola]|    $2.18 |            2.18|\n",
      "|     376|       2|Canned Soda|    [Mountain Dew]|    $2.18 |            2.18|\n",
      "|     450|       2|Canned Soda|      [Dr. Pepper]|    $2.18 |            2.18|\n",
      "|     450|       2|Canned Soda|       [Coca Cola]|    $2.18 |            2.18|\n",
      "|     787|       2|Canned Soda|      [Dr. Pepper]|    $2.18 |            2.18|\n",
      "|     859|       2|Canned Soda|       [Diet Coke]|    $2.18 |            2.18|\n",
      "|     901|       4|Canned Soda|          [Sprite]|    $4.36 |            4.36|\n",
      "|    1156|       2|Canned Soda|       [Coca Cola]|    $2.18 |            2.18|\n",
      "|    1156|       2|Canned Soda|          [Sprite]|    $2.18 |            2.18|\n",
      "|    1258|       2|Canned Soda|      [Dr. Pepper]|    $2.18 |            2.18|\n",
      "|    1349|       2|Canned Soda|       [Coca Cola]|    $2.18 |            2.18|\n",
      "|    1440|       2|Canned Soda|       [Diet Coke]|    $2.18 |            2.18|\n",
      "|    1550|       2|Canned Soda|    [Mountain Dew]|    $2.18 |            2.18|\n",
      "+--------+--------+-----------+------------------+----------+----------------+\n",
      "\n"
     ]
    }
   ],
   "source": [
    "from pyspark.sql.functions import col\n",
    "\n",
    "chipo_clean.filter(\n",
    "    (col(\"item_name\") == \"Canned Soda\") & (col(\"quantity\") > 1)\n",
    ").show()\n"
   ]
  },
  {
   "cell_type": "code",
   "execution_count": null,
   "metadata": {},
   "outputs": [],
   "source": []
  }
 ],
 "metadata": {
  "kernelspec": {
   "display_name": "Python 3",
   "language": "python",
   "name": "python3"
  },
  "language_info": {
   "codemirror_mode": {
    "name": "ipython",
    "version": 3
   },
   "file_extension": ".py",
   "mimetype": "text/x-python",
   "name": "python",
   "nbconvert_exporter": "python",
   "pygments_lexer": "ipython3",
   "version": "3.8.10"
  }
 },
 "nbformat": 4,
 "nbformat_minor": 0
}
