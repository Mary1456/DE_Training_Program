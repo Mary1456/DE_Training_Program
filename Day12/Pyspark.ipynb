{
 "cells": [
  {
   "cell_type": "markdown",
   "metadata": {
    "application/vnd.databricks.v1+cell": {
     "cellMetadata": {},
     "inputWidgets": {},
     "nuid": "ca90e8c2-bd9e-45d3-b8ec-0df79445f666",
     "showTitle": false,
     "tableResultSettingsMap": {},
     "title": ""
    }
   },
   "source": [
    "--------------------------------------------------Read a file in spark--------------------------------------------------"
   ]
  },
  {
   "cell_type": "code",
   "execution_count": 0,
   "metadata": {
    "application/vnd.databricks.v1+cell": {
     "cellMetadata": {
      "byteLimit": 2048000,
      "rowLimit": 10000
     },
     "inputWidgets": {},
     "nuid": "4b57ee34-81f8-408b-8f57-c33aa321644b",
     "showTitle": false,
     "tableResultSettingsMap": {},
     "title": ""
    }
   },
   "outputs": [
    {
     "output_type": "stream",
     "name": "stdout",
     "output_type": "stream",
     "text": [
      "+--------------------+-------------------+-----+\n|   DEST_COUNTRY_NAME|ORIGIN_COUNTRY_NAME|count|\n+--------------------+-------------------+-----+\n|       United States|            Romania|    1|\n|       United States|            Ireland|  264|\n|       United States|              India|   69|\n|               Egypt|      United States|   24|\n|   Equatorial Guinea|      United States|    1|\n|       United States|          Singapore|   25|\n|       United States|            Grenada|   54|\n|          Costa Rica|      United States|  477|\n|             Senegal|      United States|   29|\n|       United States|   Marshall Islands|   44|\n|              Guyana|      United States|   17|\n|       United States|       Sint Maarten|   53|\n|               Malta|      United States|    1|\n|             Bolivia|      United States|   46|\n|            Anguilla|      United States|   21|\n|Turks and Caicos ...|      United States|  136|\n|       United States|        Afghanistan|    2|\n|Saint Vincent and...|      United States|    1|\n|               Italy|      United States|  390|\n|       United States|             Russia|  156|\n+--------------------+-------------------+-----+\nonly showing top 20 rows\n\n"
     ]
    }
   ],
   "source": [
    "flight_df = spark.read.format(\"csv\")\\\n",
    "    .option(\"header\", \"true\")\\\n",
    "    .option(\"inferschema\", \"false\")\\\n",
    "    .option(\"mode\", \"PERMISSIVE\")\\\n",
    "    .load(\"/FileStore/tables/flight_csv.csv\")\n",
    "\n",
    "flight_df.show()"
   ]
  },
  {
   "cell_type": "markdown",
   "metadata": {
    "application/vnd.databricks.v1+cell": {
     "cellMetadata": {},
     "inputWidgets": {},
     "nuid": "6c3914ed-ff86-4ff2-adf8-ae0c8d6070ff",
     "showTitle": false,
     "tableResultSettingsMap": {},
     "title": ""
    }
   },
   "source": [
    "--------------------------------------------------Retrieve name of the month and day of the week in spark--------------------------------------------------"
   ]
  },
  {
   "cell_type": "code",
   "execution_count": 0,
   "metadata": {
    "application/vnd.databricks.v1+cell": {
     "cellMetadata": {
      "byteLimit": 2048000,
      "rowLimit": 10000
     },
     "inputWidgets": {},
     "nuid": "fba85b22-eadc-4297-9f81-4e35c71b3b19",
     "showTitle": false,
     "tableResultSettingsMap": {},
     "title": ""
    }
   },
   "outputs": [],
   "source": [
    "from pyspark.sql.functions import *\n",
    "from pyspark.sql.types import *"
   ]
  },
  {
   "cell_type": "code",
   "execution_count": 0,
   "metadata": {
    "application/vnd.databricks.v1+cell": {
     "cellMetadata": {
      "byteLimit": 2048000,
      "rowLimit": 10000
     },
     "inputWidgets": {},
     "nuid": "c200c5a8-03e2-499d-bc63-862f6e2224af",
     "showTitle": false,
     "tableResultSettingsMap": {},
     "title": ""
    }
   },
   "outputs": [
    {
     "output_type": "stream",
     "name": "stdout",
     "output_type": "stream",
     "text": [
      "+---+---------------+---+-----------+---------+\n| id|  employee_name|age|joined_date| location|\n+---+---------------+---+-----------+---------+\n|101|   Aarav Sharma| 28| 2021-06-15|    Delhi|\n|102|     Meera Iyer| 32| 2019-09-23|Bangalore|\n|103|    Rahul Singh| 26| 2022-01-10|   Mumbai|\n|104|   Anjali Verma| 35| 2018-03-05|Hyderabad|\n|105|Siddharth Mehta| 29| 2020-11-17|     Pune|\n|106|    Neha Kapoor| 31| 2017-12-01|    Delhi|\n|107|     Varun Nair| 27| 2023-02-20|  Chennai|\n|108|Ishita Malhotra| 30| 2021-04-11|Bangalore|\n|109|    Kunal Desai| 34| 2016-08-09|   Mumbai|\n|110|    Divya Reddy| 25| 2023-07-01|Hyderabad|\n+---+---------------+---+-----------+---------+\n\n"
     ]
    }
   ],
   "source": [
    "employee_df = spark.read.format(\"csv\")\\\n",
    "    .option(\"header\", \"true\")\\\n",
    "    .option(\"inferschema\", \"false\")\\\n",
    "    .option(\"mode\", \"PERMISSIVE\")\\\n",
    "    .load(\"/FileStore/tables/employee-1.csv\")\n",
    "\n",
    "employee_df.show()"
   ]
  },
  {
   "cell_type": "code",
   "execution_count": 0,
   "metadata": {
    "application/vnd.databricks.v1+cell": {
     "cellMetadata": {
      "byteLimit": 2048000,
      "rowLimit": 10000
     },
     "inputWidgets": {},
     "nuid": "f332ecf1-863e-4f35-8c7f-f96bef229167",
     "showTitle": false,
     "tableResultSettingsMap": {},
     "title": ""
    }
   },
   "outputs": [
    {
     "output_type": "stream",
     "name": "stdout",
     "output_type": "stream",
     "text": [
      "+---+---------------+---+-----------+---------+-----+\n| id|  employee_name|age|joined_date| location|month|\n+---+---------------+---+-----------+---------+-----+\n|101|   Aarav Sharma| 28| 2021-06-15|    Delhi|    6|\n|102|     Meera Iyer| 32| 2019-09-23|Bangalore|    9|\n|103|    Rahul Singh| 26| 2022-01-10|   Mumbai|    1|\n|104|   Anjali Verma| 35| 2018-03-05|Hyderabad|    3|\n|105|Siddharth Mehta| 29| 2020-11-17|     Pune|   11|\n|106|    Neha Kapoor| 31| 2017-12-01|    Delhi|   12|\n|107|     Varun Nair| 27| 2023-02-20|  Chennai|    2|\n|108|Ishita Malhotra| 30| 2021-04-11|Bangalore|    4|\n|109|    Kunal Desai| 34| 2016-08-09|   Mumbai|    8|\n|110|    Divya Reddy| 25| 2023-07-01|Hyderabad|    7|\n+---+---------------+---+-----------+---------+-----+\n\n"
     ]
    }
   ],
   "source": [
    "employee_df.withColumn('month', month(employee_df['joined_date'])).show()"
   ]
  },
  {
   "cell_type": "code",
   "execution_count": 0,
   "metadata": {
    "application/vnd.databricks.v1+cell": {
     "cellMetadata": {
      "byteLimit": 2048000,
      "rowLimit": 10000
     },
     "inputWidgets": {},
     "nuid": "9fa04f76-3ef9-4603-8be7-5112c645d9dc",
     "showTitle": false,
     "tableResultSettingsMap": {},
     "title": ""
    }
   },
   "outputs": [
    {
     "output_type": "stream",
     "name": "stdout",
     "output_type": "stream",
     "text": [
      "+---+---------------+---+-----------+---------+----------+\n| id|  employee_name|age|joined_date| location|month_name|\n+---+---------------+---+-----------+---------+----------+\n|101|   Aarav Sharma| 28| 2021-06-15|    Delhi|      June|\n|102|     Meera Iyer| 32| 2019-09-23|Bangalore| September|\n|103|    Rahul Singh| 26| 2022-01-10|   Mumbai|   January|\n|104|   Anjali Verma| 35| 2018-03-05|Hyderabad|     March|\n|105|Siddharth Mehta| 29| 2020-11-17|     Pune|  November|\n|106|    Neha Kapoor| 31| 2017-12-01|    Delhi|  December|\n|107|     Varun Nair| 27| 2023-02-20|  Chennai|  February|\n|108|Ishita Malhotra| 30| 2021-04-11|Bangalore|     April|\n|109|    Kunal Desai| 34| 2016-08-09|   Mumbai|    August|\n|110|    Divya Reddy| 25| 2023-07-01|Hyderabad|      July|\n+---+---------------+---+-----------+---------+----------+\n\n"
     ]
    }
   ],
   "source": [
    "employee_df.withColumn('month_name', date_format('joined_date', 'MMMM')).show()"
   ]
  },
  {
   "cell_type": "code",
   "execution_count": 0,
   "metadata": {
    "application/vnd.databricks.v1+cell": {
     "cellMetadata": {
      "byteLimit": 2048000,
      "rowLimit": 10000
     },
     "inputWidgets": {},
     "nuid": "e3be1b56-19fd-49bf-bfe7-9f56322b08db",
     "showTitle": false,
     "tableResultSettingsMap": {},
     "title": ""
    }
   },
   "outputs": [
    {
     "output_type": "stream",
     "name": "stdout",
     "output_type": "stream",
     "text": [
      "+---+---------------+---+-----------+---------+--------+\n| id|  employee_name|age|joined_date| location|day_name|\n+---+---------------+---+-----------+---------+--------+\n|101|   Aarav Sharma| 28| 2021-06-15|    Delhi|     Tue|\n|102|     Meera Iyer| 32| 2019-09-23|Bangalore|     Mon|\n|103|    Rahul Singh| 26| 2022-01-10|   Mumbai|     Mon|\n|104|   Anjali Verma| 35| 2018-03-05|Hyderabad|     Mon|\n|105|Siddharth Mehta| 29| 2020-11-17|     Pune|     Tue|\n|106|    Neha Kapoor| 31| 2017-12-01|    Delhi|     Fri|\n|107|     Varun Nair| 27| 2023-02-20|  Chennai|     Mon|\n|108|Ishita Malhotra| 30| 2021-04-11|Bangalore|     Sun|\n|109|    Kunal Desai| 34| 2016-08-09|   Mumbai|     Tue|\n|110|    Divya Reddy| 25| 2023-07-01|Hyderabad|     Sat|\n+---+---------------+---+-----------+---------+--------+\n\n"
     ]
    }
   ],
   "source": [
    "employee_df.withColumn('day_name', date_format('joined_date', 'E')).show()"
   ]
  },
  {
   "cell_type": "markdown",
   "metadata": {
    "application/vnd.databricks.v1+cell": {
     "cellMetadata": {},
     "inputWidgets": {},
     "nuid": "b9f8e24e-5808-489a-9d01-1a21c445f4bb",
     "showTitle": false,
     "tableResultSettingsMap": {},
     "title": ""
    }
   },
   "source": [
    "--------------------------------------------------Perform explode and sequence operations--------------------------------------------------"
   ]
  },
  {
   "cell_type": "code",
   "execution_count": 0,
   "metadata": {
    "application/vnd.databricks.v1+cell": {
     "cellMetadata": {
      "byteLimit": 2048000,
      "rowLimit": 10000
     },
     "inputWidgets": {},
     "nuid": "d270079c-9c67-4e41-b670-1fb1d87875f7",
     "showTitle": false,
     "tableResultSettingsMap": {},
     "title": ""
    }
   },
   "outputs": [
    {
     "output_type": "stream",
     "name": "stdout",
     "output_type": "stream",
     "text": [
      "+----+-------+--------------------+-------------+-------------+-------------+------+\n|code|message|         restaurants|results_found|results_shown|results_start|status|\n+----+-------+--------------------+-------------+-------------+-------------+------+\n|null|   null|                  []|            0|            0|            1|  null|\n|null|   null|[{{{17066603}, b9...|         6835|           20|            1|  null|\n|null|   null|                  []|            0|            0|            1|  null|\n|null|   null|                  []|            0|            0|            1|  null|\n|null|   null|[{{{17093124}, b9...|         8680|           20|            1|  null|\n|null|   null|                  []|            0|            0|            1|  null|\n|null|   null|                  []|            0|            0|            1|  null|\n|null|   null|[{{{17580142}, b9...|          943|           20|            1|  null|\n|null|   null|                  []|            0|            0|            1|  null|\n|null|   null|                  []|            0|            0|            1|  null|\n|null|   null|[{{{17284158}, b9...|          257|           20|            1|  null|\n|null|   null|                  []|            0|            0|            1|  null|\n|null|   null|                  []|            0|            0|            1|  null|\n|null|   null|[{{{17678233}, b9...|          358|           20|            1|  null|\n|null|   null|                  []|            0|            0|            1|  null|\n|null|   null|                  []|            0|            0|            1|  null|\n|null|   null|[{{{17375047}, b9...|          641|           20|            1|  null|\n|null|   null|                  []|            0|            0|            1|  null|\n|null|   null|                  []|            0|            0|            1|  null|\n|null|   null|[{{{17616590}, b9...|         1613|           20|            1|  null|\n+----+-------+--------------------+-------------+-------------+-------------+------+\nonly showing top 20 rows\n\n"
     ]
    }
   ],
   "source": [
    "restaurant_df = spark.read.format(\"json\")\\\n",
    "    .option(\"header\", \"true\")\\\n",
    "    .option(\"inferschema\", \"false\")\\\n",
    "    .option(\"mode\", \"PERMISSIVE\")\\\n",
    "    .load(\"/FileStore/tables/resturant_json_data.json\")\n",
    "\n",
    "restaurant_df.show()"
   ]
  },
  {
   "cell_type": "code",
   "execution_count": 0,
   "metadata": {
    "application/vnd.databricks.v1+cell": {
     "cellMetadata": {
      "byteLimit": 2048000,
      "rowLimit": 10000
     },
     "inputWidgets": {},
     "nuid": "bc9d3ffe-0ffc-4cb7-b1f2-1a3f6cecbfcb",
     "showTitle": false,
     "tableResultSettingsMap": {},
     "title": ""
    }
   },
   "outputs": [
    {
     "output_type": "stream",
     "name": "stdout",
     "output_type": "stream",
     "text": [
      "root\n |-- code: long (nullable = true)\n |-- message: string (nullable = true)\n |-- restaurants: array (nullable = true)\n |    |-- element: struct (containsNull = true)\n |    |    |-- restaurant: struct (nullable = true)\n |    |    |    |-- R: struct (nullable = true)\n |    |    |    |    |-- res_id: long (nullable = true)\n |    |    |    |-- apikey: string (nullable = true)\n |    |    |    |-- average_cost_for_two: long (nullable = true)\n |    |    |    |-- cuisines: string (nullable = true)\n |    |    |    |-- currency: string (nullable = true)\n |    |    |    |-- deeplink: string (nullable = true)\n |    |    |    |-- establishment_types: array (nullable = true)\n |    |    |    |    |-- element: string (containsNull = true)\n |    |    |    |-- events_url: string (nullable = true)\n |    |    |    |-- featured_image: string (nullable = true)\n |    |    |    |-- has_online_delivery: long (nullable = true)\n |    |    |    |-- has_table_booking: long (nullable = true)\n |    |    |    |-- id: string (nullable = true)\n |    |    |    |-- is_delivering_now: long (nullable = true)\n |    |    |    |-- location: struct (nullable = true)\n |    |    |    |    |-- address: string (nullable = true)\n |    |    |    |    |-- city: string (nullable = true)\n |    |    |    |    |-- city_id: long (nullable = true)\n |    |    |    |    |-- country_id: long (nullable = true)\n |    |    |    |    |-- latitude: string (nullable = true)\n |    |    |    |    |-- locality: string (nullable = true)\n |    |    |    |    |-- locality_verbose: string (nullable = true)\n |    |    |    |    |-- longitude: string (nullable = true)\n |    |    |    |    |-- zipcode: string (nullable = true)\n |    |    |    |-- menu_url: string (nullable = true)\n |    |    |    |-- name: string (nullable = true)\n |    |    |    |-- offers: array (nullable = true)\n |    |    |    |    |-- element: string (containsNull = true)\n |    |    |    |-- photos_url: string (nullable = true)\n |    |    |    |-- price_range: long (nullable = true)\n |    |    |    |-- switch_to_order_menu: long (nullable = true)\n |    |    |    |-- thumb: string (nullable = true)\n |    |    |    |-- url: string (nullable = true)\n |    |    |    |-- user_rating: struct (nullable = true)\n |    |    |    |    |-- aggregate_rating: string (nullable = true)\n |    |    |    |    |-- rating_color: string (nullable = true)\n |    |    |    |    |-- rating_text: string (nullable = true)\n |    |    |    |    |-- votes: string (nullable = true)\n |-- results_found: long (nullable = true)\n |-- results_shown: long (nullable = true)\n |-- results_start: string (nullable = true)\n |-- status: string (nullable = true)\n\n"
     ]
    }
   ],
   "source": [
    "restaurant_df.printSchema()"
   ]
  },
  {
   "cell_type": "code",
   "execution_count": 0,
   "metadata": {
    "application/vnd.databricks.v1+cell": {
     "cellMetadata": {
      "byteLimit": 2048000,
      "rowLimit": 10000
     },
     "inputWidgets": {},
     "nuid": "397d22ef-6d2b-47e4-b209-e419c26bcb16",
     "showTitle": false,
     "tableResultSettingsMap": {},
     "title": ""
    }
   },
   "outputs": [
    {
     "output_type": "stream",
     "name": "stdout",
     "output_type": "stream",
     "text": [
      "root\n |-- code: long (nullable = true)\n |-- message: string (nullable = true)\n |-- results_found: long (nullable = true)\n |-- results_shown: long (nullable = true)\n |-- results_start: string (nullable = true)\n |-- status: string (nullable = true)\n |-- new_restaurants: struct (nullable = true)\n |    |-- restaurant: struct (nullable = true)\n |    |    |-- R: struct (nullable = true)\n |    |    |    |-- res_id: long (nullable = true)\n |    |    |-- apikey: string (nullable = true)\n |    |    |-- average_cost_for_two: long (nullable = true)\n |    |    |-- cuisines: string (nullable = true)\n |    |    |-- currency: string (nullable = true)\n |    |    |-- deeplink: string (nullable = true)\n |    |    |-- establishment_types: array (nullable = true)\n |    |    |    |-- element: string (containsNull = true)\n |    |    |-- events_url: string (nullable = true)\n |    |    |-- featured_image: string (nullable = true)\n |    |    |-- has_online_delivery: long (nullable = true)\n |    |    |-- has_table_booking: long (nullable = true)\n |    |    |-- id: string (nullable = true)\n |    |    |-- is_delivering_now: long (nullable = true)\n |    |    |-- location: struct (nullable = true)\n |    |    |    |-- address: string (nullable = true)\n |    |    |    |-- city: string (nullable = true)\n |    |    |    |-- city_id: long (nullable = true)\n |    |    |    |-- country_id: long (nullable = true)\n |    |    |    |-- latitude: string (nullable = true)\n |    |    |    |-- locality: string (nullable = true)\n |    |    |    |-- locality_verbose: string (nullable = true)\n |    |    |    |-- longitude: string (nullable = true)\n |    |    |    |-- zipcode: string (nullable = true)\n |    |    |-- menu_url: string (nullable = true)\n |    |    |-- name: string (nullable = true)\n |    |    |-- offers: array (nullable = true)\n |    |    |    |-- element: string (containsNull = true)\n |    |    |-- photos_url: string (nullable = true)\n |    |    |-- price_range: long (nullable = true)\n |    |    |-- switch_to_order_menu: long (nullable = true)\n |    |    |-- thumb: string (nullable = true)\n |    |    |-- url: string (nullable = true)\n |    |    |-- user_rating: struct (nullable = true)\n |    |    |    |-- aggregate_rating: string (nullable = true)\n |    |    |    |-- rating_color: string (nullable = true)\n |    |    |    |-- rating_text: string (nullable = true)\n |    |    |    |-- votes: string (nullable = true)\n\n"
     ]
    }
   ],
   "source": [
    "restaurant_df.select(\"*\", explode(\"restaurants\").alias(\"new_restaurants\")).drop(\"restaurants\").printSchema()"
   ]
  },
  {
   "cell_type": "code",
   "execution_count": 0,
   "metadata": {
    "application/vnd.databricks.v1+cell": {
     "cellMetadata": {
      "byteLimit": 2048000,
      "rowLimit": 10000
     },
     "inputWidgets": {},
     "nuid": "3a367ff5-3273-40ae-869c-8ac577bd43b8",
     "showTitle": false,
     "tableResultSettingsMap": {},
     "title": ""
    }
   },
   "outputs": [
    {
     "output_type": "stream",
     "name": "stdout",
     "output_type": "stream",
     "text": [
      "+----+-------+-------------+-------------+-------------+------+--------------------+--------+\n|code|message|results_found|results_shown|results_start|status|     new_restaurants|  res_id|\n+----+-------+-------------+-------------+-------------+------+--------------------+--------+\n|null|   null|         6835|           20|            1|  null|{{{17066603}, b90...|17066603|\n|null|   null|         6835|           20|            1|  null|{{{17059541}, b90...|17059541|\n|null|   null|         6835|           20|            1|  null|{{{17064405}, b90...|17064405|\n|null|   null|         6835|           20|            1|  null|{{{17057797}, b90...|17057797|\n|null|   null|         6835|           20|            1|  null|{{{17057591}, b90...|17057591|\n|null|   null|         6835|           20|            1|  null|{{{17064266}, b90...|17064266|\n|null|   null|         6835|           20|            1|  null|{{{17060516}, b90...|17060516|\n|null|   null|         6835|           20|            1|  null|{{{17060320}, b90...|17060320|\n|null|   null|         6835|           20|            1|  null|{{{17059060}, b90...|17059060|\n|null|   null|         6835|           20|            1|  null|{{{17059012}, b90...|17059012|\n|null|   null|         6835|           20|            1|  null|{{{17060869}, b90...|17060869|\n|null|   null|         6835|           20|            1|  null|{{{17061231}, b90...|17061231|\n|null|   null|         6835|           20|            1|  null|{{{17058534}, b90...|17058534|\n|null|   null|         6835|           20|            1|  null|{{{17057925}, b90...|17057925|\n|null|   null|         6835|           20|            1|  null|{{{17064031}, b90...|17064031|\n|null|   null|         6835|           20|            1|  null|{{{17061237}, b90...|17061237|\n|null|   null|         6835|           20|            1|  null|{{{17061253}, b90...|17061253|\n|null|   null|         6835|           20|            1|  null|{{{17061296}, b90...|17061296|\n|null|   null|         6835|           20|            1|  null|{{{17061205}, b90...|17061205|\n|null|   null|         6835|           20|            1|  null|{{{17057397}, b90...|17057397|\n+----+-------+-------------+-------------+-------------+------+--------------------+--------+\nonly showing top 20 rows\n\n"
     ]
    }
   ],
   "source": [
    "restaurant_df.select(\"*\", explode(\"restaurants\").alias(\"new_restaurants\")).drop(\"restaurants\")\\\n",
    "    .select(\"*\",\"new_restaurants.restaurant.R.res_id\").show()"
   ]
  },
  {
   "cell_type": "code",
   "execution_count": 0,
   "metadata": {
    "application/vnd.databricks.v1+cell": {
     "cellMetadata": {
      "byteLimit": 2048000,
      "rowLimit": 10000
     },
     "inputWidgets": {},
     "nuid": "18970293-78ed-4834-b930-53f74ebce354",
     "showTitle": false,
     "tableResultSettingsMap": {},
     "title": ""
    }
   },
   "outputs": [
    {
     "output_type": "stream",
     "name": "stdout",
     "output_type": "stream",
     "text": [
      "root\n |-- code: long (nullable = true)\n |-- message: string (nullable = true)\n |-- results_found: long (nullable = true)\n |-- results_shown: long (nullable = true)\n |-- results_start: string (nullable = true)\n |-- status: string (nullable = true)\n |-- new_restaurants: struct (nullable = true)\n |    |-- restaurant: struct (nullable = true)\n |    |    |-- R: struct (nullable = true)\n |    |    |    |-- res_id: long (nullable = true)\n |    |    |-- apikey: string (nullable = true)\n |    |    |-- average_cost_for_two: long (nullable = true)\n |    |    |-- cuisines: string (nullable = true)\n |    |    |-- currency: string (nullable = true)\n |    |    |-- deeplink: string (nullable = true)\n |    |    |-- establishment_types: array (nullable = true)\n |    |    |    |-- element: string (containsNull = true)\n |    |    |-- events_url: string (nullable = true)\n |    |    |-- featured_image: string (nullable = true)\n |    |    |-- has_online_delivery: long (nullable = true)\n |    |    |-- has_table_booking: long (nullable = true)\n |    |    |-- id: string (nullable = true)\n |    |    |-- is_delivering_now: long (nullable = true)\n |    |    |-- location: struct (nullable = true)\n |    |    |    |-- address: string (nullable = true)\n |    |    |    |-- city: string (nullable = true)\n |    |    |    |-- city_id: long (nullable = true)\n |    |    |    |-- country_id: long (nullable = true)\n |    |    |    |-- latitude: string (nullable = true)\n |    |    |    |-- locality: string (nullable = true)\n |    |    |    |-- locality_verbose: string (nullable = true)\n |    |    |    |-- longitude: string (nullable = true)\n |    |    |    |-- zipcode: string (nullable = true)\n |    |    |-- menu_url: string (nullable = true)\n |    |    |-- name: string (nullable = true)\n |    |    |-- offers: array (nullable = true)\n |    |    |    |-- element: string (containsNull = true)\n |    |    |-- photos_url: string (nullable = true)\n |    |    |-- price_range: long (nullable = true)\n |    |    |-- switch_to_order_menu: long (nullable = true)\n |    |    |-- thumb: string (nullable = true)\n |    |    |-- url: string (nullable = true)\n |    |    |-- user_rating: struct (nullable = true)\n |    |    |    |-- aggregate_rating: string (nullable = true)\n |    |    |    |-- rating_color: string (nullable = true)\n |    |    |    |-- rating_text: string (nullable = true)\n |    |    |    |-- votes: string (nullable = true)\n |-- res_id: long (nullable = true)\n |-- new_establishment_type: string (nullable = true)\n\n"
     ]
    }
   ],
   "source": [
    "restaurant_df.select(\"*\", explode(\"restaurants\").alias(\"new_restaurants\")).drop(\"restaurants\")\\\n",
    "    .select(\"*\",\"new_restaurants.restaurant.R.res_id\", explode(\"new_restaurants.restaurant.establishment_types\")\\\n",
    "        .alias(\"new_establishment_type\")).printSchema()"
   ]
  },
  {
   "cell_type": "code",
   "execution_count": 0,
   "metadata": {
    "application/vnd.databricks.v1+cell": {
     "cellMetadata": {
      "byteLimit": 2048000,
      "rowLimit": 10000
     },
     "inputWidgets": {},
     "nuid": "28b15062-9b3a-49ff-b2b0-82b4346a0b13",
     "showTitle": false,
     "tableResultSettingsMap": {},
     "title": ""
    }
   },
   "outputs": [
    {
     "output_type": "stream",
     "name": "stdout",
     "output_type": "stream",
     "text": [
      "root\n |-- code: long (nullable = true)\n |-- message: string (nullable = true)\n |-- results_found: long (nullable = true)\n |-- results_shown: long (nullable = true)\n |-- results_start: string (nullable = true)\n |-- status: string (nullable = true)\n |-- res_id: long (nullable = true)\n |-- new_establishment_type: string (nullable = true)\n |-- name: string (nullable = true)\n |-- location: struct (nullable = true)\n |    |-- address: string (nullable = true)\n |    |-- city: string (nullable = true)\n |    |-- city_id: long (nullable = true)\n |    |-- country_id: long (nullable = true)\n |    |-- latitude: string (nullable = true)\n |    |-- locality: string (nullable = true)\n |    |-- locality_verbose: string (nullable = true)\n |    |-- longitude: string (nullable = true)\n |    |-- zipcode: string (nullable = true)\n\n"
     ]
    }
   ],
   "source": [
    "restaurant_df.select(\"*\", explode(\"restaurants\").alias(\"new_restaurants\")).drop(\"restaurants\")\\\n",
    "    .select(\"*\",\"new_restaurants.restaurant.R.res_id\", explode(\"new_restaurants.restaurant.establishment_types\")\\\n",
    "        .alias(\"new_establishment_type\"), 'new_restaurants.restaurant.name', 'new_restaurants.restaurant.location'\\\n",
    "            ).drop(\"new_restaurants\").printSchema()"
   ]
  },
  {
   "cell_type": "code",
   "execution_count": 0,
   "metadata": {
    "application/vnd.databricks.v1+cell": {
     "cellMetadata": {
      "byteLimit": 2048000,
      "rowLimit": 10000
     },
     "inputWidgets": {},
     "nuid": "9ea996da-b110-4cc6-8f55-309ef7bc1437",
     "showTitle": false,
     "tableResultSettingsMap": {},
     "title": ""
    }
   },
   "outputs": [
    {
     "output_type": "stream",
     "name": "stdout",
     "output_type": "stream",
     "text": [
      "+--------+----------------------+------------------------------------+\n|res_id  |new_establishment_type|name                                |\n+--------+----------------------+------------------------------------+\n|17066603|null                  |The Coop                            |\n|17059541|null                  |Maggiano's Little Italy             |\n|17064405|null                  |Tako Cheena by Pom Pom              |\n|17057797|null                  |Bosphorous Turkish Cuisine          |\n|17057591|null                  |Bahama Breeze Island Grille         |\n|17064266|null                  |Hawkers Asian Street Fare           |\n|17060516|null                  |Seasons 52 Fresh Grill              |\n|17060320|null                  |Raglan Road Irish Pub and Restaurant|\n|17059060|null                  |Hillstone                           |\n|17059012|null                  |Hollerbach's Willow Tree Café       |\n|17060869|null                  |Texas de Brazil                     |\n|17061231|null                  |The Ravenous Pig                    |\n|17058534|null                  |Earl of Sandwich                    |\n|17057925|null                  |Café Tu Tu Tango                    |\n|17064031|null                  |Tibby's New Orleans Kitchen         |\n|17061237|null                  |Cevíche Tapas Bar & Restaurant      |\n|17061253|null                  |Ethos Vegan Kitchen                 |\n|17061296|null                  |Pom Pom's Teahouse and Sandwicheria |\n|17061205|null                  |Yellow Dog Eats                     |\n|17057397|null                  |'Ohana                              |\n+--------+----------------------+------------------------------------+\nonly showing top 20 rows\n\n"
     ]
    }
   ],
   "source": [
    "restaurant_df.select(\"*\", explode(\"restaurants\").alias(\"new_restaurants\")).drop(\"restaurants\")\\\n",
    "    .select(\"*\",\"new_restaurants.restaurant.R.res_id\", explode_outer(\"new_restaurants.restaurant.establishment_types\")\\\n",
    "        .alias(\"new_establishment_type\"), 'new_restaurants.restaurant.name'\\\n",
    "            ).drop(\"new_restaurants\", \"code\",\"message\", \"results_found\", \"results_start\", \"status\", \"results_shown\").show(truncate=False)"
   ]
  },
  {
   "cell_type": "code",
   "execution_count": 0,
   "metadata": {
    "application/vnd.databricks.v1+cell": {
     "cellMetadata": {
      "byteLimit": 2048000,
      "rowLimit": 10000
     },
     "inputWidgets": {},
     "nuid": "9a186277-5696-448d-af23-d5ee4d59cb7d",
     "showTitle": false,
     "tableResultSettingsMap": {},
     "title": ""
    }
   },
   "outputs": [
    {
     "output_type": "stream",
     "name": "stdout",
     "output_type": "stream",
     "text": [
      "+--------+----------------------+------------------------------------+--------------------------------------------------------------------------------------------------------------------------------------------------------------------------+----------------------------------------------------+-------+-------+-----------+-----------------------------------------------------------------------------------------------------------------------------------------------------+--------------------+---------------------------------+-------------------+-----------------+\n|res_id  |new_establishment_type|name                                |location                                                                                                                                                                  |address                                             |city   |zipcode|price_range|url                                                                                                                                                  |average_cost_for_two|cuisines                         |has_online_delivery|has_table_booking|\n+--------+----------------------+------------------------------------+--------------------------------------------------------------------------------------------------------------------------------------------------------------------------+----------------------------------------------------+-------+-------+-----------+-----------------------------------------------------------------------------------------------------------------------------------------------------+--------------------+---------------------------------+-------------------+-----------------+\n|17066603|null                  |The Coop                            |{610 W Morse Boulevard, Winter Park, FL 32789, Orlando, 601, 216, 28.5973660000, Winter Park, Winter Park, Orlando, -81.3572190000, 32789}                                |610 W Morse Boulevard, Winter Park, FL 32789        |Orlando|32789  |2          |https://www.zomato.com/orlando/the-coop-winter-park?utm_source=api_basic_user&utm_medium=api&utm_campaign=v2.1                                       |25                  |Southern, Cajun, Soul Food       |0                  |0                |\n|17059541|null                  |Maggiano's Little Italy             |{9101 International Drive,Orlando, FL 32819, Orlando, 601, 216, 28.4332350000, I-Drive/Universal, I-Drive/Universal, Orlando, -81.4714470000, 32819}                      |9101 International Drive,Orlando, FL 32819          |Orlando|32819  |4          |https://www.zomato.com/orlando/maggianos-little-italy-i-drive-universal?utm_source=api_basic_user&utm_medium=api&utm_campaign=v2.1                   |50                  |Italian                          |0                  |0                |\n|17064405|null                  |Tako Cheena by Pom Pom              |{932 North Mills Avenue, Orlando, FL 32803, Orlando, 601, 216, 28.5578450000, Mills 50, Mills 50, Orlando, -81.3645470000, 32803}                                         |932 North Mills Avenue, Orlando, FL 32803           |Orlando|32803  |1          |https://www.zomato.com/orlando/tako-cheena-by-pom-pom-orlando?utm_source=api_basic_user&utm_medium=api&utm_campaign=v2.1                             |10                  |Asian, Latin American, Vegetarian|0                  |0                |\n|17057797|null                  |Bosphorous Turkish Cuisine          |{108 S Park Ave, Winter Park, FL 32789, Orlando, 601, 216, 28.5976271000, Winter Park, Winter Park, Orlando, -81.3508344000, 32789}                                       |108 S Park Ave, Winter Park, FL 32789               |Orlando|32789  |3          |https://www.zomato.com/orlando/bosphorous-turkish-cuisine-winter-park?utm_source=api_basic_user&utm_medium=api&utm_campaign=v2.1                     |40                  |Mediterranean, Turkish           |0                  |0                |\n|17057591|null                  |Bahama Breeze Island Grille         |{8849 International Drive, Orlando, FL 32819, Orlando, 601, 216, 28.4370650000, I-Drive/Universal, I-Drive/Universal, Orlando, -81.4715260000, 32819}                     |8849 International Drive, Orlando, FL 32819         |Orlando|32819  |3          |https://www.zomato.com/orlando/bahama-breeze-island-grille-1-orlando?utm_source=api_basic_user&utm_medium=api&utm_campaign=v2.1                      |45                  |Caribbean                        |0                  |0                |\n|17064266|null                  |Hawkers Asian Street Fare           |{1103 N Mills Avenue, Orlando, FL 32803, Orlando, 601, 216, 28.5605050000, Mills 50, Mills 50, Orlando, -81.3643470000, 32803}                                            |1103 N Mills Avenue, Orlando, FL 32803              |Orlando|32803  |3          |https://www.zomato.com/orlando/hawkers-asian-street-fare-mills-50?utm_source=api_basic_user&utm_medium=api&utm_campaign=v2.1                         |35                  |Asian, Thai                      |0                  |0                |\n|17060516|null                  |Seasons 52 Fresh Grill              |{7700 West Sand Lake Road, Orlando, FL 32819, Orlando, 601, 216, 28.4481750000, Restaurant Row, Restaurant Row, Orlando, -81.4879780000, 32819}                           |7700 West Sand Lake Road, Orlando, FL 32819         |Orlando|32819  |4          |https://www.zomato.com/orlando/seasons-52-fresh-grill-orlando?utm_source=api_basic_user&utm_medium=api&utm_campaign=v2.1                             |60                  |American                         |0                  |0                |\n|17060320|null                  |Raglan Road Irish Pub and Restaurant|{1640 E Buena Vista Drive, Lake Buena Vista, FL 32830, Orlando, 601, 216, 28.3713380000, Disney: Downtown Disney, Disney: Downtown Disney, Orlando, -81.5177250000, 32830}|1640 E Buena Vista Drive, Lake Buena Vista, FL 32830|Orlando|32830  |4          |https://www.zomato.com/orlando/raglan-road-irish-pub-and-restaurant-disney-downtown-disney?utm_source=api_basic_user&utm_medium=api&utm_campaign=v2.1|50                  |Irish                            |0                  |0                |\n|17059060|null                  |Hillstone                           |{215 South Orlando Avenue, Winter Park, FL 32789, Orlando, 601, 216, 28.5966820000, Winter Park, Winter Park, Orlando, -81.3652600000, 32789}                             |215 South Orlando Avenue, Winter Park, FL 32789     |Orlando|32789  |3          |https://www.zomato.com/orlando/hillstone-winter-park?utm_source=api_basic_user&utm_medium=api&utm_campaign=v2.1                                      |40                  |                                 |0                  |0                |\n|17059012|null                  |Hollerbach's Willow Tree Café       |{205 East 1st Street, Sanford, FL 32771, Orlando, 601, 216, 28.8116530000, Sanford, Sanford, Orlando, -81.2668710000, 32771}                                              |205 East 1st Street, Sanford, FL 32771              |Orlando|32771  |3          |https://www.zomato.com/orlando/hollerbachs-willow-tree-café-sanford?utm_source=api_basic_user&utm_medium=api&utm_campaign=v2.1                       |40                  |German                           |0                  |0                |\n|17060869|null                  |Texas de Brazil                     |{5259 International Drive, Orlando, FL 32819, Orlando, 601, 216, 28.4676808000, I-Drive/Universal, I-Drive/Universal, Orlando, -81.4510725000, 32819}                     |5259 International Drive, Orlando, FL 32819         |Orlando|32819  |4          |https://www.zomato.com/orlando/texas-de-brazil-i-drive-universal?utm_source=api_basic_user&utm_medium=api&utm_campaign=v2.1                          |100                 |Brazilian, Steak                 |0                  |0                |\n|17061231|null                  |The Ravenous Pig                    |{565 W Fairbanks Avenue, Winter Park, FL 32789, Orlando, 601, 216, 28.5932970000, Winter Park, Winter Park, Orlando, -81.3560240000, 32789}                               |565 W Fairbanks Avenue, Winter Park, FL 32789       |Orlando|32789  |3          |https://www.zomato.com/orlando/the-ravenous-pig-winter-park?utm_source=api_basic_user&utm_medium=api&utm_campaign=v2.1                               |40                  |Pub Food                         |0                  |0                |\n|17058534|null                  |Earl of Sandwich                    |{1750 E Buena Vista Drive, Lake Buena Vista, FL 32830, Orlando, 601, 216, 28.3728580000, Disney: Downtown Disney, Disney: Downtown Disney, Orlando, -81.5146080000, 32830}|1750 E Buena Vista Drive, Lake Buena Vista, FL 32830|Orlando|32830  |3          |https://www.zomato.com/orlando/earl-of-sandwich-disney-downtown-disney?utm_source=api_basic_user&utm_medium=api&utm_campaign=v2.1                    |35                  |American, Sandwich, Salad        |0                  |0                |\n|17057925|null                  |Café Tu Tu Tango                    |{8625 International Drive, Orlando, FL 32819, Orlando, 601, 216, 28.4403440000, I-Drive/Universal, I-Drive/Universal, Orlando, -81.4699860000, 32819}                     |8625 International Drive, Orlando, FL 32819         |Orlando|32819  |3          |https://www.zomato.com/orlando/café-tu-tu-tango-orlando?utm_source=api_basic_user&utm_medium=api&utm_campaign=v2.1                                   |40                  |New American, Tapas              |0                  |0                |\n|17064031|null                  |Tibby's New Orleans Kitchen         |{2203 Aloma Avenue, Winter Park, FL 32792, Orlando, 601, 216, 28.6010880000, Winter Park, Winter Park, Orlando, -81.3226310000, 32792}                                    |2203 Aloma Avenue, Winter Park, FL 32792            |Orlando|32792  |2          |https://www.zomato.com/orlando/tibbys-new-orleans-kitchen-winter-park?utm_source=api_basic_user&utm_medium=api&utm_campaign=v2.1                     |25                  |Cajun                            |0                  |0                |\n|17061237|null                  |Cevíche Tapas Bar & Restaurant      |{125 West Church Street, Orlando, FL 32801, Orlando, 601, 216, 28.5404320000, Church Street District, Church Street District, Orlando, -81.3810770000, 32801}             |125 West Church Street, Orlando, FL 32801           |Orlando|32801  |3          |https://www.zomato.com/orlando/cevíche-tapas-bar-restaurant-orlando?utm_source=api_basic_user&utm_medium=api&utm_campaign=v2.1                       |40                  |Spanish, Tapas                   |0                  |0                |\n|17061253|null                  |Ethos Vegan Kitchen                 |{601-B South New York Avenue, Winter Park, FL 32789, Orlando, 601, 216, 28.5928570000, Winter Park, Winter Park, Orlando, -81.3529210000, 32789}                          |601-B South New York Avenue, Winter Park, FL 32789  |Orlando|32789  |2          |https://www.zomato.com/orlando/ethos-vegan-kitchen-winter-park?utm_source=api_basic_user&utm_medium=api&utm_campaign=v2.1                            |25                  |American, Breakfast, Vegetarian  |0                  |0                |\n|17061296|null                  |Pom Pom's Teahouse and Sandwicheria |{67 North Bumby Avenue, Orlando, FL 32803, Orlando, 601, 216, 28.5435710000, The Milk District, The Milk District, Orlando, -81.3514670000, 32803}                        |67 North Bumby Avenue, Orlando, FL 32803            |Orlando|32803  |2          |https://www.zomato.com/orlando/pom-poms-teahouse-and-sandwicheria-orlando?utm_source=api_basic_user&utm_medium=api&utm_campaign=v2.1                 |25                  |American, Sandwich, Tea          |0                  |0                |\n|17061205|null                  |Yellow Dog Eats                     |{1236 Hempel Avenue,Gotha, FL 34786, Orlando, 601, 216, 28.5275920000, Windermere, Windermere, Orlando, -81.5229870000, 34786}                                            |1236 Hempel Avenue,Gotha, FL 34786                  |Orlando|34786  |3          |https://www.zomato.com/orlando/yellow-dog-eats-windermere?utm_source=api_basic_user&utm_medium=api&utm_campaign=v2.1                                 |35                  |American, BBQ, Sandwich          |0                  |0                |\n|17057397|null                  |'Ohana                              |{1600 Seven Seas Drive, Lake Buena Vista, FL 32830, Orlando, 601, 216, 28.4054370000, Disney World Area, Disney World Area, Orlando, -81.5852260000, 32830}               |1600 Seven Seas Drive, Lake Buena Vista, FL 32830   |Orlando|32830  |3          |https://www.zomato.com/orlando/ohana-disney-world-area?utm_source=api_basic_user&utm_medium=api&utm_campaign=v2.1                                    |45                  |Hawaiian                         |0                  |0                |\n+--------+----------------------+------------------------------------+--------------------------------------------------------------------------------------------------------------------------------------------------------------------------+----------------------------------------------------+-------+-------+-----------+-----------------------------------------------------------------------------------------------------------------------------------------------------+--------------------+---------------------------------+-------------------+-----------------+\nonly showing top 20 rows\n\n"
     ]
    }
   ],
   "source": [
    "restaurant_df.select(\"*\", explode(\"restaurants\").alias(\"new_restaurants\")).drop(\"restaurants\")\\\n",
    "    .select(\"*\",\"new_restaurants.restaurant.R.res_id\", \\\n",
    "                explode_outer(\"new_restaurants.restaurant.establishment_types\").alias(\"new_establishment_type\"),\\\n",
    "                'new_restaurants.restaurant.name', \\\n",
    "                'new_restaurants.restaurant.location',\\\n",
    "                'new_restaurants.restaurant.location.address', \\\n",
    "                'new_restaurants.restaurant.location.city', \\\n",
    "                'new_restaurants.restaurant.location.zipcode',\\\n",
    "                'new_restaurants.restaurant.price_range', \\\n",
    "                'new_restaurants.restaurant.url', \\\n",
    "                'new_restaurants.restaurant.average_cost_for_two',\\\n",
    "                'new_restaurants.restaurant.cuisines', \\\n",
    "                'new_restaurants.restaurant.has_online_delivery', \\\n",
    "                'new_restaurants.restaurant.has_table_booking'\n",
    "            ).drop(\"new_restaurants\", \"code\",\"message\", \"results_found\", \"results_start\", \"status\", \"results_shown\").show(truncate=False)"
   ]
  },
  {
   "cell_type": "code",
   "execution_count": 0,
   "metadata": {
    "application/vnd.databricks.v1+cell": {
     "cellMetadata": {
      "byteLimit": 2048000,
      "rowLimit": 10000
     },
     "inputWidgets": {},
     "nuid": "4461f396-ade5-4c3a-80e8-25e37f97ba31",
     "showTitle": false,
     "tableResultSettingsMap": {},
     "title": ""
    }
   },
   "outputs": [
    {
     "output_type": "stream",
     "name": "stdout",
     "output_type": "stream",
     "text": [
      "+----------------------+----------------------------------------------------------------------+------+--------+------------------------------------+-----------+-----------------------------------------------------------------------------------------------------------------------------------------------------+--------------------+---------------------------------+-------------------+-----------------+\n|new_establishment_type|location                                                              |offers|res_id  |name                                |price_range|url                                                                                                                                                  |average_cost_for_two|cuisines                         |has_online_delivery|has_table_booking|\n+----------------------+----------------------------------------------------------------------+------+--------+------------------------------------+-----------+-----------------------------------------------------------------------------------------------------------------------------------------------------+--------------------+---------------------------------+-------------------+-----------------+\n|null                  |{610 W Morse Boulevard, Winter Park, FL 32789, Orlando, 32789}        |null  |17066603|The Coop                            |2          |https://www.zomato.com/orlando/the-coop-winter-park?utm_source=api_basic_user&utm_medium=api&utm_campaign=v2.1                                       |25                  |Southern, Cajun, Soul Food       |0                  |0                |\n|null                  |{9101 International Drive,Orlando, FL 32819, Orlando, 32819}          |null  |17059541|Maggiano's Little Italy             |4          |https://www.zomato.com/orlando/maggianos-little-italy-i-drive-universal?utm_source=api_basic_user&utm_medium=api&utm_campaign=v2.1                   |50                  |Italian                          |0                  |0                |\n|null                  |{932 North Mills Avenue, Orlando, FL 32803, Orlando, 32803}           |null  |17064405|Tako Cheena by Pom Pom              |1          |https://www.zomato.com/orlando/tako-cheena-by-pom-pom-orlando?utm_source=api_basic_user&utm_medium=api&utm_campaign=v2.1                             |10                  |Asian, Latin American, Vegetarian|0                  |0                |\n|null                  |{108 S Park Ave, Winter Park, FL 32789, Orlando, 32789}               |null  |17057797|Bosphorous Turkish Cuisine          |3          |https://www.zomato.com/orlando/bosphorous-turkish-cuisine-winter-park?utm_source=api_basic_user&utm_medium=api&utm_campaign=v2.1                     |40                  |Mediterranean, Turkish           |0                  |0                |\n|null                  |{8849 International Drive, Orlando, FL 32819, Orlando, 32819}         |null  |17057591|Bahama Breeze Island Grille         |3          |https://www.zomato.com/orlando/bahama-breeze-island-grille-1-orlando?utm_source=api_basic_user&utm_medium=api&utm_campaign=v2.1                      |45                  |Caribbean                        |0                  |0                |\n|null                  |{1103 N Mills Avenue, Orlando, FL 32803, Orlando, 32803}              |null  |17064266|Hawkers Asian Street Fare           |3          |https://www.zomato.com/orlando/hawkers-asian-street-fare-mills-50?utm_source=api_basic_user&utm_medium=api&utm_campaign=v2.1                         |35                  |Asian, Thai                      |0                  |0                |\n|null                  |{7700 West Sand Lake Road, Orlando, FL 32819, Orlando, 32819}         |null  |17060516|Seasons 52 Fresh Grill              |4          |https://www.zomato.com/orlando/seasons-52-fresh-grill-orlando?utm_source=api_basic_user&utm_medium=api&utm_campaign=v2.1                             |60                  |American                         |0                  |0                |\n|null                  |{1640 E Buena Vista Drive, Lake Buena Vista, FL 32830, Orlando, 32830}|null  |17060320|Raglan Road Irish Pub and Restaurant|4          |https://www.zomato.com/orlando/raglan-road-irish-pub-and-restaurant-disney-downtown-disney?utm_source=api_basic_user&utm_medium=api&utm_campaign=v2.1|50                  |Irish                            |0                  |0                |\n|null                  |{215 South Orlando Avenue, Winter Park, FL 32789, Orlando, 32789}     |null  |17059060|Hillstone                           |3          |https://www.zomato.com/orlando/hillstone-winter-park?utm_source=api_basic_user&utm_medium=api&utm_campaign=v2.1                                      |40                  |                                 |0                  |0                |\n|null                  |{205 East 1st Street, Sanford, FL 32771, Orlando, 32771}              |null  |17059012|Hollerbach's Willow Tree Café       |3          |https://www.zomato.com/orlando/hollerbachs-willow-tree-café-sanford?utm_source=api_basic_user&utm_medium=api&utm_campaign=v2.1                       |40                  |German                           |0                  |0                |\n|null                  |{5259 International Drive, Orlando, FL 32819, Orlando, 32819}         |null  |17060869|Texas de Brazil                     |4          |https://www.zomato.com/orlando/texas-de-brazil-i-drive-universal?utm_source=api_basic_user&utm_medium=api&utm_campaign=v2.1                          |100                 |Brazilian, Steak                 |0                  |0                |\n|null                  |{565 W Fairbanks Avenue, Winter Park, FL 32789, Orlando, 32789}       |null  |17061231|The Ravenous Pig                    |3          |https://www.zomato.com/orlando/the-ravenous-pig-winter-park?utm_source=api_basic_user&utm_medium=api&utm_campaign=v2.1                               |40                  |Pub Food                         |0                  |0                |\n|null                  |{1750 E Buena Vista Drive, Lake Buena Vista, FL 32830, Orlando, 32830}|null  |17058534|Earl of Sandwich                    |3          |https://www.zomato.com/orlando/earl-of-sandwich-disney-downtown-disney?utm_source=api_basic_user&utm_medium=api&utm_campaign=v2.1                    |35                  |American, Sandwich, Salad        |0                  |0                |\n|null                  |{8625 International Drive, Orlando, FL 32819, Orlando, 32819}         |null  |17057925|Café Tu Tu Tango                    |3          |https://www.zomato.com/orlando/café-tu-tu-tango-orlando?utm_source=api_basic_user&utm_medium=api&utm_campaign=v2.1                                   |40                  |New American, Tapas              |0                  |0                |\n|null                  |{2203 Aloma Avenue, Winter Park, FL 32792, Orlando, 32792}            |null  |17064031|Tibby's New Orleans Kitchen         |2          |https://www.zomato.com/orlando/tibbys-new-orleans-kitchen-winter-park?utm_source=api_basic_user&utm_medium=api&utm_campaign=v2.1                     |25                  |Cajun                            |0                  |0                |\n|null                  |{125 West Church Street, Orlando, FL 32801, Orlando, 32801}           |null  |17061237|Cevíche Tapas Bar & Restaurant      |3          |https://www.zomato.com/orlando/cevíche-tapas-bar-restaurant-orlando?utm_source=api_basic_user&utm_medium=api&utm_campaign=v2.1                       |40                  |Spanish, Tapas                   |0                  |0                |\n|null                  |{601-B South New York Avenue, Winter Park, FL 32789, Orlando, 32789}  |null  |17061253|Ethos Vegan Kitchen                 |2          |https://www.zomato.com/orlando/ethos-vegan-kitchen-winter-park?utm_source=api_basic_user&utm_medium=api&utm_campaign=v2.1                            |25                  |American, Breakfast, Vegetarian  |0                  |0                |\n|null                  |{67 North Bumby Avenue, Orlando, FL 32803, Orlando, 32803}            |null  |17061296|Pom Pom's Teahouse and Sandwicheria |2          |https://www.zomato.com/orlando/pom-poms-teahouse-and-sandwicheria-orlando?utm_source=api_basic_user&utm_medium=api&utm_campaign=v2.1                 |25                  |American, Sandwich, Tea          |0                  |0                |\n|null                  |{1236 Hempel Avenue,Gotha, FL 34786, Orlando, 34786}                  |null  |17061205|Yellow Dog Eats                     |3          |https://www.zomato.com/orlando/yellow-dog-eats-windermere?utm_source=api_basic_user&utm_medium=api&utm_campaign=v2.1                                 |35                  |American, BBQ, Sandwich          |0                  |0                |\n|null                  |{1600 Seven Seas Drive, Lake Buena Vista, FL 32830, Orlando, 32830}   |null  |17057397|'Ohana                              |3          |https://www.zomato.com/orlando/ohana-disney-world-area?utm_source=api_basic_user&utm_medium=api&utm_campaign=v2.1                                    |45                  |Hawaiian                         |0                  |0                |\n+----------------------+----------------------------------------------------------------------+------+--------+------------------------------------+-----------+-----------------------------------------------------------------------------------------------------------------------------------------------------+--------------------+---------------------------------+-------------------+-----------------+\nonly showing top 20 rows\n\n"
     ]
    }
   ],
   "source": [
    "df1 = restaurant_df.select(\"*\", explode(\"restaurants\").alias(\"new_restaurants\")).drop(\"restaurants\")\n",
    "\n",
    "df2 = df1.select(\"*\", \n",
    "    explode_outer(\"new_restaurants.restaurant.establishment_types\").alias(\"new_establishment_type\")\n",
    ")\n",
    "df3 = df2.withColumn(\n",
    "    \"location\",\n",
    "    struct(\n",
    "        col(\"new_restaurants.restaurant.location.address\").alias(\"address\"),\n",
    "        col(\"new_restaurants.restaurant.location.city\").alias(\"city\"),\n",
    "        col(\"new_restaurants.restaurant.location.zipcode\").alias(\"zipcode\")\n",
    "    )\n",
    ")\n",
    "\n",
    "df4 = df3.select(\"*\",\n",
    "    explode_outer(\"new_restaurants.restaurant.offers\").alias(\"offers\"),\n",
    "    'new_restaurants.restaurant.R.res_id',\n",
    "    'new_restaurants.restaurant.name',\n",
    "    'new_restaurants.restaurant.price_range',\n",
    "    'new_restaurants.restaurant.url',\n",
    "    'new_restaurants.restaurant.average_cost_for_two',\n",
    "    'new_restaurants.restaurant.cuisines',\n",
    "    'new_restaurants.restaurant.has_online_delivery',\n",
    "    'new_restaurants.restaurant.has_table_booking'\n",
    ").drop(\"new_restaurants\", \"code\", \"message\", \"results_found\", \"results_start\", \"status\", \"results_shown\", \"city_id\")\n",
    "\n",
    "df4.show(truncate=False)\n"
   ]
  },
  {
   "cell_type": "markdown",
   "metadata": {
    "application/vnd.databricks.v1+cell": {
     "cellMetadata": {},
     "inputWidgets": {},
     "nuid": "f9365c90-08ae-44af-b2d2-185b4487cb0e",
     "showTitle": false,
     "tableResultSettingsMap": {},
     "title": ""
    }
   },
   "source": [
    "--------------------------------------------------Apply different conditions on exploded dataframe--------------------------------------------------"
   ]
  },
  {
   "cell_type": "code",
   "execution_count": 0,
   "metadata": {
    "application/vnd.databricks.v1+cell": {
     "cellMetadata": {
      "byteLimit": 2048000,
      "rowLimit": 10000
     },
     "inputWidgets": {},
     "nuid": "dc0f3f0e-0a34-48a5-9eb1-b66f0bc6a22e",
     "showTitle": false,
     "tableResultSettingsMap": {},
     "title": ""
    }
   },
   "outputs": [
    {
     "output_type": "stream",
     "name": "stdout",
     "output_type": "stream",
     "text": [
      "root\n |-- new_establishment_type: string (nullable = true)\n |-- location: struct (nullable = false)\n |    |-- address: string (nullable = true)\n |    |-- city: string (nullable = true)\n |    |-- zipcode: string (nullable = true)\n |-- offers: string (nullable = true)\n |-- res_id: long (nullable = true)\n |-- name: string (nullable = true)\n |-- price_range: long (nullable = true)\n |-- url: string (nullable = true)\n |-- average_cost_for_two: long (nullable = true)\n |-- cuisines: string (nullable = true)\n |-- has_online_delivery: long (nullable = true)\n |-- has_table_booking: long (nullable = true)\n\n"
     ]
    }
   ],
   "source": [
    "df4.printSchema()"
   ]
  },
  {
   "cell_type": "code",
   "execution_count": 0,
   "metadata": {
    "application/vnd.databricks.v1+cell": {
     "cellMetadata": {
      "byteLimit": 2048000,
      "rowLimit": 10000
     },
     "inputWidgets": {},
     "nuid": "5ebf3b88-573a-4504-af39-e9716c6479e6",
     "showTitle": false,
     "tableResultSettingsMap": {},
     "title": ""
    }
   },
   "outputs": [
    {
     "output_type": "stream",
     "name": "stdout",
     "output_type": "stream",
     "text": [
      "+----------------------------------------------------------------------+\n|location                                                              |\n+----------------------------------------------------------------------+\n|{610 W Morse Boulevard, Winter Park, FL 32789, Orlando, 32789}        |\n|{9101 International Drive,Orlando, FL 32819, Orlando, 32819}          |\n|{932 North Mills Avenue, Orlando, FL 32803, Orlando, 32803}           |\n|{108 S Park Ave, Winter Park, FL 32789, Orlando, 32789}               |\n|{8849 International Drive, Orlando, FL 32819, Orlando, 32819}         |\n|{1103 N Mills Avenue, Orlando, FL 32803, Orlando, 32803}              |\n|{7700 West Sand Lake Road, Orlando, FL 32819, Orlando, 32819}         |\n|{1640 E Buena Vista Drive, Lake Buena Vista, FL 32830, Orlando, 32830}|\n|{215 South Orlando Avenue, Winter Park, FL 32789, Orlando, 32789}     |\n|{205 East 1st Street, Sanford, FL 32771, Orlando, 32771}              |\n|{5259 International Drive, Orlando, FL 32819, Orlando, 32819}         |\n|{565 W Fairbanks Avenue, Winter Park, FL 32789, Orlando, 32789}       |\n|{1750 E Buena Vista Drive, Lake Buena Vista, FL 32830, Orlando, 32830}|\n|{8625 International Drive, Orlando, FL 32819, Orlando, 32819}         |\n|{2203 Aloma Avenue, Winter Park, FL 32792, Orlando, 32792}            |\n|{125 West Church Street, Orlando, FL 32801, Orlando, 32801}           |\n|{601-B South New York Avenue, Winter Park, FL 32789, Orlando, 32789}  |\n|{67 North Bumby Avenue, Orlando, FL 32803, Orlando, 32803}            |\n|{1236 Hempel Avenue,Gotha, FL 34786, Orlando, 34786}                  |\n|{1600 Seven Seas Drive, Lake Buena Vista, FL 32830, Orlando, 32830}   |\n+----------------------------------------------------------------------+\nonly showing top 20 rows\n\n"
     ]
    }
   ],
   "source": [
    "df4.select('location').show(truncate=False)"
   ]
  },
  {
   "cell_type": "code",
   "execution_count": 0,
   "metadata": {
    "application/vnd.databricks.v1+cell": {
     "cellMetadata": {
      "byteLimit": 2048000,
      "rowLimit": 10000
     },
     "inputWidgets": {},
     "nuid": "2ffb7a6c-fa70-488c-9819-5594bcd9515a",
     "showTitle": false,
     "tableResultSettingsMap": {},
     "title": ""
    }
   },
   "outputs": [
    {
     "output_type": "stream",
     "name": "stdout",
     "output_type": "stream",
     "text": [
      "+----------------------+--------------------+------+--------+--------------------+-----------+--------------------+--------------------+--------------------+-------------------+-----------------+\n|new_establishment_type|            location|offers|  res_id|                name|price_range|                 url|average_cost_for_two|            cuisines|has_online_delivery|has_table_booking|\n+----------------------+--------------------+------+--------+--------------------+-----------+--------------------+--------------------+--------------------+-------------------+-----------------+\n|                  null|{610 W Morse Boul...|  null|17066603|            The Coop|          2|https://www.zomat...|                  25|Southern, Cajun, ...|                  0|                0|\n|                  null|{9101 Internation...|  null|17059541|Maggiano's Little...|          4|https://www.zomat...|                  50|             Italian|                  0|                0|\n|                  null|{932 North Mills ...|  null|17064405|Tako Cheena by Po...|          1|https://www.zomat...|                  10|Asian, Latin Amer...|                  0|                0|\n|                  null|{108 S Park Ave, ...|  null|17057797|Bosphorous Turkis...|          3|https://www.zomat...|                  40|Mediterranean, Tu...|                  0|                0|\n|                  null|{8849 Internation...|  null|17057591|Bahama Breeze Isl...|          3|https://www.zomat...|                  45|           Caribbean|                  0|                0|\n|                  null|{1103 N Mills Ave...|  null|17064266|Hawkers Asian Str...|          3|https://www.zomat...|                  35|         Asian, Thai|                  0|                0|\n|                  null|{7700 West Sand L...|  null|17060516|Seasons 52 Fresh ...|          4|https://www.zomat...|                  60|            American|                  0|                0|\n|                  null|{1640 E Buena Vis...|  null|17060320|Raglan Road Irish...|          4|https://www.zomat...|                  50|               Irish|                  0|                0|\n|                  null|{215 South Orland...|  null|17059060|           Hillstone|          3|https://www.zomat...|                  40|                    |                  0|                0|\n|                  null|{205 East 1st Str...|  null|17059012|Hollerbach's Will...|          3|https://www.zomat...|                  40|              German|                  0|                0|\n|                  null|{5259 Internation...|  null|17060869|     Texas de Brazil|          4|https://www.zomat...|                 100|    Brazilian, Steak|                  0|                0|\n|                  null|{565 W Fairbanks ...|  null|17061231|    The Ravenous Pig|          3|https://www.zomat...|                  40|            Pub Food|                  0|                0|\n|                  null|{1750 E Buena Vis...|  null|17058534|    Earl of Sandwich|          3|https://www.zomat...|                  35|American, Sandwic...|                  0|                0|\n|                  null|{8625 Internation...|  null|17057925|    Café Tu Tu Tango|          3|https://www.zomat...|                  40| New American, Tapas|                  0|                0|\n|                  null|{2203 Aloma Avenu...|  null|17064031|Tibby's New Orlea...|          2|https://www.zomat...|                  25|               Cajun|                  0|                0|\n|                  null|{125 West Church ...|  null|17061237|Cevíche Tapas Bar...|          3|https://www.zomat...|                  40|      Spanish, Tapas|                  0|                0|\n|                  null|{601-B South New ...|  null|17061253| Ethos Vegan Kitchen|          2|https://www.zomat...|                  25|American, Breakfa...|                  0|                0|\n|                  null|{67 North Bumby A...|  null|17061296|Pom Pom's Teahous...|          2|https://www.zomat...|                  25|American, Sandwic...|                  0|                0|\n|                  null|{1236 Hempel Aven...|  null|17061205|     Yellow Dog Eats|          3|https://www.zomat...|                  35|American, BBQ, Sa...|                  0|                0|\n|                  null|{1600 Seven Seas ...|  null|17057397|              'Ohana|          3|https://www.zomat...|                  45|            Hawaiian|                  0|                0|\n+----------------------+--------------------+------+--------+--------------------+-----------+--------------------+--------------------+--------------------+-------------------+-----------------+\n\n"
     ]
    }
   ],
   "source": [
    "df4.filter(df4['location']['city'] == \"Orlando\").show()\n"
   ]
  },
  {
   "cell_type": "code",
   "execution_count": 0,
   "metadata": {
    "application/vnd.databricks.v1+cell": {
     "cellMetadata": {
      "byteLimit": 2048000,
      "rowLimit": 10000
     },
     "inputWidgets": {},
     "nuid": "762b3430-b53f-4b9f-9187-ff480d6877c0",
     "showTitle": false,
     "tableResultSettingsMap": {},
     "title": ""
    }
   },
   "outputs": [
    {
     "output_type": "stream",
     "name": "stdout",
     "output_type": "stream",
     "text": [
      "+----------------+--------------------+-----------+-------------------+-----------------+--------------------+\n|            name|            location|price_range|           cuisines|has_table_booking|average_cost_for_two|\n+----------------+--------------------+-----------+-------------------+-----------------+--------------------+\n|Café Tu Tu Tango|{8625 Internation...|          3|New American, Tapas|                0|                  40|\n+----------------+--------------------+-----------+-------------------+-----------------+--------------------+\n\n"
     ]
    }
   ],
   "source": [
    "df4.select(\"name\", \"location\", \"price_range\", 'cuisines', 'has_table_booking', 'average_cost_for_two'\\\n",
    "    ).filter(df4['name'] == \"Café Tu Tu Tango\").show()\n"
   ]
  },
  {
   "cell_type": "markdown",
   "metadata": {
    "application/vnd.databricks.v1+cell": {
     "cellMetadata": {},
     "inputWidgets": {},
     "nuid": "d8b72b48-4564-4091-bcde-ff3e0eb45eef",
     "showTitle": false,
     "tableResultSettingsMap": {},
     "title": ""
    }
   },
   "source": [
    "--------------------------------------------------Retrieve month and year from date--------------------------------------------------"
   ]
  },
  {
   "cell_type": "code",
   "execution_count": 0,
   "metadata": {
    "application/vnd.databricks.v1+cell": {
     "cellMetadata": {
      "byteLimit": 2048000,
      "rowLimit": 10000
     },
     "inputWidgets": {},
     "nuid": "19aa6277-2918-483a-882e-6b63062014fa",
     "showTitle": false,
     "tableResultSettingsMap": {},
     "title": ""
    }
   },
   "outputs": [
    {
     "output_type": "stream",
     "name": "stdout",
     "output_type": "stream",
     "text": [
      "+---+---------------+---+-----------+---------+\n| id|  employee_name|age|joined_date| location|\n+---+---------------+---+-----------+---------+\n|101|   Aarav Sharma| 28| 2021-06-15|    Delhi|\n|102|     Meera Iyer| 32| 2019-09-23|Bangalore|\n|103|    Rahul Singh| 26| 2022-01-10|   Mumbai|\n|104|   Anjali Verma| 35| 2018-03-05|Hyderabad|\n|105|Siddharth Mehta| 29| 2020-11-17|     Pune|\n|106|    Neha Kapoor| 31| 2017-12-01|    Delhi|\n|107|     Varun Nair| 27| 2023-02-20|  Chennai|\n|108|Ishita Malhotra| 30| 2021-04-11|Bangalore|\n|109|    Kunal Desai| 34| 2016-08-09|   Mumbai|\n|110|    Divya Reddy| 25| 2023-07-01|Hyderabad|\n+---+---------------+---+-----------+---------+\n\n"
     ]
    }
   ],
   "source": [
    "employee_df.show()"
   ]
  },
  {
   "cell_type": "code",
   "execution_count": 0,
   "metadata": {
    "application/vnd.databricks.v1+cell": {
     "cellMetadata": {
      "byteLimit": 2048000,
      "rowLimit": 10000
     },
     "inputWidgets": {},
     "nuid": "5b183c5e-8975-4f2a-8f58-01429bc9e75e",
     "showTitle": false,
     "tableResultSettingsMap": {},
     "title": ""
    }
   },
   "outputs": [
    {
     "output_type": "stream",
     "name": "stdout",
     "output_type": "stream",
     "text": [
      "+---+---------------+---+-----------+---------+----+-----+----+\n| id|  employee_name|age|joined_date| location|year|month|date|\n+---+---------------+---+-----------+---------+----+-----+----+\n|101|   Aarav Sharma| 28| 2021-06-15|    Delhi|2021|    6|  15|\n|102|     Meera Iyer| 32| 2019-09-23|Bangalore|2019|    9|  23|\n|103|    Rahul Singh| 26| 2022-01-10|   Mumbai|2022|    1|  10|\n|104|   Anjali Verma| 35| 2018-03-05|Hyderabad|2018|    3|   5|\n|105|Siddharth Mehta| 29| 2020-11-17|     Pune|2020|   11|  17|\n|106|    Neha Kapoor| 31| 2017-12-01|    Delhi|2017|   12|   1|\n|107|     Varun Nair| 27| 2023-02-20|  Chennai|2023|    2|  20|\n|108|Ishita Malhotra| 30| 2021-04-11|Bangalore|2021|    4|  11|\n|109|    Kunal Desai| 34| 2016-08-09|   Mumbai|2016|    8|   9|\n|110|    Divya Reddy| 25| 2023-07-01|Hyderabad|2023|    7|   1|\n+---+---------------+---+-----------+---------+----+-----+----+\n\n"
     ]
    }
   ],
   "source": [
    "employee_df.withColumn('year', year(employee_df['joined_date']))\\\n",
    "    .withColumn('month', month(employee_df['joined_date']))\\\n",
    "    .withColumn('date', dayofmonth(employee_df['joined_date'])).show()"
   ]
  },
  {
   "cell_type": "markdown",
   "metadata": {
    "application/vnd.databricks.v1+cell": {
     "cellMetadata": {},
     "inputWidgets": {},
     "nuid": "06828232-4ccc-4263-a258-1f387f2ee806",
     "showTitle": false,
     "tableResultSettingsMap": {},
     "title": ""
    }
   },
   "source": [
    "--------------------------------------------------Filter data--------------------------------------------------"
   ]
  },
  {
   "cell_type": "code",
   "execution_count": 0,
   "metadata": {
    "application/vnd.databricks.v1+cell": {
     "cellMetadata": {
      "byteLimit": 2048000,
      "rowLimit": 10000
     },
     "inputWidgets": {},
     "nuid": "481c7108-10d8-4fb6-9e44-dce30e3529f1",
     "showTitle": false,
     "tableResultSettingsMap": {},
     "title": ""
    }
   },
   "outputs": [
    {
     "output_type": "stream",
     "name": "stdout",
     "output_type": "stream",
     "text": [
      "+---------------+---+---------+\n|  employee_name|age| location|\n+---------------+---+---------+\n|   Aarav Sharma| 28|    Delhi|\n|     Meera Iyer| 32|Bangalore|\n|    Rahul Singh| 26|   Mumbai|\n|   Anjali Verma| 35|Hyderabad|\n|Siddharth Mehta| 29|     Pune|\n|    Neha Kapoor| 31|    Delhi|\n|     Varun Nair| 27|  Chennai|\n|Ishita Malhotra| 30|Bangalore|\n|    Kunal Desai| 34|   Mumbai|\n+---------------+---+---------+\n\n"
     ]
    }
   ],
   "source": [
    "employee_df.select(\"employee_name\", \"age\", \"location\").filter(employee_df['age'] > 28).show()"
   ]
  },
  {
   "cell_type": "code",
   "execution_count": 0,
   "metadata": {
    "application/vnd.databricks.v1+cell": {
     "cellMetadata": {
      "byteLimit": 2048000,
      "rowLimit": 10000
     },
     "inputWidgets": {},
     "nuid": "84753993-585d-402f-a56f-3b0188cb5b79",
     "showTitle": false,
     "tableResultSettingsMap": {},
     "title": ""
    }
   },
   "outputs": [
    {
     "output_type": "stream",
     "name": "stdout",
     "output_type": "stream",
     "text": [
      "+-------------+---+---------+\n|employee_name|age| location|\n+-------------+---+---------+\n| Aarav Sharma| 28|    Delhi|\n|  Rahul Singh| 26|   Mumbai|\n|   Varun Nair| 27|  Chennai|\n|  Divya Reddy| 25|Hyderabad|\n+-------------+---+---------+\n\n"
     ]
    }
   ],
   "source": [
    "employee_df.select(\"employee_name\", \"age\", \"location\").filter(employee_df['age'] <= 28).show()"
   ]
  },
  {
   "cell_type": "code",
   "execution_count": 0,
   "metadata": {
    "application/vnd.databricks.v1+cell": {
     "cellMetadata": {
      "byteLimit": 2048000,
      "rowLimit": 10000
     },
     "inputWidgets": {},
     "nuid": "99da2939-2d85-4793-8785-3d068e2a322f",
     "showTitle": false,
     "tableResultSettingsMap": {},
     "title": ""
    }
   },
   "outputs": [
    {
     "output_type": "stream",
     "name": "stdout",
     "output_type": "stream",
     "text": [
      "+-------------+---+--------+\n|employee_name|age|location|\n+-------------+---+--------+\n|  Rahul Singh| 26|  Mumbai|\n|  Kunal Desai| 34|  Mumbai|\n+-------------+---+--------+\n\n"
     ]
    }
   ],
   "source": [
    "employee_df.select(\"employee_name\", \"age\", \"location\").where(employee_df['location'] == 'Mumbai').show()"
   ]
  },
  {
   "cell_type": "code",
   "execution_count": 0,
   "metadata": {
    "application/vnd.databricks.v1+cell": {
     "cellMetadata": {
      "byteLimit": 2048000,
      "rowLimit": 10000
     },
     "inputWidgets": {},
     "nuid": "0f525bf5-ace2-4b48-ba9b-61506499574b",
     "showTitle": false,
     "tableResultSettingsMap": {},
     "title": ""
    }
   },
   "outputs": [
    {
     "output_type": "stream",
     "name": "stdout",
     "output_type": "stream",
     "text": [
      "+---------------+---+---------+\n|  employee_name|age| location|\n+---------------+---+---------+\n|   Aarav Sharma| 28|    Delhi|\n|     Meera Iyer| 32|Bangalore|\n|   Anjali Verma| 35|Hyderabad|\n|Siddharth Mehta| 29|     Pune|\n|    Neha Kapoor| 31|    Delhi|\n|     Varun Nair| 27|  Chennai|\n|Ishita Malhotra| 30|Bangalore|\n|    Divya Reddy| 25|Hyderabad|\n+---------------+---+---------+\n\n"
     ]
    }
   ],
   "source": [
    "employee_df.select(\"employee_name\", \"age\", \"location\").where(employee_df['location'] != 'Mumbai').show()"
   ]
  },
  {
   "cell_type": "markdown",
   "metadata": {
    "application/vnd.databricks.v1+cell": {
     "cellMetadata": {
      "byteLimit": 2048000,
      "rowLimit": 10000
     },
     "inputWidgets": {},
     "nuid": "28fd218f-fb30-4a27-831b-7a23afcfaad4",
     "showTitle": false,
     "tableResultSettingsMap": {},
     "title": ""
    }
   },
   "source": [
    "------------------------Add (n) number of months  and (n) number of days to ficen conditional date-----------------------------------"
   ]
  },
  {
   "cell_type": "code",
   "execution_count": 0,
   "metadata": {
    "application/vnd.databricks.v1+cell": {
     "cellMetadata": {
      "byteLimit": 2048000,
      "rowLimit": 10000
     },
     "inputWidgets": {},
     "nuid": "29d324f4-3526-49f4-9f67-ca05342a69fe",
     "showTitle": false,
     "tableResultSettingsMap": {},
     "title": ""
    }
   },
   "outputs": [
    {
     "output_type": "stream",
     "name": "stdout",
     "output_type": "stream",
     "text": [
      "+---+-----------+-------------+-----------+----------+\n| id|joined_date|months_to_add|days_to_add|final_date|\n+---+-----------+-------------+-----------+----------+\n|101| 2025-01-01|            2|         10|2025-03-11|\n|102| 2025-02-15|            1|          5|2025-03-20|\n|103| 2025-03-20|            0|          0|2025-03-20|\n|104| 2025-01-30|           -3|        -20|2024-10-10|\n+---+-----------+-------------+-----------+----------+\n\n"
     ]
    }
   ],
   "source": [
    "data = [\n",
    "    (101, \"2025-01-01\", 2, 10),\n",
    "    (102, \"2025-02-15\", 1, 5),\n",
    "    (103, \"2025-03-20\", 0, 0),\n",
    "    (104, \"2025-01-30\", -3, -20)\n",
    "]\n",
    "schema = [\"id\", \"joined_date\", \"months_to_add\", \"days_to_add\"]\n",
    "df = spark.createDataFrame(data=data, schema=schema)\n",
    "\n",
    "df.withColumn(\"final_date\", date_add(add_months(col(\"joined_date\"), \\\n",
    "    col(\"months_to_add\").cast(\"int\")), \\\n",
    "        col(\"days_to_add\").cast(\"int\"))).show()\n"
   ]
  },
  {
   "cell_type": "code",
   "execution_count": 0,
   "metadata": {
    "application/vnd.databricks.v1+cell": {
     "cellMetadata": {
      "byteLimit": 2048000,
      "rowLimit": 10000
     },
     "inputWidgets": {},
     "nuid": "05f51a60-e319-4ee1-9246-def33eba59b4",
     "showTitle": false,
     "tableResultSettingsMap": {},
     "title": ""
    }
   },
   "outputs": [
    {
     "output_type": "stream",
     "name": "stdout",
     "output_type": "stream",
     "text": [
      "root\n |-- id: long (nullable = true)\n |-- joined_date: string (nullable = true)\n |-- months_to_add: long (nullable = true)\n |-- days_to_add: long (nullable = true)\n\n"
     ]
    }
   ],
   "source": [
    "df.printSchema()"
   ]
  },
  {
   "cell_type": "markdown",
   "metadata": {
    "application/vnd.databricks.v1+cell": {
     "cellMetadata": {},
     "inputWidgets": {},
     "nuid": "625549cb-4da3-4f0d-9333-336b63d2d48d",
     "showTitle": false,
     "tableResultSettingsMap": {},
     "title": ""
    }
   },
   "source": [
    "--------------------------------------------------Access a variable from one notebook to another--------------------------------------------------"
   ]
  },
  {
   "cell_type": "code",
   "execution_count": 0,
   "metadata": {
    "application/vnd.databricks.v1+cell": {
     "cellMetadata": {
      "byteLimit": 2048000,
      "rowLimit": 10000
     },
     "inputWidgets": {},
     "nuid": "b75ad9b9-a511-4f7c-9a88-6c915e689b55",
     "showTitle": false,
     "tableResultSettingsMap": {},
     "title": ""
    }
   },
   "outputs": [],
   "source": [
    "employee_df.createOrReplaceTempView(\"employee_table\")"
   ]
  },
  {
   "cell_type": "code",
   "execution_count": 0,
   "metadata": {
    "application/vnd.databricks.v1+cell": {
     "cellMetadata": {
      "byteLimit": 2048000,
      "rowLimit": 10000
     },
     "inputWidgets": {},
     "nuid": "1163a34e-7dd6-4c42-a051-255f85a22ca0",
     "showTitle": false,
     "tableResultSettingsMap": {},
     "title": ""
    }
   },
   "outputs": [
    {
     "output_type": "stream",
     "name": "stdout",
     "output_type": "stream",
     "text": [
      "+---+---------------+---+-----------+---------+\n| id|  employee_name|age|joined_date| location|\n+---+---------------+---+-----------+---------+\n|101|   Aarav Sharma| 28| 2021-06-15|    Delhi|\n|102|     Meera Iyer| 32| 2019-09-23|Bangalore|\n|103|    Rahul Singh| 26| 2022-01-10|   Mumbai|\n|104|   Anjali Verma| 35| 2018-03-05|Hyderabad|\n|105|Siddharth Mehta| 29| 2020-11-17|     Pune|\n|106|    Neha Kapoor| 31| 2017-12-01|    Delhi|\n|107|     Varun Nair| 27| 2023-02-20|  Chennai|\n|108|Ishita Malhotra| 30| 2021-04-11|Bangalore|\n|109|    Kunal Desai| 34| 2016-08-09|   Mumbai|\n|110|    Divya Reddy| 25| 2023-07-01|Hyderabad|\n+---+---------------+---+-----------+---------+\n\n"
     ]
    }
   ],
   "source": [
    "spark.sql(\"\"\"\n",
    "        select * from employee_table\n",
    "        \"\"\").show()"
   ]
  },
  {
   "cell_type": "code",
   "execution_count": 0,
   "metadata": {
    "application/vnd.databricks.v1+cell": {
     "cellMetadata": {
      "byteLimit": 2048000,
      "rowLimit": 10000
     },
     "inputWidgets": {},
     "nuid": "7403e954-02b2-4311-9131-efa6bcec83a1",
     "showTitle": false,
     "tableResultSettingsMap": {},
     "title": ""
    }
   },
   "outputs": [
    {
     "output_type": "stream",
     "name": "stdout",
     "output_type": "stream",
     "text": [
      "Child notebook has run successfully\n"
     ]
    }
   ],
   "source": [
    "%run /Users/maryvishakha.nadar@neosoftmail.com/access_notebook"
   ]
  },
  {
   "cell_type": "code",
   "execution_count": 0,
   "metadata": {
    "application/vnd.databricks.v1+cell": {
     "cellMetadata": {
      "byteLimit": 2048000,
      "rowLimit": 10000
     },
     "inputWidgets": {},
     "nuid": "9fba26aa-66e2-43b1-ad72-5db75cd524a9",
     "showTitle": false,
     "tableResultSettingsMap": {},
     "title": ""
    }
   },
   "outputs": [
    {
     "output_type": "stream",
     "name": "stdout",
     "output_type": "stream",
     "text": [
      "The sum of 10 and 20 is 30.\nHello there, Elon Musk!\n"
     ]
    }
   ],
   "source": [
    "a = 10\n",
    "b = 20\n",
    "sum_result = add(a, b)\n",
    "print(f\"The sum of {a} and {b} is {sum_result}.\")\n",
    "\n",
    "name = \"Elon Musk\"\n",
    "greeting_message = greet(name)\n",
    "print(greeting_message)\n"
   ]
  },
  {
   "cell_type": "markdown",
   "metadata": {
    "application/vnd.databricks.v1+cell": {
     "cellMetadata": {
      "byteLimit": 2048000,
      "rowLimit": 10000
     },
     "inputWidgets": {},
     "nuid": "5e77819d-47f3-49d4-95d6-a196caba71a5",
     "showTitle": false,
     "tableResultSettingsMap": {},
     "title": ""
    }
   },
   "source": [
    "---------------------------------perform operations using python datetime and timedelta module--------------------------------------"
   ]
  },
  {
   "cell_type": "code",
   "execution_count": 0,
   "metadata": {
    "application/vnd.databricks.v1+cell": {
     "cellMetadata": {
      "byteLimit": 2048000,
      "rowLimit": 10000
     },
     "inputWidgets": {},
     "nuid": "7d19c4ff-5355-4b0d-9359-cf5c33a88df2",
     "showTitle": false,
     "tableResultSettingsMap": {},
     "title": ""
    }
   },
   "outputs": [],
   "source": [
    "from datetime import datetime, timedelta\n"
   ]
  },
  {
   "cell_type": "code",
   "execution_count": 0,
   "metadata": {
    "application/vnd.databricks.v1+cell": {
     "cellMetadata": {
      "byteLimit": 2048000,
      "rowLimit": 10000
     },
     "inputWidgets": {},
     "nuid": "17b49217-8abe-4fe7-aa7d-16c4e14a9974",
     "showTitle": false,
     "tableResultSettingsMap": {},
     "title": ""
    }
   },
   "outputs": [
    {
     "output_type": "stream",
     "name": "stdout",
     "output_type": "stream",
     "text": [
      "+----------------+------+------+------+------+------+-----------+\n|            Date|Symbol|  Open|  High|   Low| Close|     Volume|\n+----------------+------+------+------+------+------+-----------+\n|2020-03-13 08-PM|ETHUSD|129.94|131.82|126.87|128.71| 1940673.93|\n|2020-03-13 07-PM|ETHUSD|119.51|132.02| 117.1|129.94| 7579741.09|\n|2020-03-13 06-PM|ETHUSD|124.47|124.85| 115.5|119.51| 4898735.81|\n|2020-03-13 05-PM|ETHUSD|124.08|127.42|121.63|124.47| 2753450.92|\n|2020-03-13 04-PM|ETHUSD|124.85|129.51|120.17|124.08| 4461424.71|\n|2020-03-13 03-PM|ETHUSD|128.39| 128.9|116.06|124.85|  7378976.0|\n|2020-03-13 02-PM|ETHUSD|134.03| 137.9| 125.5|128.39| 3733916.89|\n|2020-03-13 01-PM|ETHUSD|131.35|140.95|128.99|134.03| 9582732.93|\n|2020-03-13 12-PM|ETHUSD|128.93| 134.6|126.95|131.35| 3906590.52|\n|2020-03-13 11-AM|ETHUSD| 132.6|133.17|126.01|128.93| 3311080.29|\n|2020-03-13 10-AM|ETHUSD| 133.8|134.99| 128.9| 132.6| 3483436.48|\n|2020-03-13 09-AM|ETHUSD|127.12|136.53|126.62| 133.8| 2767584.44|\n|2020-03-13 08-AM|ETHUSD|127.57| 133.1|121.94|127.12| 6808571.23|\n|2020-03-13 07-AM|ETHUSD|127.28| 129.0|120.83|127.57| 5255468.75|\n|2020-03-13 06-AM|ETHUSD|116.87|127.93|114.45|127.28| 5701691.64|\n|2020-03-13 05-AM|ETHUSD|111.87| 124.0|110.75|116.87| 6507796.34|\n|2020-03-13 04-AM|ETHUSD|130.91|130.91|106.43|111.87| 7802511.68|\n|2020-03-13 03-AM|ETHUSD|117.02| 148.0|115.15|130.91|19431820.56|\n|2020-03-13 02-AM|ETHUSD| 98.88|127.74|  90.0|117.02|18546413.74|\n|2020-03-13 01-AM|ETHUSD|107.09|110.99|  97.0| 98.88| 8079507.05|\n+----------------+------+------+------+------+------+-----------+\nonly showing top 20 rows\n\n"
     ]
    }
   ],
   "source": [
    "stock_df = spark.read.format(\"csv\")\\\n",
    "    .option(\"header\", \"true\")\\\n",
    "        .option(\"infrastructure\", \"false\")\\\n",
    "            .load(\"/FileStore/tables/ETH_1h.csv\")\n",
    "\n",
    "stock_df.show()"
   ]
  },
  {
   "cell_type": "code",
   "execution_count": 0,
   "metadata": {
    "application/vnd.databricks.v1+cell": {
     "cellMetadata": {
      "byteLimit": 2048000,
      "rowLimit": 10000
     },
     "inputWidgets": {},
     "nuid": "4994a495-5454-436b-8c4f-240802d8a688",
     "showTitle": false,
     "tableResultSettingsMap": {},
     "title": ""
    }
   },
   "outputs": [
    {
     "output_type": "stream",
     "name": "stdout",
     "output_type": "stream",
     "text": [
      "Out[132]: 23674"
     ]
    }
   ],
   "source": [
    "stock_df.count()"
   ]
  },
  {
   "cell_type": "markdown",
   "metadata": {
    "application/vnd.databricks.v1+cell": {
     "cellMetadata": {},
     "inputWidgets": {},
     "nuid": "a4e5425c-7062-437b-9d7a-2588e532b5dc",
     "showTitle": false,
     "tableResultSettingsMap": {},
     "title": ""
    }
   },
   "source": [
    "* **Datetime**"
   ]
  },
  {
   "cell_type": "code",
   "execution_count": 0,
   "metadata": {
    "application/vnd.databricks.v1+cell": {
     "cellMetadata": {
      "byteLimit": 2048000,
      "rowLimit": 10000
     },
     "inputWidgets": {},
     "nuid": "3d04dc78-7cbe-4299-837d-fe0ac58fbcb3",
     "showTitle": false,
     "tableResultSettingsMap": {},
     "title": ""
    }
   },
   "outputs": [
    {
     "output_type": "stream",
     "name": "stdout",
     "output_type": "stream",
     "text": [
      "Todays date and time: 2025-04-30 08:51:27.830849\n"
     ]
    }
   ],
   "source": [
    "# get todays date and time\n",
    "print(\"Todays date and time:\",datetime.now())"
   ]
  },
  {
   "cell_type": "code",
   "execution_count": 0,
   "metadata": {
    "application/vnd.databricks.v1+cell": {
     "cellMetadata": {
      "byteLimit": 2048000,
      "rowLimit": 10000
     },
     "inputWidgets": {},
     "nuid": "2596a2dd-a23e-4cf1-b33b-1b6e4eb8782e",
     "showTitle": false,
     "tableResultSettingsMap": {},
     "title": ""
    }
   },
   "outputs": [
    {
     "output_type": "stream",
     "name": "stdout",
     "output_type": "stream",
     "text": [
      "Date without timezone: 2025-04-30 08:52:19.185250\n"
     ]
    }
   ],
   "source": [
    "#get the date and time without timezone\n",
    "print(\"Date without timezone:\", datetime.today())"
   ]
  },
  {
   "cell_type": "code",
   "execution_count": 0,
   "metadata": {
    "application/vnd.databricks.v1+cell": {
     "cellMetadata": {
      "byteLimit": 2048000,
      "rowLimit": 10000
     },
     "inputWidgets": {},
     "nuid": "f70a2357-d18d-46a7-9547-84a769703746",
     "showTitle": false,
     "tableResultSettingsMap": {},
     "title": ""
    }
   },
   "outputs": [
    {
     "output_type": "stream",
     "name": "stdout",
     "output_type": "stream",
     "text": [
      "Current Utc datetime: 2025-04-30 08:53:06.077130\n"
     ]
    }
   ],
   "source": [
    "# Current Utc datetime\n",
    "print(\"Current Utc datetime:\", datetime.utcnow())"
   ]
  },
  {
   "cell_type": "code",
   "execution_count": 0,
   "metadata": {
    "application/vnd.databricks.v1+cell": {
     "cellMetadata": {
      "byteLimit": 2048000,
      "rowLimit": 10000
     },
     "inputWidgets": {},
     "nuid": "2c576fdb-d107-4adb-8f12-263976da19b5",
     "showTitle": false,
     "tableResultSettingsMap": {},
     "title": ""
    }
   },
   "outputs": [
    {
     "output_type": "stream",
     "name": "stdout",
     "output_type": "stream",
     "text": [
      "COnvert Timestamp to Date time: 2025-04-30 08:55:40\n"
     ]
    }
   ],
   "source": [
    "print(\"COnvert Timestamp to Date time:\",datetime.fromtimestamp(1746003340))"
   ]
  },
  {
   "cell_type": "code",
   "execution_count": 0,
   "metadata": {
    "application/vnd.databricks.v1+cell": {
     "cellMetadata": {
      "byteLimit": 2048000,
      "rowLimit": 10000
     },
     "inputWidgets": {},
     "nuid": "50b0c56e-1d90-4f59-bf16-4e59f7ac5098",
     "showTitle": false,
     "tableResultSettingsMap": {},
     "title": ""
    }
   },
   "outputs": [
    {
     "output_type": "stream",
     "name": "stdout",
     "output_type": "stream",
     "text": [
      "COnvert datetime to timestamp: 1746003410.28577\n"
     ]
    }
   ],
   "source": [
    "print(\"COnvert datetime to timestamp:\", datetime.timestamp(datetime.now()))"
   ]
  },
  {
   "cell_type": "code",
   "execution_count": 0,
   "metadata": {
    "application/vnd.databricks.v1+cell": {
     "cellMetadata": {
      "byteLimit": 2048000,
      "rowLimit": 10000
     },
     "inputWidgets": {},
     "nuid": "a5fdc301-7baa-4858-9e96-b2f5bd1096b9",
     "showTitle": false,
     "tableResultSettingsMap": {},
     "title": ""
    }
   },
   "outputs": [
    {
     "output_type": "stream",
     "name": "stdout",
     "output_type": "stream",
     "text": [
      "Parse string to datetime: 2024-06-15 00:00:00\n"
     ]
    }
   ],
   "source": [
    "print(\"Parse string to datetime:\", datetime.strptime(\"2024-06-15\", \"%Y-%m-%d\"))"
   ]
  },
  {
   "cell_type": "code",
   "execution_count": 0,
   "metadata": {
    "application/vnd.databricks.v1+cell": {
     "cellMetadata": {
      "byteLimit": 2048000,
      "rowLimit": 10000
     },
     "inputWidgets": {},
     "nuid": "546e27c0-1b0e-4310-9969-2411f2f30b24",
     "showTitle": false,
     "tableResultSettingsMap": {},
     "title": ""
    }
   },
   "outputs": [
    {
     "output_type": "stream",
     "name": "stdout",
     "output_type": "stream",
     "text": [
      "convert datetime to string: 2025-April-30\n"
     ]
    }
   ],
   "source": [
    "print(\"convert datetime to string:\", datetime.strftime(datetime.now(), \"%Y-%B-%d\"))"
   ]
  },
  {
   "cell_type": "code",
   "execution_count": 0,
   "metadata": {
    "application/vnd.databricks.v1+cell": {
     "cellMetadata": {
      "byteLimit": 2048000,
      "rowLimit": 10000
     },
     "inputWidgets": {},
     "nuid": "65a7fb08-6a33-4e15-8cae-11e2d89a4eef",
     "showTitle": false,
     "tableResultSettingsMap": {},
     "title": ""
    }
   },
   "outputs": [
    {
     "output_type": "stream",
     "name": "stdout",
     "output_type": "stream",
     "text": [
      "Get the date only: 2025-04-30\n"
     ]
    }
   ],
   "source": [
    "print(\"Get the date only:\", datetime.date(datetime.now()))"
   ]
  },
  {
   "cell_type": "code",
   "execution_count": 0,
   "metadata": {
    "application/vnd.databricks.v1+cell": {
     "cellMetadata": {
      "byteLimit": 2048000,
      "rowLimit": 10000
     },
     "inputWidgets": {},
     "nuid": "acdbf525-7138-4185-9fbd-ee73d9a1b700",
     "showTitle": false,
     "tableResultSettingsMap": {},
     "title": ""
    }
   },
   "outputs": [
    {
     "output_type": "stream",
     "name": "stdout",
     "output_type": "stream",
     "text": [
      "Get the time only: 09:05:20.507785\n"
     ]
    }
   ],
   "source": [
    "print(\"Get the time only:\",datetime.time(datetime.now()))"
   ]
  },
  {
   "cell_type": "code",
   "execution_count": 0,
   "metadata": {
    "application/vnd.databricks.v1+cell": {
     "cellMetadata": {
      "byteLimit": 2048000,
      "rowLimit": 10000
     },
     "inputWidgets": {},
     "nuid": "fdbd9e79-806e-461d-b2a8-170c85b9d0ce",
     "showTitle": false,
     "tableResultSettingsMap": {},
     "title": ""
    }
   },
   "outputs": [
    {
     "output_type": "stream",
     "name": "stdout",
     "output_type": "stream",
     "text": [
      "COnvert to another timezone 2025-04-30 09:08:06.753667+00:00\n"
     ]
    }
   ],
   "source": [
    "print(\"COnvert to another timezone\", datetime.now().astimezone())"
   ]
  },
  {
   "cell_type": "code",
   "execution_count": 0,
   "metadata": {
    "application/vnd.databricks.v1+cell": {
     "cellMetadata": {
      "byteLimit": 2048000,
      "rowLimit": 10000
     },
     "inputWidgets": {},
     "nuid": "44151a42-54a9-41e5-a8df-4d8e538f562c",
     "showTitle": false,
     "tableResultSettingsMap": {},
     "title": ""
    }
   },
   "outputs": [
    {
     "output_type": "stream",
     "name": "stdout",
     "output_type": "stream",
     "text": [
      "Iso calender: datetime.IsoCalendarDate(year=2025, week=18, weekday=3)\n"
     ]
    }
   ],
   "source": [
    "print(\"Iso calender:\", datetime.now().isocalendar())"
   ]
  },
  {
   "cell_type": "code",
   "execution_count": 0,
   "metadata": {
    "application/vnd.databricks.v1+cell": {
     "cellMetadata": {
      "byteLimit": 2048000,
      "rowLimit": 10000
     },
     "inputWidgets": {},
     "nuid": "998a98e7-e1db-4d56-8efe-06b16b649739",
     "showTitle": false,
     "tableResultSettingsMap": {},
     "title": ""
    }
   },
   "outputs": [
    {
     "output_type": "stream",
     "name": "stdout",
     "output_type": "stream",
     "text": [
      "Iso Weekday: 3\n"
     ]
    }
   ],
   "source": [
    "print(\"Iso Weekday:\", datetime.now().isoweekday())"
   ]
  },
  {
   "cell_type": "code",
   "execution_count": 0,
   "metadata": {
    "application/vnd.databricks.v1+cell": {
     "cellMetadata": {
      "byteLimit": 2048000,
      "rowLimit": 10000
     },
     "inputWidgets": {},
     "nuid": "e2eaa716-eeee-4888-b7e6-92f12b84a10d",
     "showTitle": false,
     "tableResultSettingsMap": {},
     "title": ""
    }
   },
   "outputs": [
    {
     "output_type": "stream",
     "name": "stdout",
     "output_type": "stream",
     "text": [
      "Weekday: 2\n"
     ]
    }
   ],
   "source": [
    "print(\"Weekday:\", datetime.now().weekday())"
   ]
  },
  {
   "cell_type": "code",
   "execution_count": 0,
   "metadata": {
    "application/vnd.databricks.v1+cell": {
     "cellMetadata": {
      "byteLimit": 2048000,
      "rowLimit": 10000
     },
     "inputWidgets": {},
     "nuid": "1d1ea0dd-2bce-4f75-bdc0-8e1cbfb2d5ea",
     "showTitle": false,
     "tableResultSettingsMap": {},
     "title": ""
    }
   },
   "outputs": [
    {
     "output_type": "stream",
     "name": "stdout",
     "output_type": "stream",
     "text": [
      "string type datetime: Wed Apr 30 09:11:23 2025\n"
     ]
    }
   ],
   "source": [
    "print(\"string type datetime:\", datetime.now().ctime())"
   ]
  },
  {
   "cell_type": "markdown",
   "metadata": {
    "application/vnd.databricks.v1+cell": {
     "cellMetadata": {},
     "inputWidgets": {},
     "nuid": "eca38410-9e18-41f8-92f8-c3a829d4304f",
     "showTitle": false,
     "tableResultSettingsMap": {},
     "title": ""
    }
   },
   "source": [
    "* **Timedelta**"
   ]
  },
  {
   "cell_type": "code",
   "execution_count": 0,
   "metadata": {
    "application/vnd.databricks.v1+cell": {
     "cellMetadata": {
      "byteLimit": 2048000,
      "rowLimit": 10000
     },
     "inputWidgets": {},
     "nuid": "fc806e33-7529-4778-98d8-52444578b65d",
     "showTitle": false,
     "tableResultSettingsMap": {},
     "title": ""
    }
   },
   "outputs": [
    {
     "output_type": "stream",
     "name": "stdout",
     "output_type": "stream",
     "text": [
      "today's date and time: 2025-04-30 09:16:14.324517\n10 days later: 2025-05-10 09:16:14.324517\n5 days ago: 2025-04-25 09:16:14.324517\nAfter 3.5 hours: 2025-04-30 12:46:14.324517\nTotal seconds 10800.0\n"
     ]
    }
   ],
   "source": [
    "# get today's date and time\n",
    "now = datetime.now()\n",
    "print(\"today's date and time:\", now)\n",
    "\n",
    "# Add 10 days\n",
    "future = now + timedelta(days=10)\n",
    "print(\"10 days later:\", future)\n",
    "\n",
    "# Subtract 5 days\n",
    "past = now - timedelta(days=5)\n",
    "print(\"5 days ago:\", past)\n",
    "\n",
    "# Add hour and minutes\n",
    "updated = now + timedelta(hours=3, minutes=30)\n",
    "print(\"After 3.5 hours:\", updated)\n",
    "\n",
    "timedelta = timedelta(hours=3)\n",
    "print(\"Total seconds\", timedelta.total_seconds())\n"
   ]
  },
  {
   "cell_type": "code",
   "execution_count": 0,
   "metadata": {
    "application/vnd.databricks.v1+cell": {
     "cellMetadata": {
      "byteLimit": 2048000,
      "rowLimit": 10000
     },
     "inputWidgets": {},
     "nuid": "429ab97e-92f7-4e96-91cf-c0953a73796e",
     "showTitle": false,
     "tableResultSettingsMap": {},
     "title": ""
    }
   },
   "outputs": [
    {
     "output_type": "stream",
     "name": "stdout",
     "output_type": "stream",
     "text": [
      "Days since 1st october 2025: 202\n"
     ]
    }
   ],
   "source": [
    "# Difference between dates\n",
    "\n",
    "past_date = datetime(2024, 10, 10)\n",
    "diff = now - past_date\n",
    "print(\"Days since 1st october 2025:\", diff.days)"
   ]
  },
  {
   "cell_type": "code",
   "execution_count": 0,
   "metadata": {
    "application/vnd.databricks.v1+cell": {
     "cellMetadata": {
      "byteLimit": 2048000,
      "rowLimit": 10000
     },
     "inputWidgets": {},
     "nuid": "288ee2cb-950c-49a7-b1f1-503b67802b65",
     "showTitle": false,
     "tableResultSettingsMap": {},
     "title": ""
    }
   },
   "outputs": [
    {
     "output_type": "stream",
     "name": "stdout",
     "output_type": "stream",
     "text": [
      "Custom date: 2025-05-15 14:30:00\n"
     ]
    }
   ],
   "source": [
    "#Custom date\n",
    "custom_date = datetime(2025, 5, 15, 14, 30)\n",
    "print(\"Custom date:\", custom_date)\n"
   ]
  },
  {
   "cell_type": "code",
   "execution_count": 0,
   "metadata": {
    "application/vnd.databricks.v1+cell": {
     "cellMetadata": {
      "byteLimit": 2048000,
      "rowLimit": 10000
     },
     "inputWidgets": {},
     "nuid": "cd272a5c-c858-4ffd-91aa-cc22f61c7d90",
     "showTitle": false,
     "tableResultSettingsMap": {},
     "title": ""
    }
   },
   "outputs": [
    {
     "output_type": "stream",
     "name": "stdout",
     "output_type": "stream",
     "text": [
      "Formatted: Wednesday, 30 April 2025 at 09:07 AM\n"
     ]
    }
   ],
   "source": [
    "# Format date\n",
    "\n",
    "formatted = now.strftime(\"%A, %d %B %Y at %I:%M %p\")\n",
    "print(\"Formatted:\", formatted)"
   ]
  },
  {
   "cell_type": "code",
   "execution_count": 0,
   "metadata": {
    "application/vnd.databricks.v1+cell": {
     "cellMetadata": {
      "byteLimit": 2048000,
      "rowLimit": 10000
     },
     "inputWidgets": {},
     "nuid": "8ec24258-9739-4892-910f-67443d34f6e6",
     "showTitle": false,
     "tableResultSettingsMap": {},
     "title": ""
    }
   },
   "outputs": [
    {
     "output_type": "stream",
     "name": "stdout",
     "output_type": "stream",
     "text": [
      "Timezone Info: None\n"
     ]
    }
   ],
   "source": [
    "from datetime import time\n",
    "\n",
    "t = time(14, 30)\n",
    "print(\"Timezone Info:\", t.tzinfo)"
   ]
  },
  {
   "cell_type": "code",
   "execution_count": 0,
   "metadata": {
    "application/vnd.databricks.v1+cell": {
     "cellMetadata": {
      "byteLimit": 2048000,
      "rowLimit": 10000
     },
     "inputWidgets": {},
     "nuid": "c42c3ca7-34d9-43ce-b0b3-d2042a536e59",
     "showTitle": false,
     "tableResultSettingsMap": {},
     "title": ""
    }
   },
   "outputs": [
    {
     "output_type": "stream",
     "name": "stdout",
     "output_type": "stream",
     "text": [
      "Timezone Info: UTC\n"
     ]
    }
   ],
   "source": [
    "from datetime import time, timezone\n",
    "\n",
    "t = time(14, 30, tzinfo=timezone.utc)\n",
    "print(\"Timezone Info:\", t.tzinfo)"
   ]
  },
  {
   "cell_type": "markdown",
   "metadata": {
    "application/vnd.databricks.v1+cell": {
     "cellMetadata": {},
     "inputWidgets": {},
     "nuid": "b1a5cefa-086f-48f7-a6ed-d02a9d6bf54a",
     "showTitle": false,
     "tableResultSettingsMap": {},
     "title": ""
    }
   },
   "source": [
    "--------------------------------------------Retrieve Data from api------------------------"
   ]
  },
  {
   "cell_type": "code",
   "execution_count": 0,
   "metadata": {
    "application/vnd.databricks.v1+cell": {
     "cellMetadata": {
      "byteLimit": 2048000,
      "rowLimit": 10000
     },
     "inputWidgets": {},
     "nuid": "d6ebd456-3ed9-4f6a-9973-556c18c3c3ee",
     "showTitle": false,
     "tableResultSettingsMap": {},
     "title": ""
    }
   },
   "outputs": [
    {
     "output_type": "stream",
     "name": "stdout",
     "output_type": "stream",
     "text": [
      "Python interpreter will be restarted.\nRequirement already satisfied: requests in /databricks/python3/lib/python3.9/site-packages (2.27.1)\nRequirement already satisfied: charset-normalizer~=2.0.0 in /databricks/python3/lib/python3.9/site-packages (from requests) (2.0.4)\nRequirement already satisfied: idna<4,>=2.5 in /databricks/python3/lib/python3.9/site-packages (from requests) (3.3)\nRequirement already satisfied: certifi>=2017.4.17 in /databricks/python3/lib/python3.9/site-packages (from requests) (2021.10.8)\nRequirement already satisfied: urllib3<1.27,>=1.21.1 in /databricks/python3/lib/python3.9/site-packages (from requests) (1.26.9)\nPython interpreter will be restarted.\n"
     ]
    }
   ],
   "source": [
    "pip install requests"
   ]
  },
  {
   "cell_type": "code",
   "execution_count": 0,
   "metadata": {
    "application/vnd.databricks.v1+cell": {
     "cellMetadata": {
      "byteLimit": 2048000,
      "rowLimit": 10000
     },
     "inputWidgets": {},
     "nuid": "4336ae87-77d7-4bb1-91f8-54b3a6b7e67e",
     "showTitle": false,
     "tableResultSettingsMap": {},
     "title": ""
    }
   },
   "outputs": [],
   "source": [
    "import requests\n",
    "import json"
   ]
  },
  {
   "cell_type": "code",
   "execution_count": 0,
   "metadata": {
    "application/vnd.databricks.v1+cell": {
     "cellMetadata": {
      "byteLimit": 2048000,
      "rowLimit": 10000
     },
     "inputWidgets": {},
     "nuid": "b0333509-efaa-4a87-972d-67e345d07283",
     "showTitle": false,
     "tableResultSettingsMap": {},
     "title": ""
    }
   },
   "outputs": [
    {
     "output_type": "stream",
     "name": "stdout",
     "output_type": "stream",
     "text": [
      "<Response [200]>\n"
     ]
    }
   ],
   "source": [
    "response = requests.get(url='https://api.thecatapi.com/v1/images/0XYvRd7oD')\n",
    "print(response)"
   ]
  },
  {
   "cell_type": "code",
   "execution_count": 0,
   "metadata": {
    "application/vnd.databricks.v1+cell": {
     "cellMetadata": {
      "byteLimit": 2048000,
      "rowLimit": 10000
     },
     "inputWidgets": {},
     "nuid": "fc794c17-51cc-4a9d-ae38-ab5c2524ca32",
     "showTitle": false,
     "tableResultSettingsMap": {},
     "title": ""
    }
   },
   "outputs": [
    {
     "output_type": "stream",
     "name": "stdout",
     "output_type": "stream",
     "text": [
      "{'id': '0XYvRd7oD', 'url': 'https://cdn2.thecatapi.com/images/0XYvRd7oD.jpg', 'breeds': [{'weight': {'imperial': '7  -  10', 'metric': '3 - 5'}, 'id': 'abys', 'name': 'Abyssinian', 'cfa_url': 'http://cfa.org/Breeds/BreedsAB/Abyssinian.aspx', 'vetstreet_url': 'http://www.vetstreet.com/cats/abyssinian', 'vcahospitals_url': 'https://vcahospitals.com/know-your-pet/cat-breeds/abyssinian', 'temperament': 'Active, Energetic, Independent, Intelligent, Gentle', 'origin': 'Egypt', 'country_codes': 'EG', 'country_code': 'EG', 'description': 'The Abyssinian is easy to care for, and a joy to have in your home. They’re affectionate cats and love both people and other animals.', 'life_span': '14 - 15', 'indoor': 0, 'lap': 1, 'alt_names': '', 'adaptability': 5, 'affection_level': 5, 'child_friendly': 3, 'dog_friendly': 4, 'energy_level': 5, 'grooming': 1, 'health_issues': 2, 'intelligence': 5, 'shedding_level': 2, 'social_needs': 5, 'stranger_friendly': 5, 'vocalisation': 1, 'experimental': 0, 'hairless': 0, 'natural': 1, 'rare': 0, 'rex': 0, 'suppressed_tail': 0, 'short_legs': 0, 'wikipedia_url': 'https://en.wikipedia.org/wiki/Abyssinian_(cat)', 'hypoallergenic': 0, 'reference_image_id': '0XYvRd7oD'}], 'width': 1204, 'height': 1445}\n"
     ]
    }
   ],
   "source": [
    "print(response.json())"
   ]
  },
  {
   "cell_type": "code",
   "execution_count": 0,
   "metadata": {
    "application/vnd.databricks.v1+cell": {
     "cellMetadata": {
      "byteLimit": 2048000,
      "rowLimit": 10000
     },
     "inputWidgets": {},
     "nuid": "d45ad10b-4ca1-47d4-a98c-348aea5ee7ab",
     "showTitle": false,
     "tableResultSettingsMap": {},
     "title": ""
    }
   },
   "outputs": [
    {
     "output_type": "stream",
     "name": "stdout",
     "output_type": "stream",
     "text": [
      "+--------------------+------+---------+--------------------+-----+\n|              breeds|height|       id|                 url|width|\n+--------------------+------+---------+--------------------+-----+\n|[{5, 5, , http://...|  1445|0XYvRd7oD|https://cdn2.thec...| 1204|\n+--------------------+------+---------+--------------------+-----+\n\n"
     ]
    }
   ],
   "source": [
    "cat_df = spark.read.format(\"json\")\\\n",
    "    .option(\"header\", \"true\")\\\n",
    "        .option(\"infrastructure\", \"true\")\\\n",
    "            .load('/FileStore/tables/cat.json')\n",
    "\n",
    "cat_df.show()"
   ]
  },
  {
   "cell_type": "code",
   "execution_count": 0,
   "metadata": {
    "application/vnd.databricks.v1+cell": {
     "cellMetadata": {
      "byteLimit": 2048000,
      "rowLimit": 10000
     },
     "inputWidgets": {},
     "nuid": "633947e7-6341-4187-adf9-d2b8ae6014e5",
     "showTitle": false,
     "tableResultSettingsMap": {},
     "title": ""
    }
   },
   "outputs": [
    {
     "output_type": "stream",
     "name": "stdout",
     "output_type": "stream",
     "text": [
      "root\n |-- breeds: array (nullable = true)\n |    |-- element: struct (containsNull = true)\n |    |    |-- adaptability: long (nullable = true)\n |    |    |-- affection_level: long (nullable = true)\n |    |    |-- alt_names: string (nullable = true)\n |    |    |-- cfa_url: string (nullable = true)\n |    |    |-- child_friendly: long (nullable = true)\n |    |    |-- country_code: string (nullable = true)\n |    |    |-- country_codes: string (nullable = true)\n |    |    |-- description: string (nullable = true)\n |    |    |-- dog_friendly: long (nullable = true)\n |    |    |-- energy_level: long (nullable = true)\n |    |    |-- experimental: long (nullable = true)\n |    |    |-- grooming: long (nullable = true)\n |    |    |-- hairless: long (nullable = true)\n |    |    |-- health_issues: long (nullable = true)\n |    |    |-- hypoallergenic: long (nullable = true)\n |    |    |-- id: string (nullable = true)\n |    |    |-- indoor: long (nullable = true)\n |    |    |-- intelligence: long (nullable = true)\n |    |    |-- lap: long (nullable = true)\n |    |    |-- life_span: string (nullable = true)\n |    |    |-- name: string (nullable = true)\n |    |    |-- natural: long (nullable = true)\n |    |    |-- origin: string (nullable = true)\n |    |    |-- rare: long (nullable = true)\n |    |    |-- reference_image_id: string (nullable = true)\n |    |    |-- rex: long (nullable = true)\n |    |    |-- shedding_level: long (nullable = true)\n |    |    |-- short_legs: long (nullable = true)\n |    |    |-- social_needs: long (nullable = true)\n |    |    |-- stranger_friendly: long (nullable = true)\n |    |    |-- suppressed_tail: long (nullable = true)\n |    |    |-- temperament: string (nullable = true)\n |    |    |-- vcahospitals_url: string (nullable = true)\n |    |    |-- vetstreet_url: string (nullable = true)\n |    |    |-- vocalisation: long (nullable = true)\n |    |    |-- weight: struct (nullable = true)\n |    |    |    |-- imperial: string (nullable = true)\n |    |    |    |-- metric: string (nullable = true)\n |    |    |-- wikipedia_url: string (nullable = true)\n |-- height: long (nullable = true)\n |-- id: string (nullable = true)\n |-- url: string (nullable = true)\n |-- width: long (nullable = true)\n\n"
     ]
    }
   ],
   "source": [
    "cat_df.printSchema()"
   ]
  },
  {
   "cell_type": "code",
   "execution_count": 0,
   "metadata": {
    "application/vnd.databricks.v1+cell": {
     "cellMetadata": {
      "byteLimit": 2048000,
      "rowLimit": 10000
     },
     "inputWidgets": {},
     "nuid": "9f47f967-1868-4d10-824d-d4e5cbecd990",
     "showTitle": false,
     "tableResultSettingsMap": {},
     "title": ""
    }
   },
   "outputs": [
    {
     "output_type": "stream",
     "name": "stdout",
     "output_type": "stream",
     "text": [
      "root\n |-- height: long (nullable = true)\n |-- id: string (nullable = true)\n |-- url: string (nullable = true)\n |-- width: long (nullable = true)\n |-- breed: struct (nullable = true)\n |    |-- adaptability: long (nullable = true)\n |    |-- affection_level: long (nullable = true)\n |    |-- alt_names: string (nullable = true)\n |    |-- cfa_url: string (nullable = true)\n |    |-- child_friendly: long (nullable = true)\n |    |-- country_code: string (nullable = true)\n |    |-- country_codes: string (nullable = true)\n |    |-- description: string (nullable = true)\n |    |-- dog_friendly: long (nullable = true)\n |    |-- energy_level: long (nullable = true)\n |    |-- experimental: long (nullable = true)\n |    |-- grooming: long (nullable = true)\n |    |-- hairless: long (nullable = true)\n |    |-- health_issues: long (nullable = true)\n |    |-- hypoallergenic: long (nullable = true)\n |    |-- id: string (nullable = true)\n |    |-- indoor: long (nullable = true)\n |    |-- intelligence: long (nullable = true)\n |    |-- lap: long (nullable = true)\n |    |-- life_span: string (nullable = true)\n |    |-- name: string (nullable = true)\n |    |-- natural: long (nullable = true)\n |    |-- origin: string (nullable = true)\n |    |-- rare: long (nullable = true)\n |    |-- reference_image_id: string (nullable = true)\n |    |-- rex: long (nullable = true)\n |    |-- shedding_level: long (nullable = true)\n |    |-- short_legs: long (nullable = true)\n |    |-- social_needs: long (nullable = true)\n |    |-- stranger_friendly: long (nullable = true)\n |    |-- suppressed_tail: long (nullable = true)\n |    |-- temperament: string (nullable = true)\n |    |-- vcahospitals_url: string (nullable = true)\n |    |-- vetstreet_url: string (nullable = true)\n |    |-- vocalisation: long (nullable = true)\n |    |-- weight: struct (nullable = true)\n |    |    |-- imperial: string (nullable = true)\n |    |    |-- metric: string (nullable = true)\n |    |-- wikipedia_url: string (nullable = true)\n\n"
     ]
    }
   ],
   "source": [
    "cat_df.select(\"*\", explode(\"breeds\").alias(\"breed\")).drop(\"breeds\").printSchema()"
   ]
  },
  {
   "cell_type": "code",
   "execution_count": 0,
   "metadata": {
    "application/vnd.databricks.v1+cell": {
     "cellMetadata": {
      "byteLimit": 2048000,
      "rowLimit": 10000
     },
     "inputWidgets": {},
     "nuid": "d6c7fda2-ca48-4feb-90b5-289e624f5fad",
     "showTitle": false,
     "tableResultSettingsMap": {},
     "title": ""
    }
   },
   "outputs": [
    {
     "output_type": "stream",
     "name": "stdout",
     "output_type": "stream",
     "text": [
      "+------+---------+--------------------+-----+--------------------+--------------------+-------------+--------------+---------+\n|height|       id|                 url|width|               breed|         description|health_issues|child_friendly|alt_names|\n+------+---------+--------------------+-----+--------------------+--------------------+-------------+--------------+---------+\n|  1445|0XYvRd7oD|https://cdn2.thec...| 1204|{5, 5, , http://c...|The Abyssinian is...|            2|             3|         |\n+------+---------+--------------------+-----+--------------------+--------------------+-------------+--------------+---------+\n\n"
     ]
    }
   ],
   "source": [
    "cat_df.select(\"*\", explode(\"breeds\").alias(\"breed\"),\\\n",
    "    'breed.description', 'breed.health_issues', 'breed.child_friendly', 'breed.alt_names'\\\n",
    "    ).drop(\"breeds\").show()"
   ]
  },
  {
   "cell_type": "markdown",
   "metadata": {
    "application/vnd.databricks.v1+cell": {
     "cellMetadata": {},
     "inputWidgets": {},
     "nuid": "ceabe3dd-1ef6-4317-bdc4-cfb2a0e1ba75",
     "showTitle": false,
     "tableResultSettingsMap": {},
     "title": ""
    }
   },
   "source": [
    "-----------------------------------------------Perform all the join operations---------------------------------------------------"
   ]
  },
  {
   "cell_type": "code",
   "execution_count": 0,
   "metadata": {
    "application/vnd.databricks.v1+cell": {
     "cellMetadata": {
      "byteLimit": 2048000,
      "rowLimit": 10000
     },
     "inputWidgets": {},
     "nuid": "ce078aed-1706-4ae3-b842-2468d092eba2",
     "showTitle": false,
     "tableResultSettingsMap": {},
     "title": ""
    }
   },
   "outputs": [
    {
     "output_type": "stream",
     "name": "stdout",
     "output_type": "stream",
     "text": [
      "+---+----------+------------+--------------------+\n| id|first_name|   last_name|               email|\n+---+----------+------------+--------------------+\n|  1|      Cari|    Lafflina|cari.lafflina@hot...|\n|  2|    Kalina|  Plackstone|kalina.plackstone...|\n|  3|     Reena|      Worham|reena.worham@cox.net|\n|  4|    Rockie|      Gamble|rockie.gamble@gma...|\n|  5|    Granny|    Lafflina|granny.lafflina@h...|\n|  6|    Jammie|      Pariso|jammie.pariso@aol...|\n|  7| Clementia|     Lipyeat|clementia.lipyeat...|\n|  8|    Hadria|Birdwhistell|hadria.birdwhiste...|\n|  9|    Lovell|       Doyle|lovell.doyle@gmai...|\n| 10|     Tripp|     Stockau|tripp.stockau@hot...|\n| 11|   Brandtr|    Habeshaw|brandtr.habeshaw@...|\n| 12|     Rozet|     Baughen|rozet.baughen@wan...|\n| 13|   Eveline|      Yukhin|eveline.yukhin@ao...|\n| 14|     Letty|     Laborde|letty.laborde@yah...|\n| 15|    Audrie|      Menpes|audrie.menpes@yah...|\n| 16|   Lilllie|       Rozet|lilllie.rozet@gma...|\n| 17|   Janelle|      Farrin|janelle.farrin@gm...|\n| 18|     Louie|      Jurges|louie.jurges@hotm...|\n| 19|      Evan|    O'Geaney|evan.ogeaney@eart...|\n| 20|     Lemar|   Robinette|lemar.robinette@h...|\n+---+----------+------------+--------------------+\nonly showing top 20 rows\n\n"
     ]
    }
   ],
   "source": [
    "user_df = spark.read.format(\"csv\")\\\n",
    "    .option(\"header\", \"true\")\\\n",
    "        .option(\"infrastructure\", \"true\")\\\n",
    "            .load('/FileStore/tables/Users-1.csv')\n",
    "\n",
    "user_df.show()\n"
   ]
  },
  {
   "cell_type": "code",
   "execution_count": 0,
   "metadata": {
    "application/vnd.databricks.v1+cell": {
     "cellMetadata": {
      "byteLimit": 2048000,
      "rowLimit": 10000
     },
     "inputWidgets": {},
     "nuid": "df6fc7ab-f0a6-4f73-9103-4f4a82b2a22b",
     "showTitle": false,
     "tableResultSettingsMap": {},
     "title": ""
    }
   },
   "outputs": [
    {
     "output_type": "stream",
     "name": "stdout",
     "output_type": "stream",
     "text": [
      "+---+--------------------+-----+-----------+\n| id|                name|price|category_id|\n+---+--------------------+-----+-----------+\n|  1|      Wireless Mouse|  499|          5|\n|  2|Bluetooth Headphones|  188|          8|\n|  3|    Smartphone Stand|  498|          6|\n|  4|     Fitness Tracker|   54|         16|\n|  5|       LED Desk Lamp|  226|          2|\n|  6| Mechanical Keyboard| 3599|         18|\n|  7|        Portable SSD|  150|         17|\n|  8|          Smartwatch| 4599|         11|\n|  9|        Coffee Maker|  999|          3|\n| 10|            Yoga Mat|  442|         12|\n| 11|     Electric Kettle|  236|         20|\n| 12|     Gaming Mousepad|  439|         10|\n| 13|        Laptop Stand|  420|         14|\n| 14|           Air Fryer| 1000|          4|\n| 15|    Wireless Charger|  978|         19|\n| 16|          Multi-Tool|  475|          7|\n| 17|            Backpack|  324|          1|\n| 18|     Scented Candles|  536|         13|\n| 19|     Pressure Cooker|  589|         15|\n| 20|        Skincare Set|  297|          9|\n+---+--------------------+-----+-----------+\nonly showing top 20 rows\n\n"
     ]
    }
   ],
   "source": [
    "product_df = spark.read.format(\"csv\")\\\n",
    "    .option(\"header\", \"true\")\\\n",
    "        .option(\"infrastructure\", \"true\")\\\n",
    "            .load('/FileStore/tables/Products.csv')\n",
    "\n",
    "product_df.show()\n"
   ]
  },
  {
   "cell_type": "code",
   "execution_count": 0,
   "metadata": {
    "application/vnd.databricks.v1+cell": {
     "cellMetadata": {
      "byteLimit": 2048000,
      "rowLimit": 10000
     },
     "inputWidgets": {},
     "nuid": "4a1c2c75-05ef-4f53-b85c-d77f762e162b",
     "showTitle": false,
     "tableResultSettingsMap": {},
     "title": ""
    }
   },
   "outputs": [
    {
     "output_type": "stream",
     "name": "stdout",
     "output_type": "stream",
     "text": [
      "+---+-------------------+\n| id|               name|\n+---+-------------------+\n|  1|        Electronics|\n|  2|           Clothing|\n|  3|          Groceries|\n|  4|         Home Goods|\n|  5|    Beauty Products|\n|  6|               Toys|\n|  7|   Sports Equipment|\n|  8|              Books|\n|  9|            Jewelry|\n| 10|       Pet Supplies|\n| 11|         Automotive|\n| 12|Health and Wellness|\n| 13|           Footwear|\n| 14|    Office Supplies|\n| 15| Garden and Outdoor|\n| 16|      Baby Products|\n| 17|  Music Instruments|\n| 18|       Art Supplies|\n| 19| Travel Accessories|\n| 20|      Personal Care|\n+---+-------------------+\n\n"
     ]
    }
   ],
   "source": [
    "categories_df = spark.read.format(\"csv\")\\\n",
    "    .option(\"header\", \"true\")\\\n",
    "        .option(\"infrastructure\", \"true\")\\\n",
    "            .load('/FileStore/tables/Categories.csv')\n",
    "\n",
    "categories_df.show()\n"
   ]
  },
  {
   "cell_type": "code",
   "execution_count": 0,
   "metadata": {
    "application/vnd.databricks.v1+cell": {
     "cellMetadata": {
      "byteLimit": 2048000,
      "rowLimit": 10000
     },
     "inputWidgets": {},
     "nuid": "a9d40843-14eb-40ca-91f5-c0f5e17ac8fa",
     "showTitle": false,
     "tableResultSettingsMap": {},
     "title": ""
    }
   },
   "outputs": [
    {
     "output_type": "stream",
     "name": "stdout",
     "output_type": "stream",
     "text": [
      "+-------+---+----------+--------+----------+\n|user_id| id|product_id|quantity|order_date|\n+-------+---+----------+--------+----------+\n|     16| 92|       100|       4|2024-06-21|\n|      2| 82|        88|       9|2025-03-12|\n|     50| 72|        35|      50|2024-12-30|\n|     46| 65|        38|      17|2024-12-28|\n|      4| 60|        69|       6|2024-05-19|\n|      5| 47|        15|       5|2024-11-10|\n|      1| 15|        71|       9|2024-09-05|\n|     47| 68|         3|       8|2025-03-24|\n|     21| 63|        74|       8|2024-10-19|\n|     37| 59|        14|       8|2024-07-25|\n|     20| 38|        76|      14|2025-02-20|\n|     27| 35|         9|       8|2025-01-16|\n|     29| 24|        16|       8|2024-05-11|\n|     22| 23|        78|       8|2024-05-07|\n|     36| 12|        79|       8|2025-01-08|\n|     18| 95|        84|      27|2024-10-02|\n|      9| 94|        99|       6|2024-11-08|\n|     34| 90|        25|       7|2024-10-09|\n|     22| 81|        39|       7|2024-10-25|\n|     20| 61|        29|      27|2024-06-19|\n+-------+---+----------+--------+----------+\nonly showing top 20 rows\n\n"
     ]
    }
   ],
   "source": [
    "order_df = spark.read.format(\"csv\")\\\n",
    "    .option(\"header\", \"true\")\\\n",
    "        .option(\"infrastructure\", \"true\")\\\n",
    "            .load('/FileStore/tables/Orders.csv')\n",
    "\n",
    "order_df.show()\n"
   ]
  },
  {
   "cell_type": "markdown",
   "metadata": {
    "application/vnd.databricks.v1+cell": {
     "cellMetadata": {},
     "inputWidgets": {},
     "nuid": "9058bbbe-6350-4bd2-adda-b4fc1f7ac6af",
     "showTitle": false,
     "tableResultSettingsMap": {},
     "title": ""
    }
   },
   "source": [
    "* **Inner Join**"
   ]
  },
  {
   "cell_type": "code",
   "execution_count": 0,
   "metadata": {
    "application/vnd.databricks.v1+cell": {
     "cellMetadata": {
      "byteLimit": 2048000,
      "rowLimit": 10000
     },
     "inputWidgets": {},
     "nuid": "2f605bbb-542e-4a19-81ee-a8cc2d14dab4",
     "showTitle": false,
     "tableResultSettingsMap": {},
     "title": ""
    }
   },
   "outputs": [
    {
     "output_type": "stream",
     "name": "stdout",
     "output_type": "stream",
     "text": [
      "+---+----------+---------+--------------------+-------+----------+--------+----------+\n| id|first_name|last_name|               email|user_id|product_id|quantity|order_date|\n+---+----------+---------+--------------------+-------+----------+--------+----------+\n| 47|      Livy|Yakunikov|livy.yakunikov@ya...|      5|        15|       5|2024-11-10|\n| 15|    Audrie|   Menpes|audrie.menpes@yah...|      1|        71|       9|2024-09-05|\n| 38|    Vonnie|  Pawelke|vonnie.pawelke@gm...|     20|        76|      14|2025-02-20|\n| 35|       Kim|   Linney|kim.linney@facebo...|     27|         9|       8|2025-01-16|\n| 24|     Trudy| Dodworth|trudy.dodworth@gm...|     29|        16|       8|2024-05-11|\n| 23|    Homere|  Calcott|homere.calcott@ho...|     22|        78|       8|2024-05-07|\n| 12|     Rozet|  Baughen|rozet.baughen@wan...|     36|        79|       8|2025-01-08|\n| 44|  Meredith|   Astill|meredith.astill@w...|     21|        27|       7|2024-05-25|\n| 39|     Riane|    Rozet|riane.cossem@oran...|     14|        86|       7|2024-10-29|\n| 32|      Isis|  Southan|isis.southan@hotm...|     48|        21|      45|2025-02-22|\n| 27|       Zoe|Pitherick|zoe.pitherick@gma...|     32|        50|       7|2024-12-05|\n| 26| Claudetta|  Bayston|claudetta.bayston...|     12|        47|       7|2025-01-30|\n| 17|   Janelle|   Farrin|janelle.farrin@gm...|     11|        64|       7|2024-09-12|\n|  9|    Lovell|    Doyle|lovell.doyle@gmai...|     34|        67|      12|2024-11-30|\n| 46|     Janot|  Meadway|janot.meadway@blu...|     19|         1|       6|2025-01-31|\n| 21|   Jerrold|  Shearer|jerrold.shearer@c...|     31|        19|       6|2025-02-22|\n| 10|     Tripp|  Stockau|tripp.stockau@hot...|     23|        82|       6|2025-01-31|\n|  6|    Jammie|   Pariso|jammie.pariso@aol...|     44|        81|       6|2025-04-06|\n|  4|    Rockie|   Gamble|rockie.gamble@gma...|     43|        43|      34|2024-10-09|\n| 50|     Sissy|   Sefton|sissy.sefton@gmai...|     50|        90|       5|2024-12-25|\n+---+----------+---------+--------------------+-------+----------+--------+----------+\nonly showing top 20 rows\n\n"
     ]
    }
   ],
   "source": [
    "# Get all users who have placed at least one order\n",
    "user_df.join(order_df, on=\"id\", how=\"inner\").show()\n"
   ]
  },
  {
   "cell_type": "code",
   "execution_count": 0,
   "metadata": {
    "application/vnd.databricks.v1+cell": {
     "cellMetadata": {
      "byteLimit": 2048000,
      "rowLimit": 10000
     },
     "inputWidgets": {},
     "nuid": "88d40ed8-9ab6-4a9d-80e3-71f5ddc30eb4",
     "showTitle": false,
     "tableResultSettingsMap": {},
     "title": ""
    }
   },
   "outputs": [
    {
     "output_type": "stream",
     "name": "stdout",
     "output_type": "stream",
     "text": [
      "+---+--------------------+-----+-----------+-------------------+\n| id|                name|price|category_id|               name|\n+---+--------------------+-----+-----------+-------------------+\n|  1|      Wireless Mouse|  499|          5|        Electronics|\n|  2|Bluetooth Headphones|  188|          8|           Clothing|\n|  3|    Smartphone Stand|  498|          6|          Groceries|\n|  4|     Fitness Tracker|   54|         16|         Home Goods|\n|  5|       LED Desk Lamp|  226|          2|    Beauty Products|\n|  6| Mechanical Keyboard| 3599|         18|               Toys|\n|  7|        Portable SSD|  150|         17|   Sports Equipment|\n|  8|          Smartwatch| 4599|         11|              Books|\n|  9|        Coffee Maker|  999|          3|            Jewelry|\n| 10|            Yoga Mat|  442|         12|       Pet Supplies|\n| 11|     Electric Kettle|  236|         20|         Automotive|\n| 12|     Gaming Mousepad|  439|         10|Health and Wellness|\n| 13|        Laptop Stand|  420|         14|           Footwear|\n| 14|           Air Fryer| 1000|          4|    Office Supplies|\n| 15|    Wireless Charger|  978|         19| Garden and Outdoor|\n| 16|          Multi-Tool|  475|          7|      Baby Products|\n| 17|            Backpack|  324|          1|  Music Instruments|\n| 18|     Scented Candles|  536|         13|       Art Supplies|\n| 19|     Pressure Cooker|  589|         15| Travel Accessories|\n| 20|        Skincare Set|  297|          9|      Personal Care|\n+---+--------------------+-----+-----------+-------------------+\n\n"
     ]
    }
   ],
   "source": [
    "# List products that have a valid category assigned\n",
    "product_df.join(categories_df, on=\"id\", how=\"inner\").show()\n"
   ]
  },
  {
   "cell_type": "markdown",
   "metadata": {
    "application/vnd.databricks.v1+cell": {
     "cellMetadata": {},
     "inputWidgets": {},
     "nuid": "461ddeff-9b38-4cc4-980a-fb0ff0626309",
     "showTitle": false,
     "tableResultSettingsMap": {},
     "title": ""
    }
   },
   "source": [
    "* **Left Join**"
   ]
  },
  {
   "cell_type": "code",
   "execution_count": 0,
   "metadata": {
    "application/vnd.databricks.v1+cell": {
     "cellMetadata": {
      "byteLimit": 2048000,
      "rowLimit": 10000
     },
     "inputWidgets": {},
     "nuid": "e385ec47-5885-4f8d-b663-81e381f6cae3",
     "showTitle": false,
     "tableResultSettingsMap": {},
     "title": ""
    }
   },
   "outputs": [
    {
     "output_type": "stream",
     "name": "stdout",
     "output_type": "stream",
     "text": [
      "+---+----------+------------+--------------------+-------+----------+--------+----------+\n| id|first_name|   last_name|               email|user_id|product_id|quantity|order_date|\n+---+----------+------------+--------------------+-------+----------+--------+----------+\n|  1|      Cari|    Lafflina|cari.lafflina@hot...|     42|        37|       3|2024-06-08|\n|  2|    Kalina|  Plackstone|kalina.plackstone...|     49|        68|       4|2025-02-20|\n|  3|     Reena|      Worham|reena.worham@cox.net|     13|        54|      12|2024-07-12|\n|  4|    Rockie|      Gamble|rockie.gamble@gma...|     43|        43|      34|2024-10-09|\n|  5|    Granny|    Lafflina|granny.lafflina@h...|      7|        28|      14|2024-05-17|\n|  6|    Jammie|      Pariso|jammie.pariso@aol...|     44|        81|       6|2025-04-06|\n|  7| Clementia|     Lipyeat|clementia.lipyeat...|      4|        44|       2|2024-10-15|\n|  8|    Hadria|Birdwhistell|hadria.birdwhiste...|     18|        20|       4|2025-02-10|\n|  9|    Lovell|       Doyle|lovell.doyle@gmai...|     34|        67|      12|2024-11-30|\n| 10|     Tripp|     Stockau|tripp.stockau@hot...|     23|        82|       6|2025-01-31|\n| 11|   Brandtr|    Habeshaw|brandtr.habeshaw@...|     39|        10|       5|2024-12-10|\n| 12|     Rozet|     Baughen|rozet.baughen@wan...|     36|        79|       8|2025-01-08|\n| 13|   Eveline|      Yukhin|eveline.yukhin@ao...|     35|        85|       3|2024-07-16|\n| 14|     Letty|     Laborde|letty.laborde@yah...|     28|        96|       2|2024-06-25|\n| 15|    Audrie|      Menpes|audrie.menpes@yah...|      1|        71|       9|2024-09-05|\n| 16|   Lilllie|       Rozet|lilllie.rozet@gma...|     15|        57|      16|2025-04-09|\n| 17|   Janelle|      Farrin|janelle.farrin@gm...|     11|        64|       7|2024-09-12|\n| 18|     Louie|      Jurges|louie.jurges@hotm...|     25|        65|       4|2024-11-24|\n| 19|      Evan|    O'Geaney|evan.ogeaney@eart...|     30|        11|       4|2024-07-26|\n| 20|     Lemar|   Robinette|lemar.robinette@h...|     17|        80|      10|2024-06-05|\n+---+----------+------------+--------------------+-------+----------+--------+----------+\nonly showing top 20 rows\n\n"
     ]
    }
   ],
   "source": [
    "# List all users and their orders\n",
    "user_df.join(order_df, on=\"id\", how=\"left\").show()\n"
   ]
  },
  {
   "cell_type": "code",
   "execution_count": 0,
   "metadata": {
    "application/vnd.databricks.v1+cell": {
     "cellMetadata": {
      "byteLimit": 2048000,
      "rowLimit": 10000
     },
     "inputWidgets": {},
     "nuid": "6056c260-7061-4f85-b825-6cdfa927970c",
     "showTitle": false,
     "tableResultSettingsMap": {},
     "title": ""
    }
   },
   "outputs": [
    {
     "output_type": "stream",
     "name": "stdout",
     "output_type": "stream",
     "text": [
      "+---+--------------------+-----+-----------+-------------------+\n| id|                name|price|category_id|               name|\n+---+--------------------+-----+-----------+-------------------+\n|  1|      Wireless Mouse|  499|          5|        Electronics|\n|  2|Bluetooth Headphones|  188|          8|           Clothing|\n|  3|    Smartphone Stand|  498|          6|          Groceries|\n|  4|     Fitness Tracker|   54|         16|         Home Goods|\n|  5|       LED Desk Lamp|  226|          2|    Beauty Products|\n|  6| Mechanical Keyboard| 3599|         18|               Toys|\n|  7|        Portable SSD|  150|         17|   Sports Equipment|\n|  8|          Smartwatch| 4599|         11|              Books|\n|  9|        Coffee Maker|  999|          3|            Jewelry|\n| 10|            Yoga Mat|  442|         12|       Pet Supplies|\n| 11|     Electric Kettle|  236|         20|         Automotive|\n| 12|     Gaming Mousepad|  439|         10|Health and Wellness|\n| 13|        Laptop Stand|  420|         14|           Footwear|\n| 14|           Air Fryer| 1000|          4|    Office Supplies|\n| 15|    Wireless Charger|  978|         19| Garden and Outdoor|\n| 16|          Multi-Tool|  475|          7|      Baby Products|\n| 17|            Backpack|  324|          1|  Music Instruments|\n| 18|     Scented Candles|  536|         13|       Art Supplies|\n| 19|     Pressure Cooker|  589|         15| Travel Accessories|\n| 20|        Skincare Set|  297|          9|      Personal Care|\n+---+--------------------+-----+-----------+-------------------+\nonly showing top 20 rows\n\n"
     ]
    }
   ],
   "source": [
    "# Show all products with category details (even uncategorized ones)\n",
    "\n",
    "product_df.join(categories_df, on=\"id\", how=\"left\").show()\n"
   ]
  },
  {
   "cell_type": "markdown",
   "metadata": {
    "application/vnd.databricks.v1+cell": {
     "cellMetadata": {},
     "inputWidgets": {},
     "nuid": "d67ad88f-1480-46cf-9e9b-1a325597dec1",
     "showTitle": false,
     "tableResultSettingsMap": {},
     "title": ""
    }
   },
   "source": [
    "* **Right Join**"
   ]
  },
  {
   "cell_type": "code",
   "execution_count": 0,
   "metadata": {
    "application/vnd.databricks.v1+cell": {
     "cellMetadata": {
      "byteLimit": 2048000,
      "rowLimit": 10000
     },
     "inputWidgets": {},
     "nuid": "163d4b00-780c-4d1d-80bc-3b2f3421834f",
     "showTitle": false,
     "tableResultSettingsMap": {},
     "title": ""
    }
   },
   "outputs": [
    {
     "output_type": "stream",
     "name": "stdout",
     "output_type": "stream",
     "text": [
      "+---+--------------------+-----+-----------+-------------------+\n| id|                name|price|category_id|               name|\n+---+--------------------+-----+-----------+-------------------+\n|  1|      Wireless Mouse|  499|          5|        Electronics|\n|  2|Bluetooth Headphones|  188|          8|           Clothing|\n|  3|    Smartphone Stand|  498|          6|          Groceries|\n|  4|     Fitness Tracker|   54|         16|         Home Goods|\n|  5|       LED Desk Lamp|  226|          2|    Beauty Products|\n|  6| Mechanical Keyboard| 3599|         18|               Toys|\n|  7|        Portable SSD|  150|         17|   Sports Equipment|\n|  8|          Smartwatch| 4599|         11|              Books|\n|  9|        Coffee Maker|  999|          3|            Jewelry|\n| 10|            Yoga Mat|  442|         12|       Pet Supplies|\n| 11|     Electric Kettle|  236|         20|         Automotive|\n| 12|     Gaming Mousepad|  439|         10|Health and Wellness|\n| 13|        Laptop Stand|  420|         14|           Footwear|\n| 14|           Air Fryer| 1000|          4|    Office Supplies|\n| 15|    Wireless Charger|  978|         19| Garden and Outdoor|\n| 16|          Multi-Tool|  475|          7|      Baby Products|\n| 17|            Backpack|  324|          1|  Music Instruments|\n| 18|     Scented Candles|  536|         13|       Art Supplies|\n| 19|     Pressure Cooker|  589|         15| Travel Accessories|\n| 20|        Skincare Set|  297|          9|      Personal Care|\n+---+--------------------+-----+-----------+-------------------+\n\n"
     ]
    }
   ],
   "source": [
    "# Show all categories and the products under them (even if no product)\n",
    "\n",
    "product_df.join(categories_df, on=\"id\", how=\"right\").show()\n"
   ]
  },
  {
   "cell_type": "code",
   "execution_count": 0,
   "metadata": {
    "application/vnd.databricks.v1+cell": {
     "cellMetadata": {
      "byteLimit": 2048000,
      "rowLimit": 10000
     },
     "inputWidgets": {},
     "nuid": "59fcb9b7-1b87-414e-9a2a-8695723d7603",
     "showTitle": false,
     "tableResultSettingsMap": {},
     "title": ""
    }
   },
   "outputs": [
    {
     "output_type": "stream",
     "name": "stdout",
     "output_type": "stream",
     "text": [
      "+---+----------+----------+--------------------+-------+----------+--------+----------+\n| id|first_name| last_name|               email|user_id|product_id|quantity|order_date|\n+---+----------+----------+--------------------+-------+----------+--------+----------+\n|  1|      Cari|  Lafflina|cari.lafflina@hot...|     42|        37|       3|2024-06-08|\n| 10|     Tripp|   Stockau|tripp.stockau@hot...|     23|        82|       6|2025-01-31|\n|100|      null|      null|                null|     28|        92|       1|2024-04-28|\n| 11|   Brandtr|  Habeshaw|brandtr.habeshaw@...|     39|        10|       5|2024-12-10|\n| 12|     Rozet|   Baughen|rozet.baughen@wan...|     36|        79|       8|2025-01-08|\n| 13|   Eveline|    Yukhin|eveline.yukhin@ao...|     35|        85|       3|2024-07-16|\n| 14|     Letty|   Laborde|letty.laborde@yah...|     28|        96|       2|2024-06-25|\n| 15|    Audrie|    Menpes|audrie.menpes@yah...|      1|        71|       9|2024-09-05|\n| 16|   Lilllie|     Rozet|lilllie.rozet@gma...|     15|        57|      16|2025-04-09|\n| 17|   Janelle|    Farrin|janelle.farrin@gm...|     11|        64|       7|2024-09-12|\n| 18|     Louie|    Jurges|louie.jurges@hotm...|     25|        65|       4|2024-11-24|\n| 19|      Evan|  O'Geaney|evan.ogeaney@eart...|     30|        11|       4|2024-07-26|\n|  2|    Kalina|Plackstone|kalina.plackstone...|     49|        68|       4|2025-02-20|\n| 20|     Lemar| Robinette|lemar.robinette@h...|     17|        80|      10|2024-06-05|\n| 21|   Jerrold|   Shearer|jerrold.shearer@c...|     31|        19|       6|2025-02-22|\n| 22|  Tomasina|  Partener|tomasina.partener...|     33|        52|       1|2024-09-04|\n| 23|    Homere|   Calcott|homere.calcott@ho...|     22|        78|       8|2024-05-07|\n| 24|     Trudy|  Dodworth|trudy.dodworth@gm...|     29|        16|       8|2024-05-11|\n| 25|     Natka|Danilevich|natka.danilevich@...|     38|        89|       1|2024-06-04|\n| 26| Claudetta|   Bayston|claudetta.bayston...|     12|        47|       7|2025-01-30|\n+---+----------+----------+--------------------+-------+----------+--------+----------+\nonly showing top 20 rows\n\n"
     ]
    }
   ],
   "source": [
    "#Get a master list of users and orders, even if user/order is missing\n",
    "\n",
    "user_df.join(order_df, on=\"id\", how=\"outer\").show()\n"
   ]
  },
  {
   "cell_type": "markdown",
   "metadata": {
    "application/vnd.databricks.v1+cell": {
     "cellMetadata": {},
     "inputWidgets": {},
     "nuid": "c051f44c-e4dc-4526-9a32-04ec32cbc862",
     "showTitle": false,
     "tableResultSettingsMap": {},
     "title": ""
    }
   },
   "source": [
    "* **Left Anti Join**"
   ]
  },
  {
   "cell_type": "code",
   "execution_count": 0,
   "metadata": {
    "application/vnd.databricks.v1+cell": {
     "cellMetadata": {
      "byteLimit": 2048000,
      "rowLimit": 10000
     },
     "inputWidgets": {},
     "nuid": "69931bdb-00fd-4009-b928-f1b9a62873ad",
     "showTitle": false,
     "tableResultSettingsMap": {},
     "title": ""
    }
   },
   "outputs": [
    {
     "output_type": "stream",
     "name": "stdout",
     "output_type": "stream",
     "text": [
      "+---+----------+---------+-----+\n| id|first_name|last_name|email|\n+---+----------+---------+-----+\n+---+----------+---------+-----+\n\n"
     ]
    }
   ],
   "source": [
    "#Find users who have NEVER placed an order\n",
    "\n",
    "user_df.join(order_df, on=\"id\", how=\"left_anti\").show()\n"
   ]
  },
  {
   "cell_type": "markdown",
   "metadata": {
    "application/vnd.databricks.v1+cell": {
     "cellMetadata": {},
     "inputWidgets": {},
     "nuid": "8c3129f0-81a0-4e82-ad6d-305927d99046",
     "showTitle": false,
     "tableResultSettingsMap": {},
     "title": ""
    }
   },
   "source": [
    "* **Cross Join**"
   ]
  },
  {
   "cell_type": "code",
   "execution_count": 0,
   "metadata": {
    "application/vnd.databricks.v1+cell": {
     "cellMetadata": {
      "byteLimit": 2048000,
      "rowLimit": 10000
     },
     "inputWidgets": {},
     "nuid": "2878c74c-a009-4764-b585-ca2bdc8f916b",
     "showTitle": false,
     "tableResultSettingsMap": {},
     "title": ""
    }
   },
   "outputs": [
    {
     "output_type": "stream",
     "name": "stdout",
     "output_type": "stream",
     "text": [
      "+---+-------------------+---+--------------+-----+-----------+\n| id|               name| id|          name|price|category_id|\n+---+-------------------+---+--------------+-----+-----------+\n|  1|        Electronics|  1|Wireless Mouse|  499|          5|\n|  2|           Clothing|  1|Wireless Mouse|  499|          5|\n|  3|          Groceries|  1|Wireless Mouse|  499|          5|\n|  4|         Home Goods|  1|Wireless Mouse|  499|          5|\n|  5|    Beauty Products|  1|Wireless Mouse|  499|          5|\n|  6|               Toys|  1|Wireless Mouse|  499|          5|\n|  7|   Sports Equipment|  1|Wireless Mouse|  499|          5|\n|  8|              Books|  1|Wireless Mouse|  499|          5|\n|  9|            Jewelry|  1|Wireless Mouse|  499|          5|\n| 10|       Pet Supplies|  1|Wireless Mouse|  499|          5|\n| 11|         Automotive|  1|Wireless Mouse|  499|          5|\n| 12|Health and Wellness|  1|Wireless Mouse|  499|          5|\n| 13|           Footwear|  1|Wireless Mouse|  499|          5|\n| 14|    Office Supplies|  1|Wireless Mouse|  499|          5|\n| 15| Garden and Outdoor|  1|Wireless Mouse|  499|          5|\n| 16|      Baby Products|  1|Wireless Mouse|  499|          5|\n| 17|  Music Instruments|  1|Wireless Mouse|  499|          5|\n| 18|       Art Supplies|  1|Wireless Mouse|  499|          5|\n| 19| Travel Accessories|  1|Wireless Mouse|  499|          5|\n| 20|      Personal Care|  1|Wireless Mouse|  499|          5|\n+---+-------------------+---+--------------+-----+-----------+\nonly showing top 20 rows\n\n"
     ]
    }
   ],
   "source": [
    "# Generate all possible combinations of categories and products\n",
    "\n",
    "categories_df.crossJoin(product_df).show()\n"
   ]
  },
  {
   "cell_type": "markdown",
   "metadata": {
    "application/vnd.databricks.v1+cell": {
     "cellMetadata": {
      "byteLimit": 2048000,
      "rowLimit": 10000
     },
     "inputWidgets": {},
     "nuid": "5ed5327b-2300-4dbd-bba1-308a94558599",
     "showTitle": false,
     "tableResultSettingsMap": {},
     "title": ""
    }
   },
   "source": [
    "------------------------------------------------------ Retrieve current month name---------------------------------------"
   ]
  },
  {
   "cell_type": "code",
   "execution_count": 0,
   "metadata": {
    "application/vnd.databricks.v1+cell": {
     "cellMetadata": {
      "byteLimit": 2048000,
      "rowLimit": 10000
     },
     "inputWidgets": {},
     "nuid": "d4582f14-b408-4399-9f08-558c422fc450",
     "showTitle": false,
     "tableResultSettingsMap": {},
     "title": ""
    }
   },
   "outputs": [
    {
     "output_type": "stream",
     "name": "stdout",
     "output_type": "stream",
     "text": [
      "Current month name: April\n"
     ]
    }
   ],
   "source": [
    "from datetime import datetime\n",
    "\n",
    "current_month_name = datetime.now().strftime(\"%B\")\n",
    "print(\"Current month name:\", current_month_name)"
   ]
  },
  {
   "cell_type": "markdown",
   "metadata": {
    "application/vnd.databricks.v1+cell": {
     "cellMetadata": {},
     "inputWidgets": {},
     "nuid": "efd289e3-e948-4efa-b3dc-06ad39795409",
     "showTitle": false,
     "tableResultSettingsMap": {},
     "title": ""
    }
   },
   "source": [
    "------------------------------------------- Use partioning for big files-----------------------------------------------"
   ]
  },
  {
   "cell_type": "code",
   "execution_count": 0,
   "metadata": {
    "application/vnd.databricks.v1+cell": {
     "cellMetadata": {
      "byteLimit": 2048000,
      "rowLimit": 10000
     },
     "inputWidgets": {},
     "nuid": "545b9d74-502f-49cc-bf89-9c5e07739d6c",
     "showTitle": false,
     "tableResultSettingsMap": {},
     "title": ""
    }
   },
   "outputs": [
    {
     "output_type": "stream",
     "name": "stdout",
     "output_type": "stream",
     "text": [
      "+---+--------+---+------+-------+------+\n| id|    name|age|salary|address|gender|\n+---+--------+---+------+-------+------+\n|  1|  Manish| 26| 75000|  INDIA|     m|\n|  2|  Nikita| 23|100000|    USA|     f|\n|  3|  Pritam| 22|150000|  INDIA|     m|\n|  4|Prantosh| 17|200000|  JAPAN|     m|\n|  5|  Vikash| 31|300000|    USA|     m|\n|  6|   Rahul| 55|300000|  INDIA|     m|\n|  7|    Raju| 67|540000|    USA|     m|\n|  8| Praveen| 28| 70000|  JAPAN|     m|\n|  9|     Dev| 32|150000|  JAPAN|     m|\n| 10|  Sherin| 16| 25000| RUSSIA|     f|\n| 11|    Ragu| 12| 35000|  INDIA|     f|\n| 12|   Sweta| 43|200000|  INDIA|     f|\n| 13| Raushan| 48|650000|    USA|     m|\n| 14|  Mukesh| 36| 95000| RUSSIA|     m|\n| 15| Prakash| 52|750000|  INDIA|     m|\n+---+--------+---+------+-------+------+\n\n"
     ]
    }
   ],
   "source": [
    "emp_df = spark.read.format(\"csv\")\\\n",
    "    .option(\"header\", \"true\")\\\n",
    "        .option(\"infrastructure\", \"false\")\\\n",
    "            .load(\"/FileStore/tables/employee_write-1.csv\")\n",
    "\n",
    "emp_df.show()"
   ]
  },
  {
   "cell_type": "code",
   "execution_count": 0,
   "metadata": {
    "application/vnd.databricks.v1+cell": {
     "cellMetadata": {
      "byteLimit": 2048000,
      "rowLimit": 10000
     },
     "inputWidgets": {},
     "nuid": "1719f289-ea4e-4d58-a58f-d12f25c090f7",
     "showTitle": false,
     "tableResultSettingsMap": {},
     "title": ""
    }
   },
   "outputs": [],
   "source": [
    "emp_df.write.format(\"csv\")\\\n",
    "    .option(\"header\", \"true\")\\\n",
    "        .option(\"mode\", \"overwrite\")\\\n",
    "            .option(\"path\",\"/FileStore/tables/emp_address_partitions/\")\\\n",
    "                .partitionBy(\"address\")\\\n",
    "                .save()\n"
   ]
  },
  {
   "cell_type": "code",
   "execution_count": 0,
   "metadata": {
    "application/vnd.databricks.v1+cell": {
     "cellMetadata": {
      "byteLimit": 2048000,
      "rowLimit": 10000
     },
     "inputWidgets": {},
     "nuid": "1bf33902-7f10-414a-ba0f-c5a4887d4639",
     "showTitle": false,
     "tableResultSettingsMap": {},
     "title": ""
    }
   },
   "outputs": [
    {
     "output_type": "stream",
     "name": "stdout",
     "output_type": "stream",
     "text": [
      "Out[56]: [FileInfo(path='dbfs:/FileStore/tables/emp_address_partitions/_SUCCESS', name='_SUCCESS', size=0, modificationTime=1746011143000),\n FileInfo(path='dbfs:/FileStore/tables/emp_address_partitions/address=INDIA/', name='address=INDIA/', size=0, modificationTime=0),\n FileInfo(path='dbfs:/FileStore/tables/emp_address_partitions/address=JAPAN/', name='address=JAPAN/', size=0, modificationTime=0),\n FileInfo(path='dbfs:/FileStore/tables/emp_address_partitions/address=RUSSIA/', name='address=RUSSIA/', size=0, modificationTime=0),\n FileInfo(path='dbfs:/FileStore/tables/emp_address_partitions/address=USA/', name='address=USA/', size=0, modificationTime=0)]"
     ]
    }
   ],
   "source": [
    "dbutils.fs.ls(\"/FileStore/tables/emp_address_partitions/\")"
   ]
  },
  {
   "cell_type": "code",
   "execution_count": 0,
   "metadata": {
    "application/vnd.databricks.v1+cell": {
     "cellMetadata": {
      "byteLimit": 2048000,
      "rowLimit": 10000
     },
     "inputWidgets": {},
     "nuid": "0dcb887b-adbe-4f01-8d7f-2d977960063d",
     "showTitle": false,
     "tableResultSettingsMap": {},
     "title": ""
    }
   },
   "outputs": [
    {
     "output_type": "stream",
     "name": "stdout",
     "output_type": "stream",
     "text": [
      "+---------------+-----------------+--------------------+--------------------+--------+-----------+\n|      Character|        Real Name|         Affiliation|              Powers|    Role|Power Level|\n+---------------+-----------------+--------------------+--------------------+--------+-----------+\n|       iron man|       Tony Stark|            Avengers|Powered Armor, Ge...|    Hero|        Low|\n|captain america|     Steve Rogers|            Avengers|Super Soldier, En...|    Hero|        Low|\n|           thor|     Thor Odinson|            Avengers|God of Thunder, W...|    Hero|        Low|\n|    black widow| Natasha Romanoff|            Avengers|Superhuman streng...|    Hero|        Low|\n|           hulk|     Bruce Banner|            Avengers|Superhuman streng...|    Hero|        Low|\n|     spider-man|     Peter Parker|            Avengers|Spider sense, Wal...|    Hero|        Low|\n|      wolverine|    James Howlett|               X-Men|Regeneration, Ada...|    Hero|        Low|\n|       deadpool|      Wade Wilson|             X-Force|Regeneration, Ski...|Antihero|        Low|\n|  black panther|         T’Challa|            Avengers|Superhuman streng...|    Hero|        Low|\n| doctor strange|  Stephen Strange|            Avengers|      Sorcery, Magic|    Hero|        Low|\n|        ant-man|       Scott Lang|            Avengers|Size manipulation...|    Hero|        Low|\n|  scarlet witch|   Wanda Maximoff|            Avengers|Telekinesis, Real...|    Hero|        Low|\n|         vision|  Victor Von Doom|            Avengers|Genius intellect,...|    Hero|        Low|\n|      daredevil|     Matt Murdock|           Defenders|Enhanced senses, ...|    Hero|        Low|\n|      luke cage|       Carl Lucas|           Defenders|Superhuman streng...|    Hero|        Low|\n|         gamora|Gamora Zenwhoberi|Guardians of the ...|Superhuman streng...|    Hero|        Low|\n|      star-lord|      Peter Quill|Guardians of the ...|Weapons expert, G...|    Hero|        Low|\n| rocket raccoon|           Rocket|Guardians of the ...|Cybernetic enhanc...|    Hero|        Low|\n|    black widow| Natasha Romanoff|            Avengers|Rocket science, G...|    Hero|        Low|\n|         thanos|           Thanos|             Villain|Expert marksmansh...| Villain|        Low|\n+---------------+-----------------+--------------------+--------------------+--------+-----------+\nonly showing top 20 rows\n\n"
     ]
    }
   ],
   "source": [
    "marvel_character_df = spark.read.format(\"csv\")\\\n",
    "    .option(\"header\", \"true\")\\\n",
    "        .option(\"infrastructure\", \"false\")\\\n",
    "            .option(\"mode\", \"PERMISSIVE\")\\\n",
    "                .load(\"/FileStore/tables/marvel_characters_dataset.csv\")\n",
    "\n",
    "marvel_character_df.show()"
   ]
  },
  {
   "cell_type": "code",
   "execution_count": 0,
   "metadata": {
    "application/vnd.databricks.v1+cell": {
     "cellMetadata": {
      "byteLimit": 2048000,
      "rowLimit": 10000
     },
     "inputWidgets": {},
     "nuid": "10ef6f97-b1ac-4956-8a71-acc0b5922252",
     "showTitle": false,
     "tableResultSettingsMap": {},
     "title": ""
    }
   },
   "outputs": [],
   "source": [
    "marvel_character_df.write.format(\"csv\")\\\n",
    "    .option(\"header\", \"true\")\\\n",
    "        .option(\"mode\", \"overwrite\")\\\n",
    "            .option(\"path\",\"/FileStore/tables/marvel_Affiliation_partition/\")\\\n",
    "                .partitionBy(\"Affiliation\")\\\n",
    "                .save()\n"
   ]
  },
  {
   "cell_type": "code",
   "execution_count": 0,
   "metadata": {
    "application/vnd.databricks.v1+cell": {
     "cellMetadata": {
      "byteLimit": 2048000,
      "rowLimit": 10000
     },
     "inputWidgets": {},
     "nuid": "493aa652-bcd9-4046-a190-031abb9b076d",
     "showTitle": false,
     "tableResultSettingsMap": {},
     "title": ""
    }
   },
   "outputs": [
    {
     "output_type": "stream",
     "name": "stdout",
     "output_type": "stream",
     "text": [
      "Out[59]: [FileInfo(path='dbfs:/FileStore/tables/marvel_Affiliation_partition/Affiliation=Avengers/', name='Affiliation=Avengers/', size=0, modificationTime=0),\n FileInfo(path='dbfs:/FileStore/tables/marvel_Affiliation_partition/Affiliation=Defenders/', name='Affiliation=Defenders/', size=0, modificationTime=0),\n FileInfo(path='dbfs:/FileStore/tables/marvel_Affiliation_partition/Affiliation=Fantastic Four/', name='Affiliation=Fantastic Four/', size=0, modificationTime=0),\n FileInfo(path='dbfs:/FileStore/tables/marvel_Affiliation_partition/Affiliation=Guardians of the Galaxy/', name='Affiliation=Guardians of the Galaxy/', size=0, modificationTime=0),\n FileInfo(path='dbfs:/FileStore/tables/marvel_Affiliation_partition/Affiliation=Hydra/', name='Affiliation=Hydra/', size=0, modificationTime=0),\n FileInfo(path='dbfs:/FileStore/tables/marvel_Affiliation_partition/Affiliation=Inhumans/', name='Affiliation=Inhumans/', size=0, modificationTime=0),\n FileInfo(path='dbfs:/FileStore/tables/marvel_Affiliation_partition/Affiliation=Sinister Six/', name='Affiliation=Sinister Six/', size=0, modificationTime=0),\n FileInfo(path='dbfs:/FileStore/tables/marvel_Affiliation_partition/Affiliation=Villain/', name='Affiliation=Villain/', size=0, modificationTime=0),\n FileInfo(path='dbfs:/FileStore/tables/marvel_Affiliation_partition/Affiliation=X-Force/', name='Affiliation=X-Force/', size=0, modificationTime=0),\n FileInfo(path='dbfs:/FileStore/tables/marvel_Affiliation_partition/Affiliation=X-Men/', name='Affiliation=X-Men/', size=0, modificationTime=0),\n FileInfo(path='dbfs:/FileStore/tables/marvel_Affiliation_partition/_SUCCESS', name='_SUCCESS', size=0, modificationTime=1746012317000)]"
     ]
    }
   ],
   "source": [
    "dbutils.fs.ls(\"/FileStore/tables/marvel_Affiliation_partition/\")"
   ]
  },
  {
   "cell_type": "code",
   "execution_count": 0,
   "metadata": {
    "application/vnd.databricks.v1+cell": {
     "cellMetadata": {
      "byteLimit": 2048000,
      "rowLimit": 10000
     },
     "inputWidgets": {},
     "nuid": "665a1777-aa03-43cb-b484-339e23671a9d",
     "showTitle": false,
     "tableResultSettingsMap": {},
     "title": ""
    }
   },
   "outputs": [
    {
     "output_type": "stream",
     "name": "stdout",
     "output_type": "stream",
     "text": [
      "Out[60]: [FileInfo(path='dbfs:/FileStore/tables/marvel_Affiliation_partition/Affiliation=Avengers/_SUCCESS', name='_SUCCESS', size=0, modificationTime=1746012316000),\n FileInfo(path='dbfs:/FileStore/tables/marvel_Affiliation_partition/Affiliation=Avengers/_committed_6933422137141533648', name='_committed_6933422137141533648', size=113, modificationTime=1746012316000),\n FileInfo(path='dbfs:/FileStore/tables/marvel_Affiliation_partition/Affiliation=Avengers/_started_6933422137141533648', name='_started_6933422137141533648', size=0, modificationTime=1746012314000),\n FileInfo(path='dbfs:/FileStore/tables/marvel_Affiliation_partition/Affiliation=Avengers/part-00000-tid-6933422137141533648-09446d60-b788-41fd-9b47-aa7724c99ee8-136-1.c000.csv', name='part-00000-tid-6933422137141533648-09446d60-b788-41fd-9b47-aa7724c99ee8-136-1.c000.csv', size=1577, modificationTime=1746012314000)]"
     ]
    }
   ],
   "source": [
    "dbutils.fs.ls(\"dbfs:/FileStore/tables/marvel_Affiliation_partition/Affiliation=Avengers/\")"
   ]
  },
  {
   "cell_type": "code",
   "execution_count": 0,
   "metadata": {
    "application/vnd.databricks.v1+cell": {
     "cellMetadata": {
      "byteLimit": 2048000,
      "rowLimit": 10000
     },
     "inputWidgets": {},
     "nuid": "fc8f181f-bc9e-4d21-817f-4cc685aff44e",
     "showTitle": false,
     "tableResultSettingsMap": {},
     "title": ""
    }
   },
   "outputs": [],
   "source": [
    "marvel_character_df.write.format(\"csv\")\\\n",
    "    .option(\"header\", \"true\")\\\n",
    "        .option(\"mode\", \"overwrite\")\\\n",
    "            .option(\"path\",\"/FileStore/tables/marvel_Affiliation_Powers_partition/\")\\\n",
    "                .partitionBy(\"Affiliation\", \"Powers\")\\\n",
    "                .save()\n"
   ]
  },
  {
   "cell_type": "code",
   "execution_count": 0,
   "metadata": {
    "application/vnd.databricks.v1+cell": {
     "cellMetadata": {
      "byteLimit": 2048000,
      "rowLimit": 10000
     },
     "inputWidgets": {},
     "nuid": "47566581-109e-4bfe-88a6-760e50db5495",
     "showTitle": false,
     "tableResultSettingsMap": {},
     "title": ""
    }
   },
   "outputs": [
    {
     "output_type": "stream",
     "name": "stdout",
     "output_type": "stream",
     "text": [
      "Out[62]: [FileInfo(path='dbfs:/FileStore/tables/marvel_Affiliation_Powers_partition/Affiliation=Avengers/', name='Affiliation=Avengers/', size=0, modificationTime=0),\n FileInfo(path='dbfs:/FileStore/tables/marvel_Affiliation_Powers_partition/Affiliation=Defenders/', name='Affiliation=Defenders/', size=0, modificationTime=0),\n FileInfo(path='dbfs:/FileStore/tables/marvel_Affiliation_Powers_partition/Affiliation=Fantastic Four/', name='Affiliation=Fantastic Four/', size=0, modificationTime=0),\n FileInfo(path='dbfs:/FileStore/tables/marvel_Affiliation_Powers_partition/Affiliation=Guardians of the Galaxy/', name='Affiliation=Guardians of the Galaxy/', size=0, modificationTime=0),\n FileInfo(path='dbfs:/FileStore/tables/marvel_Affiliation_Powers_partition/Affiliation=Hydra/', name='Affiliation=Hydra/', size=0, modificationTime=0),\n FileInfo(path='dbfs:/FileStore/tables/marvel_Affiliation_Powers_partition/Affiliation=Inhumans/', name='Affiliation=Inhumans/', size=0, modificationTime=0),\n FileInfo(path='dbfs:/FileStore/tables/marvel_Affiliation_Powers_partition/Affiliation=Sinister Six/', name='Affiliation=Sinister Six/', size=0, modificationTime=0),\n FileInfo(path='dbfs:/FileStore/tables/marvel_Affiliation_Powers_partition/Affiliation=Villain/', name='Affiliation=Villain/', size=0, modificationTime=0),\n FileInfo(path='dbfs:/FileStore/tables/marvel_Affiliation_Powers_partition/Affiliation=X-Force/', name='Affiliation=X-Force/', size=0, modificationTime=0),\n FileInfo(path='dbfs:/FileStore/tables/marvel_Affiliation_Powers_partition/Affiliation=X-Men/', name='Affiliation=X-Men/', size=0, modificationTime=0),\n FileInfo(path='dbfs:/FileStore/tables/marvel_Affiliation_Powers_partition/_SUCCESS', name='_SUCCESS', size=0, modificationTime=1746012468000)]"
     ]
    }
   ],
   "source": [
    "dbutils.fs.ls(\"/FileStore/tables/marvel_Affiliation_Powers_partition/\")"
   ]
  },
  {
   "cell_type": "code",
   "execution_count": 0,
   "metadata": {
    "application/vnd.databricks.v1+cell": {
     "cellMetadata": {
      "byteLimit": 2048000,
      "rowLimit": 10000
     },
     "inputWidgets": {},
     "nuid": "487878b8-41f3-4206-8b03-7481cd3950f4",
     "showTitle": false,
     "tableResultSettingsMap": {},
     "title": ""
    }
   },
   "outputs": [
    {
     "output_type": "stream",
     "name": "stdout",
     "output_type": "stream",
     "text": [
      "Out[63]: [FileInfo(path='dbfs:/FileStore/tables/marvel_Affiliation_Powers_partition/Affiliation=Avengers/Powers=Aerial combat, Shield mastery/', name='Powers=Aerial combat, Shield mastery/', size=0, modificationTime=0),\n FileInfo(path='dbfs:/FileStore/tables/marvel_Affiliation_Powers_partition/Affiliation=Avengers/Powers=Chi manipulation, Martial arts expert/', name='Powers=Chi manipulation, Martial arts expert/', size=0, modificationTime=0),\n FileInfo(path='dbfs:/FileStore/tables/marvel_Affiliation_Powers_partition/Affiliation=Avengers/Powers=Energy manipulation, Expert marksman/', name='Powers=Energy manipulation, Expert marksman/', size=0, modificationTime=0),\n FileInfo(path='dbfs:/FileStore/tables/marvel_Affiliation_Powers_partition/Affiliation=Avengers/Powers=Flight, Superhuman strength, Cosmic energy/', name='Powers=Flight, Superhuman strength, Cosmic energy/', size=0, modificationTime=0),\n FileInfo(path='dbfs:/FileStore/tables/marvel_Affiliation_Powers_partition/Affiliation=Avengers/Powers=Genius intellect, Magic/', name='Powers=Genius intellect, Magic/', size=0, modificationTime=0),\n FileInfo(path='dbfs:/FileStore/tables/marvel_Affiliation_Powers_partition/Affiliation=Avengers/Powers=God of Thunder, Weather manipulation/', name='Powers=God of Thunder, Weather manipulation/', size=0, modificationTime=0),\n FileInfo(path='dbfs:/FileStore/tables/marvel_Affiliation_Powers_partition/Affiliation=Avengers/Powers=Illusion creation, Hypnosis/', name='Powers=Illusion creation, Hypnosis/', size=0, modificationTime=0),\n FileInfo(path='dbfs:/FileStore/tables/marvel_Affiliation_Powers_partition/Affiliation=Avengers/Powers=Magical powers/', name='Powers=Magical powers/', size=0, modificationTime=0),\n FileInfo(path='dbfs:/FileStore/tables/marvel_Affiliation_Powers_partition/Affiliation=Avengers/Powers=Powered Armor, Genius-level intellect/', name='Powers=Powered Armor, Genius-level intellect/', size=0, modificationTime=0),\n FileInfo(path='dbfs:/FileStore/tables/marvel_Affiliation_Powers_partition/Affiliation=Avengers/Powers=Rocket science, Genius intellect/', name='Powers=Rocket science, Genius intellect/', size=0, modificationTime=0),\n FileInfo(path='dbfs:/FileStore/tables/marvel_Affiliation_Powers_partition/Affiliation=Avengers/Powers=Size manipulation, Ant communication/', name='Powers=Size manipulation, Ant communication/', size=0, modificationTime=0),\n FileInfo(path='dbfs:/FileStore/tables/marvel_Affiliation_Powers_partition/Affiliation=Avengers/Powers=Skilled combatant, Weapon mastery/', name='Powers=Skilled combatant, Weapon mastery/', size=0, modificationTime=0),\n FileInfo(path='dbfs:/FileStore/tables/marvel_Affiliation_Powers_partition/Affiliation=Avengers/Powers=Sorcery, Magic/', name='Powers=Sorcery, Magic/', size=0, modificationTime=0),\n FileInfo(path='dbfs:/FileStore/tables/marvel_Affiliation_Powers_partition/Affiliation=Avengers/Powers=Spider sense, Wall crawling/', name='Powers=Spider sense, Wall crawling/', size=0, modificationTime=0),\n FileInfo(path='dbfs:/FileStore/tables/marvel_Affiliation_Powers_partition/Affiliation=Avengers/Powers=Super Soldier, Enhanced strength/', name='Powers=Super Soldier, Enhanced strength/', size=0, modificationTime=0),\n FileInfo(path='dbfs:/FileStore/tables/marvel_Affiliation_Powers_partition/Affiliation=Avengers/Powers=Superhuman speed, Enhanced senses/', name='Powers=Superhuman speed, Enhanced senses/', size=0, modificationTime=0),\n FileInfo(path='dbfs:/FileStore/tables/marvel_Affiliation_Powers_partition/Affiliation=Avengers/Powers=Superhuman strength, Agility/', name='Powers=Superhuman strength, Agility/', size=0, modificationTime=0),\n FileInfo(path='dbfs:/FileStore/tables/marvel_Affiliation_Powers_partition/Affiliation=Avengers/Powers=Superhuman strength, Espionage/', name='Powers=Superhuman strength, Espionage/', size=0, modificationTime=0),\n FileInfo(path='dbfs:/FileStore/tables/marvel_Affiliation_Powers_partition/Affiliation=Avengers/Powers=Superhuman strength, Gamma Radiation/', name='Powers=Superhuman strength, Gamma Radiation/', size=0, modificationTime=0),\n FileInfo(path='dbfs:/FileStore/tables/marvel_Affiliation_Powers_partition/Affiliation=Avengers/Powers=Superhuman strength, Regeneration/', name='Powers=Superhuman strength, Regeneration/', size=0, modificationTime=0),\n FileInfo(path='dbfs:/FileStore/tables/marvel_Affiliation_Powers_partition/Affiliation=Avengers/Powers=Superhuman strength, Vibranium suit/', name='Powers=Superhuman strength, Vibranium suit/', size=0, modificationTime=0),\n FileInfo(path='dbfs:/FileStore/tables/marvel_Affiliation_Powers_partition/Affiliation=Avengers/Powers=Symbiote bonding, Enhanced strength/', name='Powers=Symbiote bonding, Enhanced strength/', size=0, modificationTime=0),\n FileInfo(path='dbfs:/FileStore/tables/marvel_Affiliation_Powers_partition/Affiliation=Avengers/Powers=Telekinesis, Reality warping/', name='Powers=Telekinesis, Reality warping/', size=0, modificationTime=0)]"
     ]
    }
   ],
   "source": [
    "dbutils.fs.ls(\"dbfs:/FileStore/tables/marvel_Affiliation_Powers_partition/Affiliation=Avengers/\")"
   ]
  },
  {
   "cell_type": "markdown",
   "metadata": {
    "application/vnd.databricks.v1+cell": {
     "cellMetadata": {},
     "inputWidgets": {},
     "nuid": "fffbe1e6-2e26-4816-8f27-d6c986fc52b4",
     "showTitle": false,
     "tableResultSettingsMap": {},
     "title": ""
    }
   },
   "source": [
    "--------------------------------------------From a nested json get the keys-------------------------------------------------"
   ]
  },
  {
   "cell_type": "code",
   "execution_count": 0,
   "metadata": {
    "application/vnd.databricks.v1+cell": {
     "cellMetadata": {
      "byteLimit": 2048000,
      "rowLimit": 10000
     },
     "inputWidgets": {},
     "nuid": "1a3a0f60-168e-4848-8a3f-5e764ea458cf",
     "showTitle": false,
     "tableResultSettingsMap": {},
     "title": ""
    }
   },
   "outputs": [
    {
     "output_type": "stream",
     "name": "stdout",
     "output_type": "stream",
     "text": [
      "+-------+-------+\n|city   |zipcode|\n+-------+-------+\n|Orlando|32789  |\n|Orlando|32819  |\n|Orlando|32803  |\n|Orlando|32789  |\n|Orlando|32819  |\n|Orlando|32803  |\n|Orlando|32819  |\n|Orlando|32830  |\n|Orlando|32789  |\n|Orlando|32771  |\n|Orlando|32819  |\n|Orlando|32789  |\n|Orlando|32830  |\n|Orlando|32819  |\n|Orlando|32792  |\n|Orlando|32801  |\n|Orlando|32789  |\n|Orlando|32803  |\n|Orlando|34786  |\n|Orlando|32830  |\n+-------+-------+\nonly showing top 20 rows\n\n"
     ]
    }
   ],
   "source": [
    "df4.select(\"location.city\", 'location.zipcode').show(truncate=False)"
   ]
  },
  {
   "cell_type": "code",
   "execution_count": 0,
   "metadata": {
    "application/vnd.databricks.v1+cell": {
     "cellMetadata": {
      "byteLimit": 2048000,
      "rowLimit": 10000
     },
     "inputWidgets": {},
     "nuid": "3378ab66-acbf-4697-a46d-2ef4fea22c0a",
     "showTitle": false,
     "tableResultSettingsMap": {},
     "title": ""
    }
   },
   "outputs": [
    {
     "output_type": "stream",
     "name": "stdout",
     "output_type": "stream",
     "text": [
      "+--------------------+-------+-------+-----------+--------------------+--------------------+--------+\n|                name|   city|zipcode|price_range|average_cost_for_two|            cuisines|is_valid|\n+--------------------+-------+-------+-----------+--------------------+--------------------+--------+\n|            The Coop|Orlando|  32789|          2|                  25|Southern, Cajun, ...|    null|\n|Maggiano's Little...|Orlando|  32819|          4|                  50|             Italian|    null|\n|Tako Cheena by Po...|Orlando|  32803|          1|                  10|Asian, Latin Amer...|    null|\n|Bosphorous Turkis...|Orlando|  32789|          3|                  40|Mediterranean, Tu...|    null|\n|Bahama Breeze Isl...|Orlando|  32819|          3|                  45|           Caribbean|    null|\n|Hawkers Asian Str...|Orlando|  32803|          3|                  35|         Asian, Thai|    null|\n|Seasons 52 Fresh ...|Orlando|  32819|          4|                  60|            American|    null|\n|Raglan Road Irish...|Orlando|  32830|          4|                  50|               Irish|    null|\n|           Hillstone|Orlando|  32789|          3|                  40|                    |   false|\n|Hollerbach's Will...|Orlando|  32771|          3|                  40|              German|    null|\n|     Texas de Brazil|Orlando|  32819|          4|                 100|    Brazilian, Steak|    null|\n|    The Ravenous Pig|Orlando|  32789|          3|                  40|            Pub Food|    null|\n|    Earl of Sandwich|Orlando|  32830|          3|                  35|American, Sandwic...|    null|\n|    Café Tu Tu Tango|Orlando|  32819|          3|                  40| New American, Tapas|    null|\n|Tibby's New Orlea...|Orlando|  32792|          2|                  25|               Cajun|    null|\n|Cevíche Tapas Bar...|Orlando|  32801|          3|                  40|      Spanish, Tapas|    null|\n| Ethos Vegan Kitchen|Orlando|  32789|          2|                  25|American, Breakfa...|    null|\n|Pom Pom's Teahous...|Orlando|  32803|          2|                  25|American, Sandwic...|    null|\n|     Yellow Dog Eats|Orlando|  34786|          3|                  35|American, BBQ, Sa...|    null|\n|              'Ohana|Orlando|  32830|          3|                  45|            Hawaiian|    null|\n+--------------------+-------+-------+-----------+--------------------+--------------------+--------+\nonly showing top 20 rows\n\n"
     ]
    }
   ],
   "source": [
    "df4.select(\"name\",\"location.city\", 'location.zipcode', 'price_range', 'average_cost_for_two', 'cuisines')\\\n",
    "    .withColumn(\"is_valid\", col(\"name\").isNotNull() &\n",
    "        col(\"city\").isNotNull() &\n",
    "        (col(\"city\") != \"\") &\n",
    "        col(\"zipcode\").isNotNull() &\n",
    "        (col(\"price_range\") != \"\") &\n",
    "        (col('price_range') < 40) &\n",
    "        (col(\"cuisines\") != \"\")\n",
    "    ).show()\n"
   ]
  },
  {
   "cell_type": "markdown",
   "metadata": {
    "application/vnd.databricks.v1+cell": {
     "cellMetadata": {},
     "inputWidgets": {},
     "nuid": "456841c4-dbec-4d2f-aa06-441bfcddb51f",
     "showTitle": false,
     "tableResultSettingsMap": {},
     "title": ""
    }
   },
   "source": [
    "-------------------------------------- Use structype and structfield to define schema of a spark dataframe ------------------------------------"
   ]
  },
  {
   "cell_type": "code",
   "execution_count": 0,
   "metadata": {
    "application/vnd.databricks.v1+cell": {
     "cellMetadata": {
      "byteLimit": 2048000,
      "rowLimit": 10000
     },
     "inputWidgets": {},
     "nuid": "f4c56f0c-478a-49fe-bfd6-3e06514548eb",
     "showTitle": false,
     "tableResultSettingsMap": {},
     "title": ""
    }
   },
   "outputs": [
    {
     "output_type": "stream",
     "name": "stdout",
     "output_type": "stream",
     "text": [
      "+---+--------+---+------+------------+--------+-------------------------------------------+\n|id |name    |age|salary|address     |nominee |_corrupt_record                            |\n+---+--------+---+------+------------+--------+-------------------------------------------+\n|1  |Manish  |26 |75000 |bihar       |nominee1|null                                       |\n|2  |Nikita  |23 |100000|uttarpradesh|nominee2|null                                       |\n|3  |Pritam  |22 |150000|Bangalore   |India   |3,Pritam,22,150000,Bangalore,India,nominee3|\n|4  |Prantosh|17 |200000|Kolkata     |India   |4,Prantosh,17,200000,Kolkata,India,nominee4|\n|5  |Vikash  |31 |300000|null        |nominee5|null                                       |\n+---+--------+---+------+------------+--------+-------------------------------------------+\n\n"
     ]
    }
   ],
   "source": [
    "employee_schema = StructType([\n",
    "    StructField(\"id\", IntegerType(), True),\n",
    "    StructField(\"name\", StringType(), True),\n",
    "    StructField(\"age\", IntegerType(), True),\n",
    "    StructField(\"salary\", IntegerType(), True),\n",
    "    StructField(\"address\", StringType(), True),\n",
    "    StructField(\"nominee\", StringType(), True),\n",
    "    StructField(\"_corrupt_record\", StringType(), True),\n",
    "])\n",
    "\n",
    "employee_schema_df = spark.read.format(\"csv\")\\\n",
    "    .option(\"header\", \"true\")\\\n",
    "    .option(\"inferschema\", \"false\")\\\n",
    "    .option(\"mode\", \"PERMISSIVE\")\\\n",
    "    .schema(employee_schema)\\\n",
    "    .load(\"/FileStore/tables/employee.csv\")\n",
    "    \n",
    "employee_schema_df.show(truncate=False)"
   ]
  },
  {
   "cell_type": "markdown",
   "metadata": {
    "application/vnd.databricks.v1+cell": {
     "cellMetadata": {},
     "inputWidgets": {},
     "nuid": "13498355-4f5c-4d19-9516-769809088488",
     "showTitle": false,
     "tableResultSettingsMap": {},
     "title": ""
    }
   },
   "source": [
    "------------------------------------------- Windows function for different cases -----------------------------------------"
   ]
  },
  {
   "cell_type": "code",
   "execution_count": 0,
   "metadata": {
    "application/vnd.databricks.v1+cell": {
     "cellMetadata": {
      "byteLimit": 2048000,
      "rowLimit": 10000
     },
     "inputWidgets": {},
     "nuid": "6a4c4c4b-c94e-4ccf-a7be-a12123084464",
     "showTitle": false,
     "tableResultSettingsMap": {},
     "title": ""
    }
   },
   "outputs": [],
   "source": [
    "from pyspark.sql.window import Window\n",
    "from pyspark.sql.functions import *\n"
   ]
  },
  {
   "cell_type": "code",
   "execution_count": 0,
   "metadata": {
    "application/vnd.databricks.v1+cell": {
     "cellMetadata": {
      "byteLimit": 2048000,
      "rowLimit": 10000
     },
     "inputWidgets": {},
     "nuid": "2433848e-eef7-490c-b4b0-06278cadb8b3",
     "showTitle": false,
     "tableResultSettingsMap": {},
     "title": ""
    }
   },
   "outputs": [
    {
     "output_type": "stream",
     "name": "stdout",
     "output_type": "stream",
     "text": [
      "+---+--------+------+---------+------+\n| id|    name|salary|     dept|gender|\n+---+--------+------+---------+------+\n|  1|  manish| 50000|       IT|     m|\n|  2|  vikash| 60000|    sales|     m|\n|  3| raushan| 70000|marketing|     m|\n|  4|  mukesh| 80000|       IT|     m|\n|  5|   priti| 90000|    sales|     f|\n|  6|  nikita| 45000|marketing|     f|\n|  7|  ragini| 55000|marketing|     f|\n|  8|   rashi|100000|       IT|     f|\n|  9|  aditya| 65000|       IT|     m|\n| 10|   rahul| 50000|marketing|     m|\n| 11|   rakhi| 50000|       IT|     f|\n| 12|akhilesh| 90000|    sales|     m|\n+---+--------+------+---------+------+\n\n"
     ]
    }
   ],
   "source": [
    "emp_d = [(1,'manish',50000,'IT','m'),\n",
    "(2,'vikash',60000,'sales','m'),\n",
    "(3,'raushan',70000,'marketing','m'),\n",
    "(4,'mukesh',80000,'IT','m'),\n",
    "(5,'priti',90000,'sales','f'),\n",
    "(6,'nikita',45000,'marketing','f'),\n",
    "(7,'ragini',55000,'marketing','f'),\n",
    "(8,'rashi',100000,'IT','f'),\n",
    "(9,'aditya',65000,'IT','m'),\n",
    "(10,'rahul',50000,'marketing','m'),\n",
    "(11,'rakhi',50000,'IT','f'),\n",
    "(12,'akhilesh',90000,'sales','m')]\n",
    "\n",
    "emp_s = ['id', 'name', 'salary', 'dept', 'gender']\n",
    "\n",
    "emp_dff = spark.createDataFrame(data=emp_d, schema=emp_s)\n",
    "\n",
    "emp_dff.show()"
   ]
  },
  {
   "cell_type": "code",
   "execution_count": 0,
   "metadata": {
    "application/vnd.databricks.v1+cell": {
     "cellMetadata": {
      "byteLimit": 2048000,
      "rowLimit": 10000
     },
     "inputWidgets": {},
     "nuid": "710a0127-985c-413b-8e06-157c410cd9e6",
     "showTitle": false,
     "tableResultSettingsMap": {},
     "title": ""
    }
   },
   "outputs": [
    {
     "output_type": "stream",
     "name": "stdout",
     "output_type": "stream",
     "text": [
      "+---+--------+------+---------+------+------------+----------+--------------+----------+----------+\n| id|    name|salary|     dept|gender|total_salary|Row_number|average_salary|max_salary|min_salary|\n+---+--------+------+---------+------+------------+----------+--------------+----------+----------+\n|  1|  manish| 50000|       IT|     m|      345000|         1|       69000.0|    100000|     50000|\n| 11|   rakhi| 50000|       IT|     f|      345000|         2|       69000.0|    100000|     50000|\n|  9|  aditya| 65000|       IT|     m|      345000|         3|       69000.0|    100000|     50000|\n|  4|  mukesh| 80000|       IT|     m|      345000|         4|       69000.0|    100000|     50000|\n|  8|   rashi|100000|       IT|     f|      345000|         5|       69000.0|    100000|     50000|\n|  6|  nikita| 45000|marketing|     f|      220000|         1|       55000.0|     70000|     45000|\n| 10|   rahul| 50000|marketing|     m|      220000|         2|       55000.0|     70000|     45000|\n|  7|  ragini| 55000|marketing|     f|      220000|         3|       55000.0|     70000|     45000|\n|  3| raushan| 70000|marketing|     m|      220000|         4|       55000.0|     70000|     45000|\n|  2|  vikash| 60000|    sales|     m|      240000|         1|       80000.0|     90000|     60000|\n|  5|   priti| 90000|    sales|     f|      240000|         2|       80000.0|     90000|     60000|\n| 12|akhilesh| 90000|    sales|     m|      240000|         3|       80000.0|     90000|     60000|\n+---+--------+------+---------+------+------------+----------+--------------+----------+----------+\n\n"
     ]
    }
   ],
   "source": [
    "window = Window.partitionBy(\"dept\")\n",
    "emp_dff = emp_dff.withColumn(\"total_salary\", sum(\"salary\").over(window=window))\\\n",
    "    .withColumn(\"average_salary\", avg(\"salary\").over(window=window))\\\n",
    "        .withColumn(\"max_salary\", max(\"salary\").over(window=window))\\\n",
    "            .withColumn(\"min_salary\", min(\"salary\").over(window=window))\n",
    "\n",
    "emp_dff.show()"
   ]
  },
  {
   "cell_type": "code",
   "execution_count": 0,
   "metadata": {
    "application/vnd.databricks.v1+cell": {
     "cellMetadata": {
      "byteLimit": 2048000,
      "rowLimit": 10000
     },
     "inputWidgets": {},
     "nuid": "a4fb1d7d-ec96-4a9b-a760-bbb71eaef970",
     "showTitle": false,
     "tableResultSettingsMap": {},
     "title": ""
    }
   },
   "outputs": [
    {
     "output_type": "stream",
     "name": "stdout",
     "output_type": "stream",
     "text": [
      "+---+--------+------+---------+------+------------+----------+--------------+----------+----------+----+----------+------------------+\n| id|    name|salary|     dept|gender|total_salary|Row_number|average_salary|max_salary|min_salary|Rank|Dense_Rank|   Percentile_Rank|\n+---+--------+------+---------+------+------------+----------+--------------+----------+----------+----+----------+------------------+\n|  1|  manish| 50000|       IT|     m|      345000|         1|       69000.0|    100000|     50000|   1|         1|               0.0|\n| 11|   rakhi| 50000|       IT|     f|      345000|         2|       69000.0|    100000|     50000|   1|         1|               0.0|\n|  9|  aditya| 65000|       IT|     m|      345000|         3|       69000.0|    100000|     50000|   3|         2|               0.5|\n|  4|  mukesh| 80000|       IT|     m|      345000|         4|       69000.0|    100000|     50000|   4|         3|              0.75|\n|  8|   rashi|100000|       IT|     f|      345000|         5|       69000.0|    100000|     50000|   5|         4|               1.0|\n|  6|  nikita| 45000|marketing|     f|      220000|         1|       55000.0|     70000|     45000|   1|         1|               0.0|\n| 10|   rahul| 50000|marketing|     m|      220000|         2|       55000.0|     70000|     45000|   2|         2|0.3333333333333333|\n|  7|  ragini| 55000|marketing|     f|      220000|         3|       55000.0|     70000|     45000|   3|         3|0.6666666666666666|\n|  3| raushan| 70000|marketing|     m|      220000|         4|       55000.0|     70000|     45000|   4|         4|               1.0|\n|  2|  vikash| 60000|    sales|     m|      240000|         1|       80000.0|     90000|     60000|   1|         1|               0.0|\n|  5|   priti| 90000|    sales|     f|      240000|         2|       80000.0|     90000|     60000|   2|         2|               0.5|\n| 12|akhilesh| 90000|    sales|     m|      240000|         3|       80000.0|     90000|     60000|   2|         2|               0.5|\n+---+--------+------+---------+------+------------+----------+--------------+----------+----------+----+----------+------------------+\n\n"
     ]
    }
   ],
   "source": [
    "window = Window.partitionBy(\"dept\").orderBy(\"salary\")\n",
    "emp_dff = emp_dff.withColumn(\"Row_number\", row_number().over(window=window))\\\n",
    "    .withColumn(\"Rank\", rank().over(window=window))\\\n",
    "        .withColumn(\"Dense_Rank\", dense_rank().over(window=window))\\\n",
    "                .withColumn(\"Percentile_Rank\", percent_rank().over(window=window))\n",
    "\n",
    "emp_dff.show()"
   ]
  },
  {
   "cell_type": "code",
   "execution_count": 0,
   "metadata": {
    "application/vnd.databricks.v1+cell": {
     "cellMetadata": {
      "byteLimit": 2048000,
      "rowLimit": 10000
     },
     "inputWidgets": {},
     "nuid": "cc2beeb4-e989-4c7b-91c7-777ddcde7432",
     "showTitle": false,
     "tableResultSettingsMap": {},
     "title": ""
    }
   },
   "outputs": [
    {
     "output_type": "stream",
     "name": "stdout",
     "output_type": "stream",
     "text": [
      "+---+--------+------+---------+------+------------+----------+--------------+----------+----------+----+----------+---------------+\n| id|    name|salary|     dept|gender|total_salary|Row_number|average_salary|max_salary|min_salary|Rank|Dense_Rank|Percentile_Rank|\n+---+--------+------+---------+------+------------+----------+--------------+----------+----------+----+----------+---------------+\n|  9|  aditya| 65000|       IT|     m|      345000|         1|       69000.0|    100000|     50000|   1|         1|            0.0|\n|  1|  manish| 50000|       IT|     m|      345000|         2|       69000.0|    100000|     50000|   2|         2|            0.5|\n| 11|   rakhi| 50000|       IT|     f|      345000|         3|       69000.0|    100000|     50000|   2|         2|            0.5|\n| 10|   rahul| 50000|marketing|     m|      220000|         1|       55000.0|     70000|     45000|   1|         1|            0.0|\n|  6|  nikita| 45000|marketing|     f|      220000|         2|       55000.0|     70000|     45000|   2|         2|            1.0|\n|  5|   priti| 90000|    sales|     f|      240000|         1|       80000.0|     90000|     60000|   1|         1|            0.0|\n| 12|akhilesh| 90000|    sales|     m|      240000|         2|       80000.0|     90000|     60000|   1|         1|            0.0|\n|  2|  vikash| 60000|    sales|     m|      240000|         3|       80000.0|     90000|     60000|   3|         2|            1.0|\n+---+--------+------+---------+------+------------+----------+--------------+----------+----------+----+----------+---------------+\n\n"
     ]
    }
   ],
   "source": [
    "window = Window.partitionBy(\"dept\").orderBy(desc(\"salary\"))\n",
    "emp_dff = emp_dff.withColumn(\"Row_number\", row_number().over(window=window))\\\n",
    "    .withColumn(\"Rank\", rank().over(window=window))\\\n",
    "        .withColumn(\"Dense_Rank\", dense_rank().over(window=window))\\\n",
    "                .withColumn(\"Percentile_Rank\", percent_rank().over(window=window))\\\n",
    "                    .filter(emp_dff[\"Dense_Rank\"] <= 2)\n",
    "\n",
    "emp_dff.show()"
   ]
  },
  {
   "cell_type": "code",
   "execution_count": 0,
   "metadata": {
    "application/vnd.databricks.v1+cell": {
     "cellMetadata": {
      "byteLimit": 2048000,
      "rowLimit": 10000
     },
     "inputWidgets": {},
     "nuid": "e7af8a78-36be-457d-9f8b-0141d146f370",
     "showTitle": false,
     "tableResultSettingsMap": {},
     "title": ""
    }
   },
   "outputs": [
    {
     "output_type": "stream",
     "name": "stdout",
     "output_type": "stream",
     "text": [
      "+---+------+------+----+------+------------+----------+--------------+----------+----------+----+----------+---------------+\n| id|  name|salary|dept|gender|total_salary|Row_number|average_salary|max_salary|min_salary|Rank|Dense_Rank|Percentile_Rank|\n+---+------+------+----+------+------------+----------+--------------+----------+----------+----+----------+---------------+\n|  9|aditya| 65000|  IT|     m|      345000|         1|       69000.0|    100000|     50000|   1|         1|            0.0|\n|  1|manish| 50000|  IT|     m|      345000|         2|       69000.0|    100000|     50000|   2|         2|            0.5|\n+---+------+------+----+------+------------+----------+--------------+----------+----------+----+----------+---------------+\n\n"
     ]
    }
   ],
   "source": [
    "window = Window.partitionBy(\"dept\").orderBy(desc(\"salary\"))\n",
    "emp_dff = emp_dff.withColumn(\"Row_number\", row_number().over(window=window))\\\n",
    "    .withColumn(\"Rank\", rank().over(window=window))\\\n",
    "        .withColumn(\"Dense_Rank\", dense_rank().over(window=window))\\\n",
    "                .withColumn(\"Percentile_Rank\", percent_rank().over(window=window))\\\n",
    "                    .filter(emp_dff[\"Dense_Rank\"] <= 2).limit(2)\n",
    "\n",
    "emp_dff.show()"
   ]
  },
  {
   "cell_type": "code",
   "execution_count": 0,
   "metadata": {
    "application/vnd.databricks.v1+cell": {
     "cellMetadata": {
      "byteLimit": 2048000,
      "rowLimit": 10000
     },
     "inputWidgets": {},
     "nuid": "9ec2b1bf-7483-41c5-8744-fd6a1a0433db",
     "showTitle": false,
     "tableResultSettingsMap": {},
     "title": ""
    }
   },
   "outputs": [
    {
     "output_type": "stream",
     "name": "stdout",
     "output_type": "stream",
     "text": [
      "+----------+------------+----------+-------+\n|product_id|product_name|sales_date|  sales|\n+----------+------------+----------+-------+\n|         1|      iphone|01-01-2023|1500000|\n|         2|     samsung|01-01-2023|1100000|\n|         3|     oneplus|01-01-2023|1100000|\n|         1|      iphone|01-02-2023|1300000|\n|         2|     samsung|01-02-2023|1120000|\n|         3|     oneplus|01-02-2023|1120000|\n|         1|      iphone|01-03-2023|1600000|\n|         2|     samsung|01-03-2023|1080000|\n|         3|     oneplus|01-03-2023|1160000|\n|         1|      iphone|01-04-2023|1700000|\n|         2|     samsung|01-04-2023|1800000|\n|         3|     oneplus|01-04-2023|1170000|\n|         1|      iphone|01-05-2023|1200000|\n|         2|     samsung|01-05-2023| 980000|\n|         3|     oneplus|01-05-2023|1175000|\n|         1|      iphone|01-06-2023|1100000|\n|         2|     samsung|01-06-2023|1100000|\n|         3|     oneplus|01-06-2023|1200000|\n+----------+------------+----------+-------+\n\n"
     ]
    }
   ],
   "source": [
    "product_data = [\n",
    "(1,\"iphone\",\"01-01-2023\",1500000),\n",
    "(2,\"samsung\",\"01-01-2023\",1100000),\n",
    "(3,\"oneplus\",\"01-01-2023\",1100000),\n",
    "(1,\"iphone\",\"01-02-2023\",1300000),\n",
    "(2,\"samsung\",\"01-02-2023\",1120000),\n",
    "(3,\"oneplus\",\"01-02-2023\",1120000),\n",
    "(1,\"iphone\",\"01-03-2023\",1600000),\n",
    "(2,\"samsung\",\"01-03-2023\",1080000),\n",
    "(3,\"oneplus\",\"01-03-2023\",1160000),\n",
    "(1,\"iphone\",\"01-04-2023\",1700000),\n",
    "(2,\"samsung\",\"01-04-2023\",1800000),\n",
    "(3,\"oneplus\",\"01-04-2023\",1170000),\n",
    "(1,\"iphone\",\"01-05-2023\",1200000),\n",
    "(2,\"samsung\",\"01-05-2023\",980000),\n",
    "(3,\"oneplus\",\"01-05-2023\",1175000),\n",
    "(1,\"iphone\",\"01-06-2023\",1100000),\n",
    "(2,\"samsung\",\"01-06-2023\",1100000),\n",
    "(3,\"oneplus\",\"01-06-2023\",1200000)\n",
    "]\n",
    "\n",
    "\n",
    "product_schema = ['product_id', 'product_name', 'sales_date', 'sales']\n",
    "\n",
    "product_df = spark.createDataFrame(data=product_data, schema=product_schema)\n",
    "\n",
    "product_df.show()"
   ]
  },
  {
   "cell_type": "code",
   "execution_count": 0,
   "metadata": {
    "application/vnd.databricks.v1+cell": {
     "cellMetadata": {
      "byteLimit": 2048000,
      "rowLimit": 10000
     },
     "inputWidgets": {},
     "nuid": "1078f6cc-244f-4d94-acd5-13f0ad58877a",
     "showTitle": false,
     "tableResultSettingsMap": {},
     "title": ""
    }
   },
   "outputs": [
    {
     "output_type": "stream",
     "name": "stdout",
     "output_type": "stream",
     "text": [
      "+----------+------------+----------+-------+-------+-------+\n|product_id|product_name|sales_date|  sales|   lead|    lag|\n+----------+------------+----------+-------+-------+-------+\n|         1|      iphone|01-06-2023|1100000|1200000|   null|\n|         1|      iphone|01-05-2023|1200000|1700000|1100000|\n|         1|      iphone|01-04-2023|1700000|1600000|1200000|\n|         1|      iphone|01-03-2023|1600000|1300000|1700000|\n|         1|      iphone|01-02-2023|1300000|1500000|1600000|\n|         1|      iphone|01-01-2023|1500000|   null|1300000|\n|         2|     samsung|01-06-2023|1100000| 980000|   null|\n|         2|     samsung|01-05-2023| 980000|1800000|1100000|\n|         2|     samsung|01-04-2023|1800000|1080000| 980000|\n|         2|     samsung|01-03-2023|1080000|1120000|1800000|\n|         2|     samsung|01-02-2023|1120000|1100000|1080000|\n|         2|     samsung|01-01-2023|1100000|   null|1120000|\n|         3|     oneplus|01-06-2023|1200000|1175000|   null|\n|         3|     oneplus|01-05-2023|1175000|1170000|1200000|\n|         3|     oneplus|01-04-2023|1170000|1160000|1175000|\n|         3|     oneplus|01-03-2023|1160000|1120000|1170000|\n|         3|     oneplus|01-02-2023|1120000|1100000|1160000|\n|         3|     oneplus|01-01-2023|1100000|   null|1120000|\n+----------+------------+----------+-------+-------+-------+\n\n"
     ]
    }
   ],
   "source": [
    "window = Window.partitionBy(\"product_id\").orderBy(desc(\"sales_date\"))\n",
    "last_month = product_df.withColumn(\"lead\", lead(col('sales'), 1, \"No value\").over(window=window))\\\n",
    "    .withColumn(\"lag\", lag(col('sales'), ).over(window=window))\n",
    "\n",
    "last_month.show()"
   ]
  },
  {
   "cell_type": "code",
   "execution_count": 0,
   "metadata": {
    "application/vnd.databricks.v1+cell": {
     "cellMetadata": {
      "byteLimit": 2048000,
      "rowLimit": 10000
     },
     "inputWidgets": {},
     "nuid": "1bb33046-e5e1-4bcc-a857-825c72bcb863",
     "showTitle": false,
     "tableResultSettingsMap": {},
     "title": ""
    }
   },
   "outputs": [
    {
     "output_type": "stream",
     "name": "stdout",
     "output_type": "stream",
     "text": [
      "+----------+------------+----------+-------+-------------------+\n|product_id|product_name|sales_date|  sales|previous_month_loss|\n+----------+------------+----------+-------+-------------------+\n|         1|      iphone|01-01-2023|1500000|               null|\n|         1|      iphone|01-02-2023|1300000|            1500000|\n|         1|      iphone|01-03-2023|1600000|            1300000|\n|         1|      iphone|01-04-2023|1700000|            1600000|\n|         1|      iphone|01-05-2023|1200000|            1700000|\n|         1|      iphone|01-06-2023|1100000|            1200000|\n|         2|     samsung|01-01-2023|1100000|               null|\n|         2|     samsung|01-02-2023|1120000|            1100000|\n|         2|     samsung|01-03-2023|1080000|            1120000|\n|         2|     samsung|01-04-2023|1800000|            1080000|\n|         2|     samsung|01-05-2023| 980000|            1800000|\n|         2|     samsung|01-06-2023|1100000|             980000|\n|         3|     oneplus|01-01-2023|1100000|               null|\n|         3|     oneplus|01-02-2023|1120000|            1100000|\n|         3|     oneplus|01-03-2023|1160000|            1120000|\n|         3|     oneplus|01-04-2023|1170000|            1160000|\n|         3|     oneplus|01-05-2023|1175000|            1170000|\n|         3|     oneplus|01-06-2023|1200000|            1175000|\n+----------+------------+----------+-------+-------------------+\n\n"
     ]
    }
   ],
   "source": [
    "window = Window.partitionBy(\"product_id\").orderBy(\"sales_date\")\n",
    "last_month = product_df.withColumn(\"previous_month_loss\", lag(col('sales'), 1, \"null\").over(window=window))\n",
    "\n",
    "last_month.show()"
   ]
  },
  {
   "cell_type": "code",
   "execution_count": 0,
   "metadata": {
    "application/vnd.databricks.v1+cell": {
     "cellMetadata": {
      "byteLimit": 2048000,
      "rowLimit": 10000
     },
     "inputWidgets": {},
     "nuid": "2b45acdb-f7bd-4055-86e8-2e24cc1e4511",
     "showTitle": false,
     "tableResultSettingsMap": {},
     "title": ""
    }
   },
   "outputs": [
    {
     "output_type": "stream",
     "name": "stdout",
     "output_type": "stream",
     "text": [
      "+----------+------------+----------+-------+-------------------+---------------+\n|product_id|product_name|sales_date|  sales|previous_month_loss|loss_percentage|\n+----------+------------+----------+-------+-------------------+---------------+\n|         1|      iphone|01-01-2023|1500000|               null|           null|\n|         1|      iphone|01-02-2023|1300000|            1500000|          -15.0|\n|         1|      iphone|01-03-2023|1600000|            1300000|           19.0|\n|         1|      iphone|01-04-2023|1700000|            1600000|            6.0|\n|         1|      iphone|01-05-2023|1200000|            1700000|          -42.0|\n|         1|      iphone|01-06-2023|1100000|            1200000|           -9.0|\n|         2|     samsung|01-01-2023|1100000|               null|           null|\n|         2|     samsung|01-02-2023|1120000|            1100000|            2.0|\n|         2|     samsung|01-03-2023|1080000|            1120000|           -4.0|\n|         2|     samsung|01-04-2023|1800000|            1080000|           40.0|\n|         2|     samsung|01-05-2023| 980000|            1800000|          -84.0|\n|         2|     samsung|01-06-2023|1100000|             980000|           11.0|\n|         3|     oneplus|01-01-2023|1100000|               null|           null|\n|         3|     oneplus|01-02-2023|1120000|            1100000|            2.0|\n|         3|     oneplus|01-03-2023|1160000|            1120000|            3.0|\n|         3|     oneplus|01-04-2023|1170000|            1160000|            1.0|\n|         3|     oneplus|01-05-2023|1175000|            1170000|            0.0|\n|         3|     oneplus|01-06-2023|1200000|            1175000|            2.0|\n+----------+------------+----------+-------+-------------------+---------------+\n\n"
     ]
    }
   ],
   "source": [
    "window = Window.partitionBy(\"product_id\").orderBy(\"sales_date\")\n",
    "last_month = last_month.withColumn(\"loss_percentage\",  round(((col('sales') - col('previous_month_loss'))/ col('sales'))*100))\n",
    "\n",
    "last_month.show()"
   ]
  },
  {
   "cell_type": "code",
   "execution_count": 0,
   "metadata": {
    "application/vnd.databricks.v1+cell": {
     "cellMetadata": {
      "byteLimit": 2048000,
      "rowLimit": 10000
     },
     "inputWidgets": {},
     "nuid": "421e7d67-6916-4342-8b39-7474d64eefd4",
     "showTitle": false,
     "tableResultSettingsMap": {},
     "title": ""
    }
   },
   "outputs": [
    {
     "output_type": "stream",
     "name": "stdout",
     "output_type": "stream",
     "text": [
      "+----------+------------+----------+-------+-----------+-------+\n|product_id|product_name|sales_date|  sales|Total Sales|Sales %|\n+----------+------------+----------+-------+-----------+-------+\n|         1|      iphone|01-01-2023|1500000|    8400000|  17.86|\n|         1|      iphone|01-02-2023|1300000|    8400000|  15.48|\n|         1|      iphone|01-03-2023|1600000|    8400000|  19.05|\n|         1|      iphone|01-04-2023|1700000|    8400000|  20.24|\n|         1|      iphone|01-05-2023|1200000|    8400000|  14.29|\n|         1|      iphone|01-06-2023|1100000|    8400000|   13.1|\n|         3|     oneplus|01-01-2023|1100000|    6925000|  15.88|\n|         3|     oneplus|01-02-2023|1120000|    6925000|  16.17|\n|         3|     oneplus|01-03-2023|1160000|    6925000|  16.75|\n|         3|     oneplus|01-04-2023|1170000|    6925000|   16.9|\n|         3|     oneplus|01-05-2023|1175000|    6925000|  16.97|\n|         3|     oneplus|01-06-2023|1200000|    6925000|  17.33|\n|         2|     samsung|01-01-2023|1100000|    7180000|  15.32|\n|         2|     samsung|01-02-2023|1120000|    7180000|   15.6|\n|         2|     samsung|01-03-2023|1080000|    7180000|  15.04|\n|         2|     samsung|01-04-2023|1800000|    7180000|  25.07|\n|         2|     samsung|01-05-2023| 980000|    7180000|  13.65|\n|         2|     samsung|01-06-2023|1100000|    7180000|  15.32|\n+----------+------------+----------+-------+-----------+-------+\n\n"
     ]
    }
   ],
   "source": [
    "phone_window = Window.partitionBy(\"product_name\")\n",
    "\n",
    "monthly_sales_df = product_df.withColumn(\"Total Sales\",sum(col(\"sales\")).over(phone_window))\\\n",
    " .withColumn(\"Sales %\",round((col(\"sales\")/col(\"Total Sales\"))*100,2))\n",
    "\n",
    "monthly_sales_df.show()\n"
   ]
  },
  {
   "cell_type": "code",
   "execution_count": 0,
   "metadata": {
    "application/vnd.databricks.v1+cell": {
     "cellMetadata": {
      "byteLimit": 2048000,
      "rowLimit": 10000
     },
     "inputWidgets": {},
     "nuid": "49721090-e8dd-4a69-90b3-b10ed66f1cfd",
     "showTitle": false,
     "tableResultSettingsMap": {},
     "title": ""
    }
   },
   "outputs": [
    {
     "output_type": "stream",
     "name": "stdout",
     "output_type": "stream",
     "text": [
      "+----------+------------+----------+-------+-----------+----------+\n|product_id|product_name|sales_date|  sales|first_sales|last_sales|\n+----------+------------+----------+-------+-----------+----------+\n|         1|      iphone|01-01-2023|1500000|    1500000|   1100000|\n|         1|      iphone|01-02-2023|1300000|    1500000|   1100000|\n|         1|      iphone|01-03-2023|1600000|    1500000|   1100000|\n|         1|      iphone|01-04-2023|1700000|    1500000|   1100000|\n|         1|      iphone|01-05-2023|1200000|    1500000|   1100000|\n|         1|      iphone|01-06-2023|1100000|    1500000|   1100000|\n|         2|     samsung|01-01-2023|1100000|    1100000|   1100000|\n|         2|     samsung|01-02-2023|1120000|    1100000|   1100000|\n|         2|     samsung|01-03-2023|1080000|    1100000|   1100000|\n|         2|     samsung|01-04-2023|1800000|    1100000|   1100000|\n|         2|     samsung|01-05-2023| 980000|    1100000|   1100000|\n|         2|     samsung|01-06-2023|1100000|    1100000|   1100000|\n|         3|     oneplus|01-01-2023|1100000|    1100000|   1200000|\n|         3|     oneplus|01-02-2023|1120000|    1100000|   1200000|\n|         3|     oneplus|01-03-2023|1160000|    1100000|   1200000|\n|         3|     oneplus|01-04-2023|1170000|    1100000|   1200000|\n|         3|     oneplus|01-05-2023|1175000|    1100000|   1200000|\n|         3|     oneplus|01-06-2023|1200000|    1100000|   1200000|\n+----------+------------+----------+-------+-----------+----------+\n\n"
     ]
    }
   ],
   "source": [
    "window = Window.partitionBy(\"product_id\").orderBy(\"sales_date\").rowsBetween(Window.unboundedPreceding, Window.unboundedFollowing)\n",
    "product_df.withColumn(\"first_sales\", first(\"sales\").over(window))\\\n",
    "    .withColumn(\"last_sales\", last(\"sales\").over(window)).show()"
   ]
  },
  {
   "cell_type": "code",
   "execution_count": 0,
   "metadata": {
    "application/vnd.databricks.v1+cell": {
     "cellMetadata": {
      "byteLimit": 2048000,
      "rowLimit": 10000
     },
     "inputWidgets": {},
     "nuid": "47765a9f-9e08-4c6e-9ad5-c3d0d28d8c91",
     "showTitle": false,
     "tableResultSettingsMap": {},
     "title": ""
    }
   },
   "outputs": [
    {
     "output_type": "stream",
     "name": "stdout",
     "output_type": "stream",
     "text": [
      "== Physical Plan ==\nAdaptiveSparkPlan isFinalPlan=false\n+- Window [product_id#126736L, product_name#126737, sales_date#126738, sales#126739L, first(sales#126739L, false) windowspecdefinition(product_id#126736L, sales_date#126738 ASC NULLS FIRST, specifiedwindowframe(RowFrame, unboundedpreceding$(), unboundedfollowing$())) AS first_sales#126950L, last(sales#126739L, false) windowspecdefinition(product_id#126736L, sales_date#126738 ASC NULLS FIRST, specifiedwindowframe(RowFrame, unboundedpreceding$(), unboundedfollowing$())) AS last_sales#126957L], [product_id#126736L], [sales_date#126738 ASC NULLS FIRST]\n   +- Sort [product_id#126736L ASC NULLS FIRST, sales_date#126738 ASC NULLS FIRST], false, 0\n      +- Exchange hashpartitioning(product_id#126736L, 200), ENSURE_REQUIREMENTS, [plan_id=5154]\n         +- Scan ExistingRDD[product_id#126736L,product_name#126737,sales_date#126738,sales#126739L]\n\n\n"
     ]
    }
   ],
   "source": [
    "product_df.withColumn(\"first_sales\", first(\"sales\").over(window))\\\n",
    "    .withColumn(\"last_sales\", last(\"sales\").over(window)).explain()"
   ]
  },
  {
   "cell_type": "markdown",
   "metadata": {
    "application/vnd.databricks.v1+cell": {
     "cellMetadata": {},
     "inputWidgets": {},
     "nuid": "0b8b868b-adc5-403f-94a3-e3d56efe21de",
     "showTitle": false,
     "tableResultSettingsMap": {},
     "title": ""
    }
   },
   "source": [
    "-------------------------------------------------- Use of group by--------------------------------------------------"
   ]
  },
  {
   "cell_type": "code",
   "execution_count": 0,
   "metadata": {
    "application/vnd.databricks.v1+cell": {
     "cellMetadata": {
      "byteLimit": 2048000,
      "rowLimit": 10000
     },
     "inputWidgets": {},
     "nuid": "6da2cc39-e57e-4062-8aad-7c2605aaa142",
     "showTitle": false,
     "tableResultSettingsMap": {},
     "title": ""
    }
   },
   "outputs": [
    {
     "output_type": "stream",
     "name": "stdout",
     "output_type": "stream",
     "text": [
      "+------------+----------+\n|product_name|sum(sales)|\n+------------+----------+\n|      iphone|   8400000|\n|     samsung|   7180000|\n|     oneplus|   6925000|\n+------------+----------+\n\n"
     ]
    }
   ],
   "source": [
    "product_df.groupBy(\"product_name\").sum(\"sales\").show()"
   ]
  },
  {
   "cell_type": "code",
   "execution_count": 0,
   "metadata": {
    "application/vnd.databricks.v1+cell": {
     "cellMetadata": {
      "byteLimit": 2048000,
      "rowLimit": 10000
     },
     "inputWidgets": {},
     "nuid": "6517ce9b-f6f9-4004-9659-ca3978dc59fa",
     "showTitle": false,
     "tableResultSettingsMap": {},
     "title": ""
    }
   },
   "outputs": [
    {
     "output_type": "stream",
     "name": "stdout",
     "output_type": "stream",
     "text": [
      "+------------+-----------+-------------+\n|product_name|total_sales|highest_sales|\n+------------+-----------+-------------+\n|      iphone|    8400000|      1700000|\n|     samsung|    7180000|      1800000|\n|     oneplus|    6925000|      1200000|\n+------------+-----------+-------------+\n\n"
     ]
    }
   ],
   "source": [
    "product_df.groupBy(\"product_name\").agg(sum(\"sales\").alias(\"total_sales\"), max(\"sales\").alias(\"highest_sales\")).show()"
   ]
  },
  {
   "cell_type": "markdown",
   "metadata": {
    "application/vnd.databricks.v1+cell": {
     "cellMetadata": {},
     "inputWidgets": {},
     "nuid": "556d6828-b317-4890-83af-5c5ded0f2356",
     "showTitle": false,
     "tableResultSettingsMap": {},
     "title": ""
    }
   },
   "source": [
    "-------------------------------------------------- Using alias, col and more spark functions-------------------------------------------"
   ]
  },
  {
   "cell_type": "code",
   "execution_count": 0,
   "metadata": {
    "application/vnd.databricks.v1+cell": {
     "cellMetadata": {
      "byteLimit": 2048000,
      "rowLimit": 10000
     },
     "inputWidgets": {},
     "nuid": "00636abf-7bc2-4b8c-896c-33fd2fed8342",
     "showTitle": false,
     "tableResultSettingsMap": {},
     "title": ""
    }
   },
   "outputs": [
    {
     "output_type": "stream",
     "name": "stdout",
     "output_type": "stream",
     "text": [
      "+----------+------------+-------+\n|product_id|product_name|  sales|\n+----------+------------+-------+\n|         1|      iphone|1500000|\n|         2|     samsung|1100000|\n|         3|     oneplus|1100000|\n|         1|      iphone|1300000|\n|         2|     samsung|1120000|\n|         3|     oneplus|1120000|\n|         1|      iphone|1600000|\n|         2|     samsung|1080000|\n|         3|     oneplus|1160000|\n|         1|      iphone|1700000|\n|         2|     samsung|1800000|\n|         3|     oneplus|1170000|\n|         1|      iphone|1200000|\n|         2|     samsung| 980000|\n|         3|     oneplus|1175000|\n|         1|      iphone|1100000|\n|         2|     samsung|1100000|\n|         3|     oneplus|1200000|\n+----------+------------+-------+\n\n"
     ]
    }
   ],
   "source": [
    "product_df.select(col(\"product_id\"), col(\"product_name\"), col(\"sales\")).show()"
   ]
  },
  {
   "cell_type": "code",
   "execution_count": 0,
   "metadata": {
    "application/vnd.databricks.v1+cell": {
     "cellMetadata": {
      "byteLimit": 2048000,
      "rowLimit": 10000
     },
     "inputWidgets": {},
     "nuid": "57faa9dc-7831-445a-a46d-cfbb23bc4d1f",
     "showTitle": false,
     "tableResultSettingsMap": {},
     "title": ""
    }
   },
   "outputs": [
    {
     "output_type": "stream",
     "name": "stdout",
     "output_type": "stream",
     "text": [
      "+---+-------------------+-------+\n| Id|Name of the product|  Price|\n+---+-------------------+-------+\n|  1|             iphone|1500000|\n|  2|            samsung|1100000|\n|  3|            oneplus|1100000|\n|  1|             iphone|1300000|\n|  2|            samsung|1120000|\n|  3|            oneplus|1120000|\n|  1|             iphone|1600000|\n|  2|            samsung|1080000|\n|  3|            oneplus|1160000|\n|  1|             iphone|1700000|\n|  2|            samsung|1800000|\n|  3|            oneplus|1170000|\n|  1|             iphone|1200000|\n|  2|            samsung| 980000|\n|  3|            oneplus|1175000|\n|  1|             iphone|1100000|\n|  2|            samsung|1100000|\n|  3|            oneplus|1200000|\n+---+-------------------+-------+\n\n"
     ]
    }
   ],
   "source": [
    "product_df.select(col(\"product_id\").alias(\"Id\"), col(\"product_name\").alias(\"Name of the product\"), col(\"sales\").alias(\"Price\")).show()"
   ]
  },
  {
   "cell_type": "code",
   "execution_count": 0,
   "metadata": {
    "application/vnd.databricks.v1+cell": {
     "cellMetadata": {
      "byteLimit": 2048000,
      "rowLimit": 10000
     },
     "inputWidgets": {},
     "nuid": "4eea2e7a-fe0c-415b-b7c1-adaf457c312f",
     "showTitle": false,
     "tableResultSettingsMap": {},
     "title": ""
    }
   },
   "outputs": [
    {
     "output_type": "stream",
     "name": "stdout",
     "output_type": "stream",
     "text": [
      "+-----------+\n|(sales + 5)|\n+-----------+\n|    1500005|\n|    1100005|\n|    1100005|\n|    1300005|\n|    1120005|\n|    1120005|\n|    1600005|\n|    1080005|\n|    1160005|\n|    1700005|\n|    1800005|\n|    1170005|\n|    1200005|\n|     980005|\n|    1175005|\n|    1100005|\n|    1100005|\n|    1200005|\n+-----------+\n\n"
     ]
    }
   ],
   "source": [
    "product_df.select(expr(\"sales + 5\")).show()"
   ]
  },
  {
   "cell_type": "code",
   "execution_count": 0,
   "metadata": {
    "application/vnd.databricks.v1+cell": {
     "cellMetadata": {
      "byteLimit": 2048000,
      "rowLimit": 10000
     },
     "inputWidgets": {},
     "nuid": "6fc039dd-951a-402d-a6c2-8d51faaab304",
     "showTitle": false,
     "tableResultSettingsMap": {},
     "title": ""
    }
   },
   "outputs": [
    {
     "output_type": "stream",
     "name": "stdout",
     "output_type": "stream",
     "text": [
      "+-------+----------+\n|   name|  Id_Sales|\n+-------+----------+\n| iphone|1  1500000|\n|samsung|2  1100000|\n|oneplus|3  1100000|\n| iphone|1  1300000|\n|samsung|2  1120000|\n|oneplus|3  1120000|\n| iphone|1  1600000|\n|samsung|2  1080000|\n|oneplus|3  1160000|\n| iphone|1  1700000|\n|samsung|2  1800000|\n|oneplus|3  1170000|\n| iphone|1  1200000|\n|samsung| 2  980000|\n|oneplus|3  1175000|\n| iphone|1  1100000|\n|samsung|2  1100000|\n|oneplus|3  1200000|\n+-------+----------+\n\n"
     ]
    }
   ],
   "source": [
    "product_df.select(expr(\"product_name as name\"),expr(\"concat(product_id, '  ' ,sales) as Id_Sales\")).show()"
   ]
  },
  {
   "cell_type": "markdown",
   "metadata": {
    "application/vnd.databricks.v1+cell": {
     "cellMetadata": {},
     "inputWidgets": {},
     "nuid": "a2d82b86-d97e-4295-a60d-6ebf7893a7a1",
     "showTitle": false,
     "tableResultSettingsMap": {},
     "title": ""
    }
   },
   "source": [
    "------------------------------------------------- Get the percentage difference between 2 years----------------------------------------"
   ]
  },
  {
   "cell_type": "code",
   "execution_count": 0,
   "metadata": {
    "application/vnd.databricks.v1+cell": {
     "cellMetadata": {
      "byteLimit": 2048000,
      "rowLimit": 10000
     },
     "inputWidgets": {},
     "nuid": "a08abd59-d489-4201-915e-814b01d108d2",
     "showTitle": false,
     "tableResultSettingsMap": {},
     "title": ""
    }
   },
   "outputs": [
    {
     "output_type": "display_data",
     "data": {
      "text/html": [
       "<style scoped>\n",
       "  .table-result-container {\n",
       "    max-height: 300px;\n",
       "    overflow: auto;\n",
       "  }\n",
       "  table, th, td {\n",
       "    border: 1px solid black;\n",
       "    border-collapse: collapse;\n",
       "  }\n",
       "  th, td {\n",
       "    padding: 5px;\n",
       "  }\n",
       "  th {\n",
       "    text-align: left;\n",
       "  }\n",
       "</style><div class='table-result-container'><table class='table-result'><thead style='background-color: white'><tr><th>year</th><th>category</th><th>total_sales</th></tr></thead><tbody><tr><td>2021</td><td>electronics</td><td>85000</td></tr><tr><td>2022</td><td>electronics</td><td>100000</td></tr><tr><td>2023</td><td>electronics</td><td>120000</td></tr><tr><td>2021</td><td>fashion</td><td>45000</td></tr><tr><td>2022</td><td>fashion</td><td>60000</td></tr><tr><td>2023</td><td>fashion</td><td>75000</td></tr><tr><td>2021</td><td>furniture</td><td>30000</td></tr><tr><td>2022</td><td>furniture</td><td>35000</td></tr><tr><td>2023</td><td>furniture</td><td>40000</td></tr></tbody></table></div>"
      ]
     },
     "metadata": {
      "application/vnd.databricks.v1+output": {
       "addedWidgets": {},
       "aggData": [],
       "aggError": "",
       "aggOverflow": false,
       "aggSchema": [],
       "aggSeriesLimitReached": false,
       "aggType": "",
       "arguments": {},
       "columnCustomDisplayInfos": {},
       "data": [
        [
         2021,
         "electronics",
         85000
        ],
        [
         2022,
         "electronics",
         100000
        ],
        [
         2023,
         "electronics",
         120000
        ],
        [
         2021,
         "fashion",
         45000
        ],
        [
         2022,
         "fashion",
         60000
        ],
        [
         2023,
         "fashion",
         75000
        ],
        [
         2021,
         "furniture",
         30000
        ],
        [
         2022,
         "furniture",
         35000
        ],
        [
         2023,
         "furniture",
         40000
        ]
       ],
       "datasetInfos": [],
       "dbfsResultPath": null,
       "isJsonSchema": true,
       "metadata": {},
       "overflow": false,
       "plotOptions": {
        "customPlotOptions": {},
        "displayType": "table",
        "pivotAggregation": null,
        "pivotColumns": null,
        "xColumns": null,
        "yColumns": null
       },
       "removedWidgets": [],
       "schema": [
        {
         "metadata": "{}",
         "name": "year",
         "type": "\"long\""
        },
        {
         "metadata": "{}",
         "name": "category",
         "type": "\"string\""
        },
        {
         "metadata": "{}",
         "name": "total_sales",
         "type": "\"long\""
        }
       ],
       "type": "table"
      }
     },
     "output_type": "display_data"
    }
   ],
   "source": [
    "data = [\n",
    "    (2021, \"electronics\", 85000),\n",
    "    (2022, \"electronics\", 100000),\n",
    "    (2023, \"electronics\", 120000),\n",
    "    (2021, \"fashion\", 45000),\n",
    "    (2022, \"fashion\", 60000),\n",
    "    (2023, \"fashion\", 75000),\n",
    "    (2021, \"furniture\", 30000),\n",
    "    (2022, \"furniture\", 35000),\n",
    "    (2023, \"furniture\", 40000),\n",
    "]\n",
    "\n",
    "schema = [\"year\", \"category\", \"total_sales\"]\n",
    "\n",
    "stats_df = spark.createDataFrame(data, schema)\n",
    "\n",
    "stats_df.display()\n"
   ]
  },
  {
   "cell_type": "code",
   "execution_count": 0,
   "metadata": {
    "application/vnd.databricks.v1+cell": {
     "cellMetadata": {
      "byteLimit": 2048000,
      "rowLimit": 10000
     },
     "inputWidgets": {},
     "nuid": "0a6a8c6f-43fe-4514-86ed-f04fa8437681",
     "showTitle": false,
     "tableResultSettingsMap": {},
     "title": ""
    }
   },
   "outputs": [
    {
     "output_type": "stream",
     "name": "stdout",
     "output_type": "stream",
     "text": [
      "+----+-----------+-----------+---------------+\n|year|   category|total_sales|prev_year_sales|\n+----+-----------+-----------+---------------+\n|2021|electronics|      85000|           null|\n|2022|electronics|     100000|          85000|\n|2023|electronics|     120000|         100000|\n|2021|    fashion|      45000|           null|\n|2022|    fashion|      60000|          45000|\n|2023|    fashion|      75000|          60000|\n|2021|  furniture|      30000|           null|\n|2022|  furniture|      35000|          30000|\n|2023|  furniture|      40000|          35000|\n+----+-----------+-----------+---------------+\n\n"
     ]
    }
   ],
   "source": [
    "from pyspark.sql import Window\n",
    "\n",
    "window = Window.partitionBy(\"category\").orderBy(\"year\")\n",
    "stat_df = stats_df.withColumn(\"prev_year_sales\", lag(\"total_sales\", 1).over(window))\n",
    "\n",
    "stat_df.show()\n"
   ]
  },
  {
   "cell_type": "code",
   "execution_count": 0,
   "metadata": {
    "application/vnd.databricks.v1+cell": {
     "cellMetadata": {
      "byteLimit": 2048000,
      "rowLimit": 10000
     },
     "inputWidgets": {},
     "nuid": "ab4e0fec-6d78-4e70-af72-af2fa62c1fc8",
     "showTitle": false,
     "tableResultSettingsMap": {},
     "title": ""
    }
   },
   "outputs": [
    {
     "output_type": "stream",
     "name": "stdout",
     "output_type": "stream",
     "text": [
      "+----+-----------+-----------+---------------+---------------+\n|year|   category|total_sales|prev_year_sales|percentage_diff|\n+----+-----------+-----------+---------------+---------------+\n|2021|electronics|      85000|           null|           null|\n|2022|electronics|     100000|          85000|          17.65|\n|2023|electronics|     120000|         100000|           20.0|\n|2021|    fashion|      45000|           null|           null|\n|2022|    fashion|      60000|          45000|          33.33|\n|2023|    fashion|      75000|          60000|           25.0|\n|2021|  furniture|      30000|           null|           null|\n|2022|  furniture|      35000|          30000|          16.67|\n|2023|  furniture|      40000|          35000|          14.29|\n+----+-----------+-----------+---------------+---------------+\n\n"
     ]
    }
   ],
   "source": [
    "sales_per_df = stat_df.withColumn(\n",
    "    \"percentage_diff\",\n",
    "    round(((col(\"total_sales\") - col(\"prev_year_sales\")) / col(\"prev_year_sales\")) * 100, 2)\n",
    ")\n",
    "\n",
    "sales_per_df.show()"
   ]
  },
  {
   "cell_type": "markdown",
   "metadata": {
    "application/vnd.databricks.v1+cell": {
     "cellMetadata": {},
     "inputWidgets": {},
     "nuid": "6ff5edd5-7342-4e7c-a121-59bc10a98ac3",
     "showTitle": false,
     "tableResultSettingsMap": {},
     "title": ""
    }
   },
   "source": [
    "-------------------------------------------- Use pivot and aggregation----------------------------------------------"
   ]
  },
  {
   "cell_type": "code",
   "execution_count": 0,
   "metadata": {
    "application/vnd.databricks.v1+cell": {
     "cellMetadata": {
      "byteLimit": 2048000,
      "rowLimit": 10000
     },
     "inputWidgets": {},
     "nuid": "b5694b07-c116-44de-b8a7-4ff467dbb4d5",
     "showTitle": false,
     "tableResultSettingsMap": {},
     "title": ""
    }
   },
   "outputs": [
    {
     "output_type": "stream",
     "name": "stdout",
     "output_type": "stream",
     "text": [
      "+-----------+-----+------+------+\n|   category| 2021|  2022|  2023|\n+-----------+-----+------+------+\n|  furniture|30000| 35000| 40000|\n|electronics|85000|100000|120000|\n|    fashion|45000| 60000| 75000|\n+-----------+-----+------+------+\n\n"
     ]
    }
   ],
   "source": [
    "stats_df.groupBy(\"category\").pivot(\"year\").agg(sum(\"total_sales\")).show()\n"
   ]
  },
  {
   "cell_type": "code",
   "execution_count": 0,
   "metadata": {
    "application/vnd.databricks.v1+cell": {
     "cellMetadata": {},
     "inputWidgets": {},
     "nuid": "ce4018c7-99cb-430d-bec1-969e58adc2aa",
     "showTitle": false,
     "tableResultSettingsMap": {},
     "title": ""
    }
   },
   "outputs": [],
   "source": []
  }
 ],
 "metadata": {
  "application/vnd.databricks.v1+notebook": {
   "computePreferences": null,
   "dashboards": [],
   "environmentMetadata": {
    "base_environment": "",
    "environment_version": "1"
   },
   "inputWidgetPreferences": null,
   "language": "python",
   "notebookMetadata": {
    "pythonIndentUnit": 4
   },
   "notebookName": "Pyspark",
   "widgets": {}
  }
 },
 "nbformat": 4,
 "nbformat_minor": 0
}